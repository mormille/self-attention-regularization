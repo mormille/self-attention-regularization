{
 "cells": [
  {
   "cell_type": "code",
   "execution_count": 1,
   "metadata": {},
   "outputs": [],
   "source": [
    "from fastai.vision.all import *\n",
    "from fastai.distributed import *\n",
    "from fastai.vision.gan import *\n",
    "from fastai.metrics import *\n",
    "from fastai.callback.tracker import SaveModelCallback, ReduceLROnPlateau\n",
    "from fastai import torch_core\n",
    "from torch import nn"
   ]
  },
  {
   "cell_type": "code",
   "execution_count": 2,
   "metadata": {},
   "outputs": [],
   "source": [
    "from models.ARViT import ARViT\n",
    "from models.unet import UNet\n",
    "from models.SAM import SAM\n",
    "from models.utils.fastai_gan import *\n",
    "from losses.attention_loss import *\n",
    "from losses.sam_loss import *"
   ]
  },
  {
   "cell_type": "code",
   "execution_count": 3,
   "metadata": {},
   "outputs": [],
   "source": [
    "torch.cuda.set_device(\"cuda:0\")\n",
    "device = torch.device(\"cuda:0\" if torch.cuda.is_available() else \"cpu\")"
   ]
  },
  {
   "cell_type": "code",
   "execution_count": 4,
   "metadata": {},
   "outputs": [],
   "source": [
    "bs=10\n",
    "H=W=256\n",
    "nclass=10\n",
    "grid_l=gm_l=16"
   ]
  },
  {
   "cell_type": "code",
   "execution_count": 5,
   "metadata": {},
   "outputs": [],
   "source": [
    "path = untar_data(URLs.IMAGENETTE)\n",
    "transform = ([*aug_transforms(),Normalize.from_stats([0.485, 0.456, 0.406], [0.229, 0.224, 0.225])])\n",
    "data = DataBlock(blocks=(ImageBlock, CategoryBlock), \n",
    "                 get_items=get_image_files, \n",
    "                 splitter=RandomSplitter(),\n",
    "                 get_y=parent_label,\n",
    "                 item_tfms=Resize(H,W),\n",
    "                 batch_tfms=transform)\n",
    "dloader = data.dataloaders(path,bs=bs)"
   ]
  },
  {
   "cell_type": "code",
   "execution_count": 6,
   "metadata": {},
   "outputs": [],
   "source": [
    "gen = UNet(n_channels=3, n_classes=3, bilinear=False)\n",
    "crt = SAM(enc_Layers=6, nhead=8, nclass=nclass, bs=bs, hidden_dim=512, H=H, W=W, grid_l=grid_l, gm_patch=gm_l)"
   ]
  },
  {
   "cell_type": "code",
   "execution_count": 7,
   "metadata": {},
   "outputs": [],
   "source": [
    "generator_loss = GeneratorLoss()\n",
    "critic_loss = CriticLoss()"
   ]
  },
  {
   "cell_type": "code",
   "execution_count": 8,
   "metadata": {},
   "outputs": [],
   "source": [
    "def Acc(preds,target): \n",
    "    if len(preds) == 2:\n",
    "        fakePreds = learner.gan_trainer.critic(preds)\n",
    "        _, pred = torch.max(fakePreds[0], 1)\n",
    "        return (pred == target).float().mean()\n",
    "    else:\n",
    "        _, pred = torch.max(preds[0], 1)\n",
    "\n",
    "        return (pred == target).float().mean()\n",
    "\n",
    "MSE = nn.MSELoss()    \n",
    "def Lrec(preds,target):\n",
    "    if len(preds) == 2:\n",
    "        Lrec = MSE(preds[0],preds[1]).float().mean()\n",
    "    else:\n",
    "        Lrec = 0.000\n",
    "  \n",
    "    return Lrec\n",
    "\n",
    "LCA = Attention_loss()\n",
    "def La1(preds,target,layer=0):\n",
    "    if len(preds) == 2:\n",
    "        fakePreds = learner.gan_trainer.critic(preds[0])\n",
    "        Latt = LCA(fakePreds[1][layer], fakePreds[3])\n",
    "        return (0.01*Latt).float().mean()\n",
    "    else:\n",
    "        Latt = LCA(preds[1][layer], preds[3])   \n",
    "        return (0.01*Latt).float().mean()\n",
    "    \n",
    "def La2(preds,target,layer=1):\n",
    "    if len(preds) == 2:\n",
    "        fakePreds = learner.gan_trainer.critic(preds[0])\n",
    "        Latt = LCA(fakePreds[1][layer], fakePreds[3])\n",
    "        return (0.01*Latt).float().mean()\n",
    "    else:\n",
    "        Latt = LCA(preds[1][layer], preds[3])   \n",
    "        return (0.01*Latt).float().mean()\n",
    "\n",
    "def La3(preds,target,layer=2):\n",
    "    if len(preds) == 2:\n",
    "        fakePreds = learner.gan_trainer.critic(preds[0])\n",
    "        Latt = LCA(fakePreds[1][layer], fakePreds[3])\n",
    "        return (0.01*Latt).float().mean()\n",
    "    else:\n",
    "        Latt = LCA(preds[1][layer], preds[3])   \n",
    "        return (0.01*Latt).float().mean()\n",
    "    \n",
    "def La4(preds,target,layer=3):\n",
    "    if len(preds) == 2:\n",
    "        fakePreds = learner.gan_trainer.critic(preds[0])\n",
    "        Latt = LCA(fakePreds[1][layer], fakePreds[3])\n",
    "        return (0.01*Latt).float().mean()\n",
    "    else:\n",
    "        Latt = LCA(preds[1][layer], preds[3])   \n",
    "        return (0.01*Latt).float().mean()\n",
    "    \n",
    "def La5(preds,target,layer=4):\n",
    "    if len(preds) == 2:\n",
    "        fakePreds = learner.gan_trainer.critic(preds[0])\n",
    "        Latt = LCA(fakePreds[1][layer], fakePreds[3])\n",
    "        return (0.01*Latt).float().mean()\n",
    "    else:\n",
    "        Latt = LCA(preds[1][layer], preds[3])   \n",
    "        return (0.01*Latt).float().mean()\n",
    "    \n",
    "def La6(preds,target,layer=5):\n",
    "    if len(preds) == 2:\n",
    "        fakePreds = learner.gan_trainer.critic(preds[0])\n",
    "        Latt = LCA(fakePreds[1][layer], fakePreds[3])\n",
    "        return (0.01*Latt).float().mean()\n",
    "    else:\n",
    "        Latt = LCA(preds[1][layer], preds[3])   \n",
    "        return (0.01*Latt).float().mean()\n",
    "\n",
    "c_entropy = nn.CrossEntropyLoss() \n",
    "def CrossEnt(preds,target):\n",
    "    if len(preds) == 2:\n",
    "        fakePreds = learner.gan_trainer.critic(preds)\n",
    "        Loss = c_entropy(fakePreds[0], target)\n",
    "        return (Loss).float().mean()\n",
    "    else:\n",
    "        Loss = c_entropy(preds[0], target)\n",
    "        return (Loss).float().mean()\n",
    "\n",
    "LM = Misdirection_loss()\n",
    "def Lm(preds,target,layers=[0,1,2,3,4,5],gammas=[0.0002,0.0002,0.0002,0.0002,0.0002,0.0002]):\n",
    "    if len(preds) == 2:\n",
    "        fakePreds = learner.gan_trainer.critic(preds[0])\n",
    "        Lm = 0.0\n",
    "        for i in range(len(layers)):\n",
    "            Lm = Lm + gammas[i]*LM(fakePreds[1][layers[i]], fakePreds[3])\n",
    "        return (Lm).float().mean()\n",
    "    else:\n",
    "        Lm = 0.0\n",
    "        for i in range(len(layers)):\n",
    "            Lm = Lm + gammas[i]*LM(preds[1][layers[i]],preds[3])\n",
    "        return (Lm).float().mean()"
   ]
  },
  {
   "cell_type": "code",
   "execution_count": 9,
   "metadata": {},
   "outputs": [],
   "source": [
    "Learner._do_one_batch = __do_one_batch"
   ]
  },
  {
   "cell_type": "code",
   "execution_count": 10,
   "metadata": {},
   "outputs": [],
   "source": [
    "learner = GANLearner(dloader,gen,crt,generator_loss,critic_loss,gen_first=False, metrics=[Acc,CrossEnt,Lm,Lrec,La1,La2,La3,La4,La5,La6])\n"
   ]
  },
  {
   "cell_type": "code",
   "execution_count": null,
   "metadata": {},
   "outputs": [],
   "source": []
  },
  {
   "cell_type": "code",
   "execution_count": 11,
   "metadata": {},
   "outputs": [
    {
     "name": "stderr",
     "output_type": "stream",
     "text": [
      "/home/atsumilab/anaconda3/envs/Luiz2/lib/python3.8/site-packages/fastai/callback/core.py:50: UserWarning: You are shadowing an attribute (generator) that exists in the learner. Use `self.learn.generator` to avoid this\n",
      "  warn(f\"You are shadowing an attribute ({name}) that exists in the learner. Use `self.learn.{name}` to avoid this\")\n",
      "/home/atsumilab/anaconda3/envs/Luiz2/lib/python3.8/site-packages/fastai/callback/core.py:50: UserWarning: You are shadowing an attribute (critic) that exists in the learner. Use `self.learn.critic` to avoid this\n",
      "  warn(f\"You are shadowing an attribute ({name}) that exists in the learner. Use `self.learn.{name}` to avoid this\")\n",
      "/home/atsumilab/anaconda3/envs/Luiz2/lib/python3.8/site-packages/fastai/callback/core.py:50: UserWarning: You are shadowing an attribute (gen_mode) that exists in the learner. Use `self.learn.gen_mode` to avoid this\n",
      "  warn(f\"You are shadowing an attribute ({name}) that exists in the learner. Use `self.learn.{name}` to avoid this\")\n"
     ]
    },
    {
     "data": {
      "text/html": [
       "<table border=\"1\" class=\"dataframe\">\n",
       "  <thead>\n",
       "    <tr style=\"text-align: left;\">\n",
       "      <th>epoch</th>\n",
       "      <th>train_loss</th>\n",
       "      <th>valid_loss</th>\n",
       "      <th>Acc</th>\n",
       "      <th>CrossEnt</th>\n",
       "      <th>Lm</th>\n",
       "      <th>Lrec</th>\n",
       "      <th>La1</th>\n",
       "      <th>La2</th>\n",
       "      <th>La3</th>\n",
       "      <th>La4</th>\n",
       "      <th>La5</th>\n",
       "      <th>La6</th>\n",
       "      <th>gen_loss</th>\n",
       "      <th>crit_loss</th>\n",
       "      <th>time</th>\n",
       "    </tr>\n",
       "  </thead>\n",
       "  <tbody>\n",
       "    <tr>\n",
       "      <td>0</td>\n",
       "      <td>3.014210</td>\n",
       "      <td>0.011771</td>\n",
       "      <td>0.420463</td>\n",
       "      <td>1.712225</td>\n",
       "      <td>0.013095</td>\n",
       "      <td>0.000388</td>\n",
       "      <td>0.084784</td>\n",
       "      <td>0.083472</td>\n",
       "      <td>0.089528</td>\n",
       "      <td>0.089856</td>\n",
       "      <td>0.095301</td>\n",
       "      <td>0.092446</td>\n",
       "      <td>0.011771</td>\n",
       "      <td>2.677783</td>\n",
       "      <td>04:23</td>\n",
       "    </tr>\n",
       "    <tr>\n",
       "      <td>1</td>\n",
       "      <td>2.246221</td>\n",
       "      <td>0.011511</td>\n",
       "      <td>0.590739</td>\n",
       "      <td>1.258763</td>\n",
       "      <td>0.012611</td>\n",
       "      <td>0.000158</td>\n",
       "      <td>0.081498</td>\n",
       "      <td>0.081027</td>\n",
       "      <td>0.083655</td>\n",
       "      <td>0.084983</td>\n",
       "      <td>0.089356</td>\n",
       "      <td>0.088154</td>\n",
       "      <td>0.011511</td>\n",
       "      <td>2.839994</td>\n",
       "      <td>04:20</td>\n",
       "    </tr>\n",
       "  </tbody>\n",
       "</table>"
      ],
      "text/plain": [
       "<IPython.core.display.HTML object>"
      ]
     },
     "metadata": {},
     "output_type": "display_data"
    }
   ],
   "source": [
    "learner.fit_one_cycle(2, 5e-5)"
   ]
  },
  {
   "cell_type": "code",
   "execution_count": null,
   "metadata": {},
   "outputs": [],
   "source": []
  },
  {
   "cell_type": "code",
   "execution_count": null,
   "metadata": {},
   "outputs": [],
   "source": []
  }
 ],
 "metadata": {
  "kernelspec": {
   "display_name": "Python 3",
   "language": "python",
   "name": "python3"
  },
  "language_info": {
   "codemirror_mode": {
    "name": "ipython",
    "version": 3
   },
   "file_extension": ".py",
   "mimetype": "text/x-python",
   "name": "python",
   "nbconvert_exporter": "python",
   "pygments_lexer": "ipython3",
   "version": "3.8.2"
  }
 },
 "nbformat": 4,
 "nbformat_minor": 4
}
