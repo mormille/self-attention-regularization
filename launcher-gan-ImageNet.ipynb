{
 "cells": [
  {
   "cell_type": "code",
   "execution_count": 1,
   "metadata": {},
   "outputs": [],
   "source": [
    "from fastai.vision.all import *\n",
    "from fastai.distributed import *\n",
    "from fastai.vision.gan import *\n",
    "from fastai.callback.tracker import SaveModelCallback\n",
    "from fastprogress import fastprogress\n",
    "import torch\n",
    "import argparse\n",
    "from models.utils.joiner2 import GAN\n",
    "from models.utils.losses import *\n",
    "from models.utils.metrics import *\n",
    "from models.utils.misc import *\n",
    "from models.unet import UNet\n",
    "from models.utils.datasets import *\n",
    "\n",
    "from torchvision import datasets, transforms, models\n",
    "import torchvision.transforms as T"
   ]
  },
  {
   "cell_type": "code",
   "execution_count": 2,
   "metadata": {},
   "outputs": [],
   "source": [
    "H = 320\n",
    "W= 320\n",
    "bs = 5\n",
    "\n",
    "#seed = 1234\n",
    "#torch.manual_seed(seed)\n",
    "#torch.cuda.manual_seed(seed)"
   ]
  },
  {
   "cell_type": "code",
   "execution_count": 3,
   "metadata": {},
   "outputs": [],
   "source": [
    "H = 320\n",
    "W= 320\n",
    "bs=5\n",
    "\n",
    "#transform = T.Compose([\n",
    "#T.Resize((H,W)),\n",
    "#T.ToTensor(),\n",
    "#T.Normalize([0.485, 0.456, 0.406], [0.485, 0.456, 0.406])\n",
    "#])"
   ]
  },
  {
   "cell_type": "code",
   "execution_count": 9,
   "metadata": {},
   "outputs": [],
   "source": [
    "nclass = 10\n",
    "path = untar_data(URLs.IMAGENETTE_320)\n",
    "\n",
    "transform = ([*aug_transforms(),Normalize.from_stats([0.485, 0.456, 0.406], [0.229, 0.224, 0.225])])\n",
    "\n",
    "data = DataBlock(blocks=(ImageBlock, CategoryBlock), \n",
    "                 get_items=get_image_files, \n",
    "                 splitter=RandomSplitter(),\n",
    "                 get_y=parent_label,\n",
    "                 item_tfms=Resize(H,W),\n",
    "                 batch_tfms=transform)\n",
    "\n",
    "dloader = data.dataloaders(path/'train',bs=bs) "
   ]
  },
  {
   "cell_type": "code",
   "execution_count": 5,
   "metadata": {},
   "outputs": [],
   "source": [
    "def _do_generator_epoch(self):\n",
    "    \n",
    "    for param in self.model.generator.parameters():\n",
    "        param.requires_grad = True\n",
    "    for param in self.model.model.parameters():\n",
    "        param.requires_grad = False\n",
    "    self.model.noise_mode = True\n",
    "    self.loss_func.generator_mode = True\n",
    "    \n",
    "    self._do_epoch_train()\n",
    "    self._do_epoch_validate()\n",
    "    \n",
    "def _do_noise_critic_epoch(self):\n",
    "    \n",
    "    for param in self.model.generator.parameters():\n",
    "        param.requires_grad = False\n",
    "    fb = [\"mask\",\"penalty_mask\",\"pos\"]\n",
    "    for name, p in self.model.model.named_parameters(): \n",
    "        if name not in fb:\n",
    "            p.requires_grad_(True)\n",
    "\n",
    "    self.loss_func.generator_mode = False\n",
    "\n",
    "    self.model.noise_mode = True\n",
    "    \n",
    "    self._do_epoch_train()\n",
    "    self._do_epoch_validate()\n",
    "    \n",
    "def _do_critic_epoch(self):\n",
    "    \n",
    "    for param in self.model.generator.parameters():\n",
    "        param.requires_grad = False\n",
    "    fb = [\"mask\",\"penalty_mask\",\"pos\"]\n",
    "    for name, p in self.model.model.named_parameters(): \n",
    "        if name not in fb:\n",
    "            p.requires_grad_(True)\n",
    "\n",
    "    self.loss_func.generator_mode = False\n",
    "\n",
    "    self.model.noise_mode = False\n",
    "    \n",
    "    self._do_epoch_train()\n",
    "    self._do_epoch_validate()\n",
    "\n",
    "def _GAN_do_fit(self):\n",
    "    for epoch in range(self.n_epoch):\n",
    "        self.epoch=epoch\n",
    "        \n",
    "        #Generator Training\n",
    "        self.opt.set_hypers(lr=self.generator_lr)\n",
    "        self.lr=self.generator_lr\n",
    "        #print(self.lr)\n",
    "        self._with_events(self._do_generator_epoch, 'epoch', CancelEpochException)\n",
    "\n",
    "        #Critic Training\n",
    "        self.opt.set_hypers(lr=self.critic_lr)\n",
    "        self.lr=self.critic_lr\n",
    "        #print(self.lr)\n",
    "        self._with_events(self._do_critic_epoch, 'epoch', CancelEpochException)\n",
    "        self._with_events(self._do_noise_critic_epoch, 'epoch', CancelEpochException)\n",
    "        \n",
    "def GANfit(self, n_epoch, critic_lr=1e-6, generator_lr = 1e-3, wd=None, cbs=None, reset_opt=False):\n",
    "    with self.added_cbs(cbs):\n",
    "        if reset_opt or not self.opt: self.create_opt()\n",
    "        if wd is None: wd = self.wd\n",
    "        if wd is not None: self.opt.set_hypers(wd=wd)\n",
    "        self.critic_lr = critic_lr\n",
    "        self.generator_lr = generator_lr\n",
    "        #self.opt.set_hypers(lr=self.lr if lr is None else lr)\n",
    "        self.n_epoch = n_epoch\n",
    "        self._with_events(self._do_fit, 'fit', CancelFitException, self._end_cleanup)\n",
    "        \n",
    "Learner._do_fit = _GAN_do_fit\n",
    "Learner._do_generator_epoch = _do_generator_epoch\n",
    "Learner._do_critic_epoch = _do_critic_epoch\n",
    "Learner._do_noise_critic_epoch = _do_noise_critic_epoch\n",
    "Learner.fit = GANfit"
   ]
  },
  {
   "cell_type": "code",
   "execution_count": null,
   "metadata": {},
   "outputs": [],
   "source": []
  },
  {
   "cell_type": "code",
   "execution_count": 10,
   "metadata": {},
   "outputs": [],
   "source": [
    "GanLoss = GanLossWrapper(beta=0, gamma=0.005,sigma=1)\n",
    "\n",
    "gan = GAN(num_encoder_layers = 4, nhead=4, backbone = True, num_classes = nclass, bypass=True, hidden_dim=128, \n",
    "          batch_size=bs, image_h=H, image_w=W,grid_l=4,penalty_factor=\"2\")"
   ]
  },
  {
   "cell_type": "code",
   "execution_count": 11,
   "metadata": {},
   "outputs": [],
   "source": [
    "#critic_learn = Learner(dloader, gan, loss_func=critic_loss, metrics=[Accuracy, Critic_Attention_loss])\n",
    "#generator_learn = Learner(dloader, gan, loss_func=generator_loss, metrics=[Generator_Attention_loss, Adversarial_loss, Reconstruction_Loss])\n",
    "learner = Learner(dloader, gan, loss_func=GanLoss, metrics=[Adversarial_loss, Reconstruction_Loss, Accuracy])"
   ]
  },
  {
   "cell_type": "code",
   "execution_count": null,
   "metadata": {},
   "outputs": [],
   "source": []
  },
  {
   "cell_type": "code",
   "execution_count": 12,
   "metadata": {},
   "outputs": [
    {
     "data": {
      "text/html": [],
      "text/plain": [
       "<IPython.core.display.HTML object>"
      ]
     },
     "metadata": {},
     "output_type": "display_data"
    },
    {
     "data": {
      "text/plain": [
       "SuggestedLRs(lr_min=0.014454397559165954, lr_steep=0.0005754399462603033)"
      ]
     },
     "execution_count": 12,
     "metadata": {},
     "output_type": "execute_result"
    },
    {
     "data": {
      "image/png": "[encoded data removed]",
      "text/plain": [
       "<Figure size 432x288 with 1 Axes>"
      ]
     },
     "metadata": {
      "needs_background": "light"
     },
     "output_type": "display_data"
    }
   ],
   "source": [
    "learner.model.noise_mode = True\n",
    "for param in learner.model.generator.parameters():\n",
    "    param.requires_grad = True\n",
    "for param in learner.model.model.parameters():\n",
    "    param.requires_grad = False\n",
    "learner.model.noise_mode = True\n",
    "learner.loss_func.generator_mode = True\n",
    "learner.lr_find()"
   ]
  },
  {
   "cell_type": "code",
   "execution_count": 13,
   "metadata": {},
   "outputs": [
    {
     "data": {
      "text/html": [],
      "text/plain": [
       "<IPython.core.display.HTML object>"
      ]
     },
     "metadata": {},
     "output_type": "display_data"
    },
    {
     "data": {
      "text/plain": [
       "SuggestedLRs(lr_min=0.05248074531555176, lr_steep=0.3630780577659607)"
      ]
     },
     "execution_count": 13,
     "metadata": {},
     "output_type": "execute_result"
    },
    {
     "data": {
      "image/png": "[encoded data removed]",
      "text/plain": [
       "<Figure size 432x288 with 1 Axes>"
      ]
     },
     "metadata": {
      "needs_background": "light"
     },
     "output_type": "display_data"
    }
   ],
   "source": [
    "learner.model.noise_mode = False\n",
    "for param in learner.model.generator.parameters():\n",
    "    param.requires_grad = False\n",
    "fb = [\"mask\",\"penalty_mask\",\"pos\"]\n",
    "for name, p in learner.model.model.named_parameters(): \n",
    "    if name not in fb:\n",
    "        p.requires_grad_(True)\n",
    "learner.loss_func.generator_mode = False\n",
    "learner.lr_find()"
   ]
  },
  {
   "cell_type": "code",
   "execution_count": 14,
   "metadata": {},
   "outputs": [
    {
     "data": {
      "text/html": [
       "<table border=\"1\" class=\"dataframe\">\n",
       "  <thead>\n",
       "    <tr style=\"text-align: left;\">\n",
       "      <th>epoch</th>\n",
       "      <th>train_loss</th>\n",
       "      <th>valid_loss</th>\n",
       "      <th>Adversarial_loss</th>\n",
       "      <th>Reconstruction_Loss</th>\n",
       "      <th>Accuracy</th>\n",
       "      <th>time</th>\n",
       "    </tr>\n",
       "  </thead>\n",
       "  <tbody>\n",
       "    <tr>\n",
       "      <td>0</td>\n",
       "      <td>-0.009912</td>\n",
       "      <td>-0.012391</td>\n",
       "      <td>-2.877895</td>\n",
       "      <td>0.001998</td>\n",
       "      <td>0.107237</td>\n",
       "      <td>07:01</td>\n",
       "    </tr>\n",
       "    <tr>\n",
       "      <td>0</td>\n",
       "      <td>2.779603</td>\n",
       "      <td>2.812071</td>\n",
       "      <td>-2.812071</td>\n",
       "      <td>0.000000</td>\n",
       "      <td>0.103539</td>\n",
       "      <td>03:07</td>\n",
       "    </tr>\n",
       "    <tr>\n",
       "      <td>0</td>\n",
       "      <td>2.606866</td>\n",
       "      <td>2.663392</td>\n",
       "      <td>-2.663392</td>\n",
       "      <td>668.799927</td>\n",
       "      <td>0.088220</td>\n",
       "      <td>04:38</td>\n",
       "    </tr>\n",
       "    <tr>\n",
       "      <td>1</td>\n",
       "      <td>0.344554</td>\n",
       "      <td>0.420876</td>\n",
       "      <td>-2.881753</td>\n",
       "      <td>0.435285</td>\n",
       "      <td>0.098785</td>\n",
       "      <td>06:56</td>\n",
       "    </tr>\n",
       "    <tr>\n",
       "      <td>1</td>\n",
       "      <td>2.761771</td>\n",
       "      <td>2.927752</td>\n",
       "      <td>-2.927752</td>\n",
       "      <td>0.000000</td>\n",
       "      <td>0.098257</td>\n",
       "      <td>03:07</td>\n",
       "    </tr>\n",
       "    <tr>\n",
       "      <td>1</td>\n",
       "      <td>2.644448</td>\n",
       "      <td>2.622326</td>\n",
       "      <td>-2.622326</td>\n",
       "      <td>874.351624</td>\n",
       "      <td>0.098785</td>\n",
       "      <td>04:36</td>\n",
       "    </tr>\n",
       "  </tbody>\n",
       "</table>"
      ],
      "text/plain": [
       "<IPython.core.display.HTML object>"
      ]
     },
     "metadata": {},
     "output_type": "display_data"
    }
   ],
   "source": [
    "learner.fit(2, critic_lr=10-3, generator_lr = 1e-3)"
   ]
  },
  {
   "cell_type": "code",
   "execution_count": null,
   "metadata": {},
   "outputs": [],
   "source": []
  },
  {
   "cell_type": "code",
   "execution_count": 12,
   "metadata": {},
   "outputs": [
    {
     "name": "stdout",
     "output_type": "stream",
     "text": [
      "inc.double_conv.0.weight False\n",
      "inc.double_conv.0.bias False\n",
      "inc.double_conv.1.weight False\n",
      "inc.double_conv.1.bias False\n",
      "inc.double_conv.3.weight False\n",
      "inc.double_conv.3.bias False\n",
      "inc.double_conv.4.weight False\n",
      "inc.double_conv.4.bias False\n",
      "down1.maxpool_conv.1.double_conv.0.weight False\n",
      "down1.maxpool_conv.1.double_conv.0.bias False\n",
      "down1.maxpool_conv.1.double_conv.1.weight False\n",
      "down1.maxpool_conv.1.double_conv.1.bias False\n",
      "down1.maxpool_conv.1.double_conv.3.weight False\n",
      "down1.maxpool_conv.1.double_conv.3.bias False\n",
      "down1.maxpool_conv.1.double_conv.4.weight False\n",
      "down1.maxpool_conv.1.double_conv.4.bias False\n",
      "down2.maxpool_conv.1.double_conv.0.weight False\n",
      "down2.maxpool_conv.1.double_conv.0.bias False\n",
      "down2.maxpool_conv.1.double_conv.1.weight False\n",
      "down2.maxpool_conv.1.double_conv.1.bias False\n",
      "down2.maxpool_conv.1.double_conv.3.weight False\n",
      "down2.maxpool_conv.1.double_conv.3.bias False\n",
      "down2.maxpool_conv.1.double_conv.4.weight False\n",
      "down2.maxpool_conv.1.double_conv.4.bias False\n",
      "down3.maxpool_conv.1.double_conv.0.weight False\n",
      "down3.maxpool_conv.1.double_conv.0.bias False\n",
      "down3.maxpool_conv.1.double_conv.1.weight False\n",
      "down3.maxpool_conv.1.double_conv.1.bias False\n",
      "down3.maxpool_conv.1.double_conv.3.weight False\n",
      "down3.maxpool_conv.1.double_conv.3.bias False\n",
      "down3.maxpool_conv.1.double_conv.4.weight False\n",
      "down3.maxpool_conv.1.double_conv.4.bias False\n",
      "up2.up.weight False\n",
      "up2.up.bias False\n",
      "up2.conv.double_conv.0.weight False\n",
      "up2.conv.double_conv.0.bias False\n",
      "up2.conv.double_conv.1.weight False\n",
      "up2.conv.double_conv.1.bias False\n",
      "up2.conv.double_conv.3.weight False\n",
      "up2.conv.double_conv.3.bias False\n",
      "up2.conv.double_conv.4.weight False\n",
      "up2.conv.double_conv.4.bias False\n",
      "up3.up.weight False\n",
      "up3.up.bias False\n",
      "up3.conv.double_conv.0.weight False\n",
      "up3.conv.double_conv.0.bias False\n",
      "up3.conv.double_conv.1.weight False\n",
      "up3.conv.double_conv.1.bias False\n",
      "up3.conv.double_conv.3.weight False\n",
      "up3.conv.double_conv.3.bias False\n",
      "up3.conv.double_conv.4.weight False\n",
      "up3.conv.double_conv.4.bias False\n",
      "up4.up.weight False\n",
      "up4.up.bias False\n",
      "up4.conv.double_conv.0.weight False\n",
      "up4.conv.double_conv.0.bias False\n",
      "up4.conv.double_conv.1.weight False\n",
      "up4.conv.double_conv.1.bias False\n",
      "up4.conv.double_conv.3.weight False\n",
      "up4.conv.double_conv.3.bias False\n",
      "up4.conv.double_conv.4.weight False\n",
      "up4.conv.double_conv.4.bias False\n",
      "outc.conv.weight False\n",
      "outc.conv.bias False\n"
     ]
    }
   ],
   "source": [
    "for name, param in learner.model.generator.named_parameters():\n",
    "    print(name, param.requires_grad)"
   ]
  },
  {
   "cell_type": "code",
   "execution_count": 8,
   "metadata": {},
   "outputs": [],
   "source": []
  },
  {
   "cell_type": "code",
   "execution_count": null,
   "metadata": {},
   "outputs": [],
   "source": []
  },
  {
   "cell_type": "code",
   "execution_count": 10,
   "metadata": {},
   "outputs": [],
   "source": []
  },
  {
   "cell_type": "code",
   "execution_count": null,
   "metadata": {},
   "outputs": [],
   "source": []
  }
 ],
 "metadata": {
  "kernelspec": {
   "display_name": "Python 3",
   "language": "python",
   "name": "python3"
  },
  "language_info": {
   "codemirror_mode": {
    "name": "ipython",
    "version": 3
   },
   "file_extension": ".py",
   "mimetype": "text/x-python",
   "name": "python",
   "nbconvert_exporter": "python",
   "pygments_lexer": "ipython3",
   "version": "3.8.2"
  }
 },
 "nbformat": 4,
 "nbformat_minor": 4
}
