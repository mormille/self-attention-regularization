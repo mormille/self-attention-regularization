{
 "cells": [
  {
   "cell_type": "code",
   "execution_count": 1,
   "metadata": {},
   "outputs": [],
   "source": [
    "from fastai.vision.all import *\n",
    "from fastai.distributed import *\n",
    "from fastai.callback.tracker import SaveModelCallback\n",
    "from fastprogress import fastprogress\n",
    "from fastai.data import load\n",
    "\n",
    "import torch\n",
    "from torch.utils.data.dataset import Dataset\n",
    "from torch.utils.data import DataLoader\n",
    "import torchvision.transforms as T\n",
    "from torchvision import datasets, transforms, models\n",
    "from torchvision.transforms.functional import *\n",
    "\n",
    "from models.utils.joiner2 import Joiner\n",
    "from models.utils.new_losses import *\n",
    "from models.utils.metrics import Accuracy\n",
    "from models.utils.dataLoader import *\n",
    "from models.utils.datasets import CustomCifar\n",
    "\n",
    "from collections import defaultdict, deque\n",
    "import itertools\n",
    "import matplotlib.pyplot as plt\n",
    "import numpy as np\n",
    "\n",
    "from numba import jit, cuda\n",
    "from timeit import default_timer as timer"
   ]
  },
  {
   "cell_type": "code",
   "execution_count": 2,
   "metadata": {},
   "outputs": [],
   "source": [
    "import webdataset as wds"
   ]
  },
  {
   "cell_type": "code",
   "execution_count": 3,
   "metadata": {},
   "outputs": [],
   "source": [
    "H = 32\n",
    "W= 32\n",
    "bs=5\n",
    "\n",
    "transform = T.Compose([\n",
    "T.Resize((H,W)),\n",
    "T.ToTensor(),\n",
    "#T.Normalize([0.485, 0.456, 0.406], [0.229, 0.224, 0.225])\n",
    "])"
   ]
  },
  {
   "cell_type": "code",
   "execution_count": 4,
   "metadata": {},
   "outputs": [],
   "source": [
    "# def CifarDataset(path_train, path_val=None, transforms=None, start_idx = 0): #\n",
    "#     if path_val == None:\n",
    "#         db = torch.load(path_train+\"/\"+entries[start_idx])\n",
    "#         db.transforms = transforms\n",
    "#         print(start_idx, \"Block complete\")\n",
    "#         for i in range(start_idx+1,start_idx+10):\n",
    "#         #for i in range(1,10):\n",
    "#             db1 = torch.load(path_train+\"/\"+entries[i])\n",
    "#             db1.transforms = transforms\n",
    "#             #datasets = [db,db1]\n",
    "#             db = torch.utils.data.ConcatDataset([db,db1])\n",
    "#             print(i, \"Block complete\")\n",
    "        \n",
    "#         return db"
   ]
  },
  {
   "cell_type": "code",
   "execution_count": 5,
   "metadata": {},
   "outputs": [],
   "source": [
    "#ds_train = CifarDataset(path_train, path_val=None, transforms=transform, start_idx = 40)"
   ]
  },
  {
   "cell_type": "code",
   "execution_count": 6,
   "metadata": {},
   "outputs": [],
   "source": [
    "#file_name = \"len\"+str(10000)+\"_startIdx\"+str(40)\n",
    "#torch.save(ds_train, 'data/GramCifar/train/train_CustomCifar'+file_name+'.tar')"
   ]
  },
  {
   "cell_type": "code",
   "execution_count": 7,
   "metadata": {},
   "outputs": [],
   "source": [
    "#ds = datasets.CIFAR10(root='./data', train=False, download=True, transform=transform)\n",
    "#len(ds)"
   ]
  },
  {
   "cell_type": "code",
   "execution_count": 8,
   "metadata": {},
   "outputs": [],
   "source": [
    "class AssembleDataset(nn.Module):\n",
    "    def __init__(self, hidden_dim=256):\n",
    "        super().__init__()\n",
    "        \n",
    "    def forward(self, size, start_idx):\n",
    "        ds_train = CustomCifar(path='./data', transforms=transform, size= size, start_idx=start_idx, train=False)\n",
    "        return ds_train"
   ]
  },
  {
   "cell_type": "code",
   "execution_count": 9,
   "metadata": {},
   "outputs": [],
   "source": [
    "dataset = AssembleDataset()\n",
    "dataset = dataset.cuda()"
   ]
  },
  {
   "cell_type": "code",
   "execution_count": 10,
   "metadata": {},
   "outputs": [
    {
     "data": {
      "text/plain": [
       "[0, 10000]"
      ]
     },
     "execution_count": 10,
     "metadata": {},
     "output_type": "execute_result"
    }
   ],
   "source": [
    "size = 10000\n",
    "max_size = 10000\n",
    "max_size_list = []\n",
    "for i in range(0,max_size+1,size):\n",
    "    max_size_list.append(i)\n",
    "max_size_list"
   ]
  },
  {
   "cell_type": "code",
   "execution_count": 12,
   "metadata": {},
   "outputs": [
    {
     "name": "stdout",
     "output_type": "stream",
     "text": [
      "Total time: 55913.083825583\n"
     ]
    }
   ],
   "source": [
    "#start = timer()\n",
    "#for s in max_size_list:\n",
    "#ds_train = dataset(size,0)\n",
    "file_name = \"len\"+str(size)+\"_startIdx\"+str(0)\n",
    "torch.save(ds_train, 'data/GramCifar/valid/valid_CustomCifar'+file_name+'.tar')\n",
    "print(\"Total time:\", timer()-start) "
   ]
  },
  {
   "cell_type": "code",
   "execution_count": 21,
   "metadata": {},
   "outputs": [],
   "source": []
  },
  {
   "cell_type": "code",
   "execution_count": null,
   "metadata": {},
   "outputs": [],
   "source": []
  },
  {
   "cell_type": "code",
   "execution_count": null,
   "metadata": {},
   "outputs": [],
   "source": []
  },
  {
   "cell_type": "code",
   "execution_count": null,
   "metadata": {},
   "outputs": [],
   "source": []
  },
  {
   "cell_type": "code",
   "execution_count": null,
   "metadata": {},
   "outputs": [],
   "source": []
  },
  {
   "cell_type": "code",
   "execution_count": 47,
   "metadata": {},
   "outputs": [
    {
     "data": {
      "text/plain": [
       "6"
      ]
     },
     "execution_count": 47,
     "metadata": {},
     "output_type": "execute_result"
    }
   ],
   "source": []
  },
  {
   "cell_type": "code",
   "execution_count": null,
   "metadata": {},
   "outputs": [],
   "source": []
  }
 ],
 "metadata": {
  "kernelspec": {
   "display_name": "Python 3",
   "language": "python",
   "name": "python3"
  },
  "language_info": {
   "codemirror_mode": {
    "name": "ipython",
    "version": 3
   },
   "file_extension": ".py",
   "mimetype": "text/x-python",
   "name": "python",
   "nbconvert_exporter": "python",
   "pygments_lexer": "ipython3",
   "version": "3.8.2"
  }
 },
 "nbformat": 4,
 "nbformat_minor": 4
}
