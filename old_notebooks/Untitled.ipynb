{
 "cells": [
  {
   "cell_type": "code",
   "execution_count": 81,
   "metadata": {},
   "outputs": [],
   "source": [
    "from fastai.vision.all import *\n",
    "from fastai.vision.gan import *\n",
    "from fastai.distributed import *\n",
    "from fastai.metrics import error_rate\n",
    "from fastai.callback.tracker import SaveModelCallback\n",
    "import torch \n",
    "from fastai.metrics import *\n",
    "\n",
    "\n",
    "from torch.utils.data.dataset import Dataset\n",
    "from torch.utils.data import DataLoader\n",
    "import torchvision.transforms as T\n",
    "from torchvision import datasets, transforms, models\n",
    "from torchvision.transforms.functional import *\n",
    "\n",
    "from collections import defaultdict, deque\n",
    "import itertools\n",
    "\n",
    "import matplotlib.pyplot as plt\n",
    "import numpy as np\n",
    "import torch.utils.data\n",
    "import torch\n",
    "\n",
    "from torchvision.datasets.imagenet import ImageNet\n",
    "\n",
    "import random\n",
    "\n",
    "from skimage import io\n",
    "from PIL import *\n",
    "\n",
    "import time"
   ]
  },
  {
   "cell_type": "code",
   "execution_count": 195,
   "metadata": {},
   "outputs": [],
   "source": [
    "H = 32\n",
    "W= 32\n",
    "bs=5\n",
    "\n",
    "transform = T.Compose([\n",
    "T.Resize((H,W)),\n",
    "T.ToTensor(),\n",
    "T.Normalize([0.485, 0.456, 0.406], [0.229, 0.224, 0.225])\n",
    "])"
   ]
  },
  {
   "cell_type": "code",
   "execution_count": 100,
   "metadata": {},
   "outputs": [],
   "source": [
    "class Curating_of_attention_mask(nn.Module):\n",
    "    def __init__(self, width=32, height=32, grid_l=2):\n",
    "        super().__init__()\n",
    "        self.grid_l = grid_l\n",
    "        self.width = width\n",
    "        self.height = height\n",
    "        self.grids_list = self.grids_list(self.width, self.height, self.grid_l)\n",
    "        self.grids_matrix = self.grids_matrix(self.width, self.height, self.grid_l)\n",
    "        \n",
    "        \n",
    "    def grids_list(self, width, height, grid_l): #COMPUTED ONCE BEFORE TRAINING\n",
    "        w = width\n",
    "        h = height\n",
    "        qt_hor_grids = w//grid_l\n",
    "        qt_ver_grids = h//grid_l\n",
    "        qtd_grids = qt_hor_grids*qt_ver_grids\n",
    "        c = 0\n",
    "        grids_list = []\n",
    "        for i in range(qtd_grids):\n",
    "            hor_pos = i//qt_hor_grids\n",
    "            ver_pos = c\n",
    "            c = c+1\n",
    "            grid = [hor_pos,ver_pos]\n",
    "            grids_list.append(grid)\n",
    "            if c == qt_ver_grids:\n",
    "                c=0\n",
    "        return grids_list\n",
    "        \n",
    "        \n",
    "    def grids_matrix(self, width, height, grid_l):\n",
    "\n",
    "        w = width\n",
    "        h = height\n",
    "        len_input_seq = h*w\n",
    "        qt_hor_grids = w//grid_l\n",
    "        qt_ver_grids = h//grid_l\n",
    "\n",
    "\n",
    "        grid_list = []\n",
    "        for i in range(h):\n",
    "            row_grid_list = []\n",
    "            preliminar_ver_grid = i//grid_l\n",
    "            if preliminar_ver_grid != 0:\n",
    "                preliminar_ver_grid = preliminar_ver_grid*qt_hor_grids\n",
    "\n",
    "            for h in range(w):\n",
    "                preliminar_grid = h//grid_l+preliminar_ver_grid\n",
    "                row_grid_list.append(preliminar_grid)\n",
    "\n",
    "            grid_list.append(row_grid_list)\n",
    "        grid_matrix = torch.tensor(np.array(grid_list))\n",
    "\n",
    "        return grid_matrix\n",
    "        \n",
    "        \n",
    "    def img_patches(self, batch, grid_l):\n",
    "        #torch.Tensor.unfold(dimension, size, step)\n",
    "        #slices the images into grid_l*grid_l size patches\n",
    "        patches = batch.data.unfold(1, 3, 3).unfold(2, grid_l, grid_l).unfold(3, grid_l, grid_l)\n",
    "        a, b, c, d, e, f, g = patches.shape\n",
    "        patches = patches.reshape(a, c, d, e, f, g)\n",
    "        #print(patches.shape)\n",
    "        return patches\n",
    "\n",
    "\n",
    "    def grid_gram_matrix(self, patches):\n",
    "\n",
    "        a, b, c, d, e, f = patches.shape\n",
    "        # a=batch size\n",
    "        # b=horizontal patches\n",
    "        # c = vertical patches\n",
    "        # d=number of feature maps\n",
    "        # (e,f)=dimensions of a f. map (N=e*f)\n",
    "\n",
    "        features = patches.reshape(a * b * c, d, e*f)  # resise F_XL into \\hat F_XL\n",
    "        #print(features.shape)\n",
    "        # compute the gram product\n",
    "\n",
    "        G = torch.mm(features[0], features[0].t())\n",
    "\n",
    "        for i in range(1,a*b*c):\n",
    "            g = torch.mm(features[i], features[i].t())\n",
    "            G= torch.cat((G, g), 0)\n",
    "\n",
    "\n",
    "        G = G.div(d * e * f).reshape(a, b, c, d, d)\n",
    "\n",
    "        # we 'normalize' the values of the gram matrix\n",
    "        # by dividing by the number of element in each feature maps.\n",
    "\n",
    "        return G\n",
    "\n",
    "\n",
    "\n",
    "    def gram_dist_matrix(self, batch, grid_l):\n",
    "        patches = self.img_patches(batch, grid_l)\n",
    "        #print(patches.shape)\n",
    "        Grid = self.grid_gram_matrix(patches)\n",
    "        #print(Grid.shape)\n",
    "        bs = batch.shape[0]\n",
    "        #print(bs)\n",
    "        MSE = nn.MSELoss()\n",
    "\n",
    "        mse_grid = []\n",
    "        for k in range(bs):\n",
    "            dist_grid = []\n",
    "            for g in range(len(self.grids_list)):\n",
    "                dist_pair_list = []\n",
    "                for n in range(len(self.grids_list)):\n",
    "                    dist_pair_list.append(MSE(Grid[k][self.grids_list[g][0]][self.grids_list[g][1]], Grid[k][self.grids_list[n][0]][self.grids_list[n][1]]))\n",
    "                dist_grid.append(dist_pair_list)\n",
    "            mse_grid.append(dist_grid)\n",
    "\n",
    "        dist_matrix = torch.tensor(mse_grid)\n",
    "        #dist_matrix = torch.tensor(np.array(mse_grid))\n",
    "\n",
    "        for i in range(bs):\n",
    "            dist_matrix[i] = dist_matrix[i].view(dist_matrix[i].size(0), -1)\n",
    "            dist_matrix[i] -= dist_matrix[i].min(1, keepdim=True)[0]\n",
    "            dist_matrix[i] /= dist_matrix[i].max(1, keepdim=True)[0]\n",
    "            dist_matrix[i] = dist_matrix[i].view(1, len(self.grids_list), len(self.grids_list))\n",
    "\n",
    "        return dist_matrix\n",
    "\n",
    "\n",
    "    def penalty_factor(self, dist_matrix, penalty_factor=\"1\", alpha=1):\n",
    "        if penalty_factor == \"1\" or penalty_factor ==\"distraction\":\n",
    "            pf_matrix = ((dist_matrix+1))**alpha\n",
    "            return pf_matrix\n",
    "        if penalty_factor == \"2\" or penalty_factor ==\"misdirection\":\n",
    "            pf_matrix = alpha*((torch.max(dist_matrix)//2)-dist_matrix+0.1)**3\n",
    "            return pf_matrix\n",
    "\n",
    "\n",
    "    def penalty_matrix(self, width, height, grid_matrix, dist_matrix, grid_l):\n",
    "        bs,_,_ = dist_matrix.shape\n",
    "        pep = []\n",
    "        for s in range(bs):\n",
    "            pf_matrix = self.penalty_factor(dist_matrix[s], penalty_factor=\"1\", alpha=1)\n",
    "            w = width\n",
    "            h = height\n",
    "\n",
    "            qt_hor_grids = w//grid_l\n",
    "            qt_ver_grids = h//grid_l\n",
    "            qtd_grids = qt_hor_grids*qt_ver_grids\n",
    "\n",
    "            penalty_mask = []\n",
    "            for i in range(qtd_grids):\n",
    "                ref_column = pf_matrix[i]\n",
    "                p_matrix = grid_matrix.type(torch.FloatTensor)\n",
    "                for j in range(1,len(ref_column)):\n",
    "                    #print(float(j))\n",
    "                    p_matrix[p_matrix==j]=float(ref_column[j])\n",
    "                p_matrix[p_matrix==0]=float(ref_column[0])\n",
    "                penalty_mask.append(p_matrix)\n",
    "\n",
    "            #print(len(penalty_mask))    \n",
    "\n",
    "            penalty_enc = []\n",
    "            for i in range(h):\n",
    "                penalty_row = []\n",
    "                for j in range(w):\n",
    "                    #print(grid_matrix[i,j])\n",
    "                    #print(penalty_mask[grid_matrix[i,j]].shape)\n",
    "                    penalty_row.append(penalty_mask[grid_matrix[i,j]])\n",
    "                    #print(len(penalty_row))\n",
    "                generic_tensor = Tensor(h,w)\n",
    "                penalty_row_tensor = torch.cat(penalty_row, out=generic_tensor)\n",
    "                penalty_enc.append(penalty_row_tensor)\n",
    "                #print(penalty_row_tensor.shape)\n",
    "                #break\n",
    "\n",
    "            b = torch.Tensor(h, w, h, w)\n",
    "            c=torch.cat(penalty_enc, out=b)\n",
    "            c = c.view(h, w, h, w)\n",
    "            pep.append(c)\n",
    "\n",
    "        d = torch.Tensor(bs, h, w, h, w)\n",
    "        penalty_encoding_pattern = torch.cat(pep, out=d)\n",
    "        penalty_encoding_pattern = penalty_encoding_pattern.view(bs, h, w, h, w)\n",
    "\n",
    "        return penalty_encoding_pattern\n",
    "        \n",
    "    def forward(self, batch):\n",
    "        \n",
    "        batch = batch.unsqueeze(0)\n",
    "        \n",
    "        dist_matrix = self.gram_dist_matrix(batch, self.grid_l)\n",
    "        penalty_mask = self.penalty_matrix(self.width, self.height, self.grids_matrix, dist_matrix, self.grid_l)\n",
    "        \n",
    "        pattn = penalty_mask.squeeze(0)\n",
    "        \n",
    "        return pattn"
   ]
  },
  {
   "cell_type": "code",
   "execution_count": 136,
   "metadata": {},
   "outputs": [],
   "source": [
    "class CustomCifar(datasets.CIFAR10):\n",
    "    def __init__(self, path, transforms, width=32, height=32, grid_l=2, size=None, train=True):\n",
    "        super().__init__(path)\n",
    "        self.width = width\n",
    "        self.height = height\n",
    "        self.transforms = transforms\n",
    "        self.train = train\n",
    "        if size == None:\n",
    "            if train == True:\n",
    "                self.size = 50000\n",
    "            else:\n",
    "                self.size = 10000\n",
    "        else:\n",
    "            self.size = size\n",
    "        self.indexes = self.create_idx()\n",
    "        self.attention_mask = Curating_of_attention_mask(width, height, grid_l)\n",
    "        self.pattn_dict = self.create_labels()\n",
    "\n",
    "    def create_idx(self):\n",
    "        indexes = {}\n",
    "        i = 0\n",
    "        max_len = 50000\n",
    "        if self.train != True:\n",
    "            max_len = 10000\n",
    "        while len(indexes) < (self.size):\n",
    "            r=random.randint(0,max_len)\n",
    "            if r not in indexes.values(): \n",
    "                indexes[i] = r\n",
    "                i +=1\n",
    "\n",
    "        return indexes\n",
    "    \n",
    "    def create_labels(self):\n",
    "        \n",
    "        transform = T.Compose([\n",
    "        T.Resize((self.height,self.width)),\n",
    "        T.ToTensor(),\n",
    "        T.Normalize([0.485, 0.456, 0.406], [0.229, 0.224, 0.225])\n",
    "        ])\n",
    "        \n",
    "        attention_labels = {}\n",
    "        for i in range(len(self.indexes)):\n",
    "            index = self.indexes[i]\n",
    "            im, _ = super().__getitem__(index)\n",
    "            pattn = self.attention_mask(self.transforms(im))\n",
    "            attention_labels[i] = pattn\n",
    "\n",
    "        return attention_labels\n",
    "\n",
    "    def __len__(self):\n",
    "         return len(self.indexes)\n",
    "        \n",
    "    def __getitem__(self, index):\n",
    "\n",
    "        #index = self.indexes[index]\n",
    "        im, label = super().__getitem__(self.indexes[index])\n",
    "        pattn = self.pattn_dict[index]\n",
    "        return self.transforms(im), (pattn, label)"
   ]
  },
  {
   "cell_type": "code",
   "execution_count": 137,
   "metadata": {},
   "outputs": [],
   "source": [
    "ds = CustomCifar(path='./data', transforms=transform, size = 50)"
   ]
  },
  {
   "cell_type": "code",
   "execution_count": 144,
   "metadata": {},
   "outputs": [
    {
     "data": {
      "text/plain": [
       "Dataset CustomCifar\n",
       "    Number of datapoints: 50\n",
       "    Root location: ./data\n",
       "    Split: Train\n",
       "    Compose(\n",
       "    Resize(size=(32, 32), interpolation=PIL.Image.BILINEAR)\n",
       "    ToTensor()\n",
       "    Normalize(mean=[0.485, 0.456, 0.406], std=[0.229, 0.224, 0.225])\n",
       ")"
      ]
     },
     "execution_count": 144,
     "metadata": {},
     "output_type": "execute_result"
    }
   ],
   "source": [
    "ds"
   ]
  },
  {
   "cell_type": "code",
   "execution_count": 147,
   "metadata": {},
   "outputs": [],
   "source": [
    "torch.save(ds, 'customCifar.tar')"
   ]
  },
  {
   "cell_type": "code",
   "execution_count": null,
   "metadata": {},
   "outputs": [],
   "source": [
    "def CifarDataloader(path_train, path_val=None): #\n",
    "    if path_val = None:\n",
    "        db = torch.load('customCifar.tar')\n",
    "        train_size = int(len(db)*0.8)\n",
    "        val_size = int(len(db)*0.2)\n",
    "        remainder = len(db)-train_size - val_size\n",
    "        train, valid, _ = torch.utils.data.random_split(Loaded_db, [train_size, val_size, remainder])\n",
    "        \n",
    "        train_dl = load.DataLoader(train,batch_size=5)\n",
    "        valid_dl = load.DataLoader(valid,batch_size=5)\n",
    "        dld = ImageDataLoaders(train_dl, valid_dl, device='cuda')\n",
    "        \n",
    "        return dld"
   ]
  },
  {
   "cell_type": "code",
   "execution_count": null,
   "metadata": {},
   "outputs": [],
   "source": []
  },
  {
   "cell_type": "code",
   "execution_count": 149,
   "metadata": {},
   "outputs": [],
   "source": [
    "Loaded_db = torch.load('customCifar.tar')"
   ]
  },
  {
   "cell_type": "code",
   "execution_count": 168,
   "metadata": {},
   "outputs": [
    {
     "name": "stdout",
     "output_type": "stream",
     "text": [
      "Input shape torch.Size([3, 32, 32])\n",
      "Pattn shape torch.Size([32, 32, 32, 32])\n",
      "Label 1\n"
     ]
    }
   ],
   "source": [
    "i = 1\n",
    "print(\"Input shape\", Loaded_db[i][0].shape)\n",
    "print(\"Pattn shape\", Loaded_db[i][1][0].shape)\n",
    "print(\"Label\", Loaded_db[i][1][1])"
   ]
  },
  {
   "cell_type": "code",
   "execution_count": 189,
   "metadata": {},
   "outputs": [
    {
     "data": {
      "text/plain": [
       "50"
      ]
     },
     "execution_count": 189,
     "metadata": {},
     "output_type": "execute_result"
    }
   ],
   "source": [
    "len(Loaded_db)"
   ]
  },
  {
   "cell_type": "code",
   "execution_count": 192,
   "metadata": {},
   "outputs": [
    {
     "data": {
      "text/plain": [
       "1"
      ]
     },
     "execution_count": 192,
     "metadata": {},
     "output_type": "execute_result"
    }
   ],
   "source": [
    "int(len(db)*0.8)\n",
    "int(len(db)*0.2)\n",
    "len(db)-int(len(db)*0.8)-int(51*0.2)"
   ]
  },
  {
   "cell_type": "code",
   "execution_count": 156,
   "metadata": {},
   "outputs": [],
   "source": [
    "from fastai.data import load\n",
    "dloader = load.DataLoader(dataset=Loaded_db, batch_size=5)"
   ]
  },
  {
   "cell_type": "code",
   "execution_count": 176,
   "metadata": {},
   "outputs": [
    {
     "name": "stdout",
     "output_type": "stream",
     "text": [
      "Dataloader size: 50000\n"
     ]
    }
   ],
   "source": [
    "print(\"Dataloader size:\",len(dloader.data))\n",
    "#dloader.dataset[0]"
   ]
  },
  {
   "cell_type": "code",
   "execution_count": 177,
   "metadata": {},
   "outputs": [],
   "source": [
    "train_size = 40\n",
    "test_size = 10\n",
    "remainder = 0\n",
    "train, valid, _ = torch.utils.data.random_split(Loaded_db, [train_size, test_size, remainder])"
   ]
  },
  {
   "cell_type": "code",
   "execution_count": 194,
   "metadata": {},
   "outputs": [],
   "source": [
    "train_dl = load.DataLoader(train,batch_size=5)\n",
    "valid_dl = load.DataLoader(valid,batch_size=5)\n",
    "dld = ImageDataLoaders(train_dl, valid_dl, device='cuda')"
   ]
  },
  {
   "cell_type": "code",
   "execution_count": 182,
   "metadata": {},
   "outputs": [],
   "source": [
    "class Curating_of_attention_loss(nn.Module):\n",
    "    def __init__(self, ):\n",
    "        super().__init__()\n",
    " \n",
    "    def forward(self, sattn, pattn):\n",
    "        #Computing the Attention Loss\n",
    "        att_loss = sattn*pattn\n",
    "        Latt = torch.sum(att_loss)\n",
    "\n",
    "        return Latt\n",
    "\n",
    "\n",
    "class CriticLoss(nn.Module):\n",
    "    def __init__(self, beta=0.0000005, sigma=1):\n",
    "        super(CriticLoss, self).__init__()\n",
    "        self.beta = beta\n",
    "        self.sigma = sigma\n",
    "\n",
    "    def forward(self, preds, label):\n",
    "        #print(\"Critic Loss\")\n",
    "        crossEntropy = nn.CrossEntropyLoss()\n",
    "        classificationLoss = crossEntropy(preds[0], label[1])\n",
    "\n",
    "        LCA = Curating_of_attention_loss()\n",
    "        Latt = LCA(preds[1], label[0])\n",
    "        \n",
    "        Lc = self.sigma*classificationLoss - self.beta*Latt\n",
    "        \n",
    "        return Lc\n",
    "    \n",
    "#[x, sattn, pattn, inputs, x0]"
   ]
  },
  {
   "cell_type": "code",
   "execution_count": 183,
   "metadata": {},
   "outputs": [],
   "source": [
    "from models.utils.joiner2 import Joiner\n",
    "#from models.utils.new_losses import CriticLoss\n",
    "from models.utils.metrics import Accuracy\n",
    "\n",
    "model = Joiner(num_encoder_layers = 6, nhead=8, backbone = False, num_classes = 10, bypass=False, hidden_dim=256, \n",
    "          batch_size=bs, image_h=H, image_w=W,grid_l=2,penalty_factor=\"2\")"
   ]
  },
  {
   "cell_type": "code",
   "execution_count": 184,
   "metadata": {},
   "outputs": [],
   "source": [
    "critic_loss = CriticLoss()"
   ]
  },
  {
   "cell_type": "code",
   "execution_count": null,
   "metadata": {},
   "outputs": [],
   "source": [
    "dl"
   ]
  },
  {
   "cell_type": "code",
   "execution_count": 187,
   "metadata": {},
   "outputs": [],
   "source": [
    "learner = Learner(dld, model, loss_func=critic_loss, metrics=[Accuracy])"
   ]
  },
  {
   "cell_type": "code",
   "execution_count": 188,
   "metadata": {},
   "outputs": [
    {
     "data": {
      "text/html": [],
      "text/plain": [
       "<IPython.core.display.HTML object>"
      ]
     },
     "metadata": {},
     "output_type": "display_data"
    },
    {
     "data": {
      "text/plain": [
       "SuggestedLRs(lr_min=3.0199516913853586e-06, lr_steep=2.0892961401841603e-05)"
      ]
     },
     "execution_count": 188,
     "metadata": {},
     "output_type": "execute_result"
    },
    {
     "data": {
      "image/png": "[encoded data removed]",
      "text/plain": [
       "<Figure size 432x288 with 1 Axes>"
      ]
     },
     "metadata": {
      "needs_background": "light"
     },
     "output_type": "display_data"
    }
   ],
   "source": [
    "learner.lr_find()"
   ]
  },
  {
   "cell_type": "code",
   "execution_count": 197,
   "metadata": {},
   "outputs": [
    {
     "name": "stdout",
     "output_type": "stream",
     "text": [
      "0\n",
      "50\n",
      "100\n",
      "150\n",
      "200\n",
      "250\n",
      "300\n",
      "350\n",
      "400\n",
      "450\n",
      "500\n",
      "550\n",
      "600\n",
      "650\n",
      "700\n",
      "750\n",
      "800\n",
      "850\n",
      "900\n",
      "950\n",
      "1000\n"
     ]
    }
   ],
   "source": [
    "for i in range(1001):\n",
    "    if i%50 == 0:\n",
    "        print(i)"
   ]
  },
  {
   "cell_type": "code",
   "execution_count": null,
   "metadata": {},
   "outputs": [],
   "source": []
  }
 ],
 "metadata": {
  "kernelspec": {
   "display_name": "Python 3",
   "language": "python",
   "name": "python3"
  },
  "language_info": {
   "codemirror_mode": {
    "name": "ipython",
    "version": 3
   },
   "file_extension": ".py",
   "mimetype": "text/x-python",
   "name": "python",
   "nbconvert_exporter": "python",
   "pygments_lexer": "ipython3",
   "version": "3.8.2"
  }
 },
 "nbformat": 4,
 "nbformat_minor": 4
}
