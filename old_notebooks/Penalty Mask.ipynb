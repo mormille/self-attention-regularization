{
 "cells": [
  {
   "cell_type": "code",
   "execution_count": 2,
   "metadata": {},
   "outputs": [],
   "source": [
    "import copy\n",
    "from typing import Optional, List\n",
    "\n",
    "from fastai.distributed import *\n",
    "from fastai.vision.all import *\n",
    "\n",
    "import torch\n",
    "import torch.nn.functional as F\n",
    "import torchvision.transforms as T\n",
    "from torch import nn, Tensor\n",
    "from torchvision import transforms\n",
    "\n",
    "from scipy.spatial import distance\n",
    "import numpy as np\n",
    "\n",
    "#from models.encoder import EncoderModule\n",
    "#from models.backbone import Backbone, NoBackbone"
   ]
  },
  {
   "cell_type": "code",
   "execution_count": 3,
   "metadata": {},
   "outputs": [],
   "source": [
    "from PIL import Image\n",
    "import requests"
   ]
  },
  {
   "cell_type": "code",
   "execution_count": 4,
   "metadata": {},
   "outputs": [],
   "source": [
    "H = 32\n",
    "W= 32\n",
    "\n",
    "transform = T.Compose([\n",
    "T.Resize((H,W)),\n",
    "T.ToTensor(),\n",
    "#T.Normalize([0.485, 0.456, 0.406], [0.485, 0.456, 0.406])\n",
    "])"
   ]
  },
  {
   "cell_type": "code",
   "execution_count": null,
   "metadata": {},
   "outputs": [],
   "source": []
  },
  {
   "cell_type": "code",
   "execution_count": 5,
   "metadata": {},
   "outputs": [],
   "source": [
    "def img_patches(img_t, grid_l):\n",
    "    #torch.Tensor.unfold(dimension, size, step)\n",
    "    #slices the images into grid_l*grid_l size patches\n",
    "    patches = img_t.data.unfold(1, 3, 3).unfold(2, grid_l, grid_l).unfold(3, grid_l, grid_l)\n",
    "    a, b, c, d, e, f, g = patches.shape\n",
    "    patches = patches.reshape(a, c, d, e, f, g)\n",
    "    #print(patches.shape)\n",
    "    return patches\n",
    "\n",
    "\n",
    "def grid_gram_matrix(input):\n",
    "\n",
    "    a, b, c, d, e, f = input.shape\n",
    "    # a=batch size\n",
    "    # b=horizontal patches\n",
    "    # c = vertical patches\n",
    "    # d=number of feature maps\n",
    "    # (e,f)=dimensions of a f. map (N=e*f)\n",
    "\n",
    "    features = input.reshape(a * b * c, d, e*f)  # resise F_XL into \\hat F_XL\n",
    "    #print(features.shape)\n",
    "    # compute the gram product\n",
    "\n",
    "    G = torch.mm(features[0], features[0].t())\n",
    "\n",
    "    for i in range(1,a*b*c):\n",
    "        g = torch.mm(features[i], features[i].t())\n",
    "        G= torch.cat((G, g), 0)\n",
    "\n",
    "\n",
    "    G = G.div(d * e * f).reshape(a, b, c, d, d)\n",
    "\n",
    "    # we 'normalize' the values of the gram matrix\n",
    "    # by dividing by the number of element in each feature maps.\n",
    "    \n",
    "    return G\n",
    "\n",
    "\n",
    "def grids_list(batch_size, width, height, grid_l=2): #COMPUTED ONCE BEFORE TRAINING\n",
    "    w = width\n",
    "    h = height\n",
    "    qt_hor_grids = w//grid_l\n",
    "    qt_ver_grids = h//grid_l\n",
    "    qtd_grids = qt_hor_grids*qt_ver_grids\n",
    "    c = 0\n",
    "    grids_list = []\n",
    "    for i in range(qtd_grids):\n",
    "        hor_pos = i//qt_hor_grids\n",
    "        ver_pos = c\n",
    "        c = c+1\n",
    "        grid = [hor_pos,ver_pos]\n",
    "        grids_list.append(grid)\n",
    "        if c == qt_ver_grids:\n",
    "            c=0\n",
    "    return grids_list\n",
    "\n",
    "def gram_dist_matrix(batch,grids,grid_l=2):\n",
    "    patches = img_patches(batch, grid_l)\n",
    "    #print(patches.shape)\n",
    "    Grid = grid_gram_matrix(patches)\n",
    "    #print(Grid.shape)\n",
    "    bs = batch.shape[0]\n",
    "    #print(bs)\n",
    "    MSE = nn.MSELoss()\n",
    "\n",
    "    mse_grid = []\n",
    "    for k in range(bs):\n",
    "        dist_grid = []\n",
    "        for g in range(len(grids)):\n",
    "            dist_pair_list = []\n",
    "            for n in range(len(grids)):\n",
    "                dist_pair_list.append(MSE(Grid[k][grids[g][0]][grids[g][1]], Grid[k][grids[n][0]][grids[n][1]]))\n",
    "            dist_grid.append(dist_pair_list)\n",
    "        mse_grid.append(dist_grid)\n",
    "    \n",
    "    dist_matrix = torch.tensor(np.array(mse_grid))\n",
    "    \n",
    "    for i in range(bs):\n",
    "        dist_matrix[i] = dist_matrix[i].view(dist_matrix[i].size(0), -1)\n",
    "        dist_matrix[i] -= dist_matrix[i].min(1, keepdim=True)[0]\n",
    "        dist_matrix[i] /= dist_matrix[i].max(1, keepdim=True)[0]\n",
    "        dist_matrix[i] = dist_matrix[i].view(1, len(grids), len(grids))\n",
    "    \n",
    "    return dist_matrix\n",
    "\n",
    "\n",
    "#######################################3\n",
    "########################################3\n",
    "#######################################33\n",
    "\n",
    "def distance_matrix(batch_size, width, height, grid_l=3):\n",
    "\n",
    "    w = width\n",
    "    h = height\n",
    "    qt_hor_grids = w//grid_l\n",
    "    qt_ver_grids = h//grid_l\n",
    "    qtd_grids = qt_hor_grids*qt_ver_grids\n",
    "    c = 0\n",
    "    grids = []\n",
    "    for i in range(qtd_grids):\n",
    "        hor_pos = i//qt_hor_grids\n",
    "        ver_pos = c\n",
    "        c = c+1\n",
    "        grid = [hor_pos,ver_pos]\n",
    "        grids.append(grid)\n",
    "        if c == qt_ver_grids:\n",
    "            c=0\n",
    "\n",
    "    dist_grid = []\n",
    "    for g in range(len(grids)):\n",
    "        dist_pair_list = []\n",
    "        for n in range(len(grids)):\n",
    "            dist_pair_list.append(distance.cityblock(grids[g], grids[n]))\n",
    "        dist_grid.append(dist_pair_list)\n",
    "\n",
    "    dist_matrix = torch.tensor(np.array(dist_grid))\n",
    "\n",
    "    return dist_matrix\n",
    "\n",
    "def grids_matrix(batch_size, width, height, grid_l=3):\n",
    "\n",
    "    w = width\n",
    "    h = height\n",
    "    len_input_seq = h*w\n",
    "    qt_hor_grids = w//grid_l\n",
    "    qt_ver_grids = h//grid_l\n",
    "\n",
    "\n",
    "    grid_list = []\n",
    "    for i in range(h):\n",
    "        row_grid_list = []\n",
    "        preliminar_ver_grid = i//grid_l\n",
    "        if preliminar_ver_grid != 0:\n",
    "            preliminar_ver_grid = preliminar_ver_grid*qt_hor_grids\n",
    "\n",
    "        for h in range(w):\n",
    "            preliminar_grid = h//grid_l+preliminar_ver_grid\n",
    "            row_grid_list.append(preliminar_grid)\n",
    "\n",
    "        grid_list.append(row_grid_list)\n",
    "    grid_matrix = torch.tensor(np.array(grid_list))\n",
    "\n",
    "    return grid_matrix\n",
    "\n",
    "def penalty_factor(dist_matrix, penalty_factor=\"1\", alpha=1):\n",
    "    if penalty_factor == \"1\" or penalty_factor ==\"distraction\":\n",
    "        pf_matrix = ((dist_matrix+1))**alpha\n",
    "        return pf_matrix\n",
    "    if penalty_factor == \"2\" or penalty_factor ==\"misdirection\":\n",
    "        pf_matrix = alpha*((torch.max(dist_matrix)//2)-dist_matrix+0.1)**3\n",
    "        return pf_matrix\n",
    "\n",
    "\n",
    "def penalty_matrix(batch_size, width, height, grid_matrix, dist_matrix, grid_l=2):\n",
    "    bs,_,_ = dist_matrix.shape\n",
    "    pep = []\n",
    "    for s in range(bs):\n",
    "        pf_matrix = penalty_factor(dist_matrix[s], penalty_factor=\"1\", alpha=1)\n",
    "        w = width\n",
    "        h = height\n",
    "\n",
    "        qt_hor_grids = w//grid_l\n",
    "        qt_ver_grids = h//grid_l\n",
    "        qtd_grids = qt_hor_grids*qt_ver_grids\n",
    "\n",
    "        penalty_mask = []\n",
    "        for i in range(qtd_grids):\n",
    "            ref_column = pf_matrix[i]\n",
    "            p_matrix = grid_matrix.type(torch.FloatTensor)\n",
    "            for j in range(1,len(ref_column)):\n",
    "                #print(float(j))\n",
    "                p_matrix[p_matrix==j]=float(ref_column[j])\n",
    "            p_matrix[p_matrix==0]=float(ref_column[0])\n",
    "            penalty_mask.append(p_matrix)\n",
    "\n",
    "        print(len(penalty_mask))    \n",
    "\n",
    "        penalty_enc = []\n",
    "        for i in range(h):\n",
    "            penalty_row = []\n",
    "            for j in range(w):\n",
    "                #print(grid_matrix[i,j])\n",
    "                #print(penalty_mask[grid_matrix[i,j]].shape)\n",
    "                penalty_row.append(penalty_mask[grid_matrix[i,j]])\n",
    "                #print(len(penalty_row))\n",
    "            generic_tensor = Tensor(h,w)\n",
    "            penalty_row_tensor = torch.cat(penalty_row, out=generic_tensor)\n",
    "            penalty_enc.append(penalty_row_tensor)\n",
    "            #print(penalty_row_tensor.shape)\n",
    "            #break\n",
    "\n",
    "        b = torch.Tensor(h, w, h, w)\n",
    "        c=torch.cat(penalty_enc, out=b)\n",
    "        c = c.view(h, w, h, w)\n",
    "        pep.append(c)\n",
    "\n",
    "    d = torch.Tensor(batch_size, h, w, h, w)\n",
    "    penalty_encoding_pattern = torch.cat(pep, out=d)\n",
    "    penalty_encoding_pattern = penalty_encoding_pattern.view(batch_size, h, w, h, w)\n",
    "\n",
    "    return penalty_encoding_pattern"
   ]
  },
  {
   "cell_type": "code",
   "execution_count": 6,
   "metadata": {},
   "outputs": [],
   "source": [
    "batch_size = 10\n",
    "width = 256\n",
    "height = 256\n",
    "grid_l=16 \n",
    "pf=\"1\"\n",
    "alpha=1"
   ]
  },
  {
   "cell_type": "code",
   "execution_count": 7,
   "metadata": {},
   "outputs": [],
   "source": [
    "def penalty_mask(batch_size, f_map_w, f_map_h, grid_l=4, penalty_factor=\"1\", alpha=1):\n",
    "    dist_matrix = distance_matrix(batch_size, f_map_w, f_map_h, grid_l)\n",
    "    grids_matrix = grids_matrix(batch_size, f_map_w, f_map_h, grid_l)\n",
    "    pf_matrix = penalty_factor(dist_matrix, penalty_factor, alpha)\n",
    "\n",
    "    penalty_mask = penalty_matrix(batch_size, f_map_w, f_map_h, grids_matrix, pf_matrix, grid_l)\n",
    "    \n",
    "    return penalty_mask"
   ]
  },
  {
   "cell_type": "code",
   "execution_count": null,
   "metadata": {},
   "outputs": [],
   "source": []
  },
  {
   "cell_type": "code",
   "execution_count": null,
   "metadata": {},
   "outputs": [],
   "source": []
  },
  {
   "cell_type": "code",
   "execution_count": null,
   "metadata": {},
   "outputs": [],
   "source": []
  },
  {
   "cell_type": "code",
   "execution_count": null,
   "metadata": {},
   "outputs": [],
   "source": []
  },
  {
   "cell_type": "code",
   "execution_count": 8,
   "metadata": {},
   "outputs": [],
   "source": [
    "dist_matrix = distance_matrix(batch_size, width, height, grid_l)"
   ]
  },
  {
   "cell_type": "code",
   "execution_count": 12,
   "metadata": {},
   "outputs": [
    {
     "data": {
      "text/plain": [
       "torch.Size([256, 256])"
      ]
     },
     "execution_count": 12,
     "metadata": {},
     "output_type": "execute_result"
    }
   ],
   "source": [
    "dist_matrix.shape"
   ]
  },
  {
   "cell_type": "code",
   "execution_count": 9,
   "metadata": {},
   "outputs": [],
   "source": [
    "g_matrix = grids_matrix(batch_size, width, height, grid_l)"
   ]
  },
  {
   "cell_type": "code",
   "execution_count": 10,
   "metadata": {},
   "outputs": [],
   "source": [
    "pf_matrix = penalty_factor(dist_matrix, pf, alpha)"
   ]
  },
  {
   "cell_type": "code",
   "execution_count": 11,
   "metadata": {},
   "outputs": [
    {
     "ename": "ValueError",
     "evalue": "not enough values to unpack (expected 3, got 2)",
     "output_type": "error",
     "traceback": [
      "\u001b[0;31m---------------------------------------------------------------------------\u001b[0m",
      "\u001b[0;31mValueError\u001b[0m                                Traceback (most recent call last)",
      "\u001b[0;32m<ipython-input-11-7c3b2189de38>\u001b[0m in \u001b[0;36m<module>\u001b[0;34m\u001b[0m\n\u001b[0;32m----> 1\u001b[0;31m \u001b[0mpenalty_mask\u001b[0m \u001b[0;34m=\u001b[0m \u001b[0mpenalty_matrix\u001b[0m\u001b[0;34m(\u001b[0m\u001b[0mbatch_size\u001b[0m\u001b[0;34m,\u001b[0m \u001b[0mwidth\u001b[0m\u001b[0;34m,\u001b[0m \u001b[0mheight\u001b[0m\u001b[0;34m,\u001b[0m \u001b[0mg_matrix\u001b[0m\u001b[0;34m,\u001b[0m \u001b[0mpf_matrix\u001b[0m\u001b[0;34m,\u001b[0m \u001b[0mgrid_l\u001b[0m\u001b[0;34m)\u001b[0m\u001b[0;34m\u001b[0m\u001b[0;34m\u001b[0m\u001b[0m\n\u001b[0m",
      "\u001b[0;32m<ipython-input-5-f42e79d722f4>\u001b[0m in \u001b[0;36mpenalty_matrix\u001b[0;34m(batch_size, width, height, grid_matrix, dist_matrix, grid_l)\u001b[0m\n\u001b[1;32m    153\u001b[0m \u001b[0;34m\u001b[0m\u001b[0m\n\u001b[1;32m    154\u001b[0m \u001b[0;32mdef\u001b[0m \u001b[0mpenalty_matrix\u001b[0m\u001b[0;34m(\u001b[0m\u001b[0mbatch_size\u001b[0m\u001b[0;34m,\u001b[0m \u001b[0mwidth\u001b[0m\u001b[0;34m,\u001b[0m \u001b[0mheight\u001b[0m\u001b[0;34m,\u001b[0m \u001b[0mgrid_matrix\u001b[0m\u001b[0;34m,\u001b[0m \u001b[0mdist_matrix\u001b[0m\u001b[0;34m,\u001b[0m \u001b[0mgrid_l\u001b[0m\u001b[0;34m=\u001b[0m\u001b[0;36m2\u001b[0m\u001b[0;34m)\u001b[0m\u001b[0;34m:\u001b[0m\u001b[0;34m\u001b[0m\u001b[0;34m\u001b[0m\u001b[0m\n\u001b[0;32m--> 155\u001b[0;31m     \u001b[0mbs\u001b[0m\u001b[0;34m,\u001b[0m\u001b[0m_\u001b[0m\u001b[0;34m,\u001b[0m\u001b[0m_\u001b[0m \u001b[0;34m=\u001b[0m \u001b[0mdist_matrix\u001b[0m\u001b[0;34m.\u001b[0m\u001b[0mshape\u001b[0m\u001b[0;34m\u001b[0m\u001b[0;34m\u001b[0m\u001b[0m\n\u001b[0m\u001b[1;32m    156\u001b[0m     \u001b[0mpep\u001b[0m \u001b[0;34m=\u001b[0m \u001b[0;34m[\u001b[0m\u001b[0;34m]\u001b[0m\u001b[0;34m\u001b[0m\u001b[0;34m\u001b[0m\u001b[0m\n\u001b[1;32m    157\u001b[0m     \u001b[0;32mfor\u001b[0m \u001b[0ms\u001b[0m \u001b[0;32min\u001b[0m \u001b[0mrange\u001b[0m\u001b[0;34m(\u001b[0m\u001b[0mbs\u001b[0m\u001b[0;34m)\u001b[0m\u001b[0;34m:\u001b[0m\u001b[0;34m\u001b[0m\u001b[0;34m\u001b[0m\u001b[0m\n",
      "\u001b[0;31mValueError\u001b[0m: not enough values to unpack (expected 3, got 2)"
     ]
    }
   ],
   "source": [
    "penalty_mask = penalty_matrix(batch_size, width, height, g_matrix, pf_matrix, grid_l)"
   ]
  },
  {
   "cell_type": "code",
   "execution_count": 161,
   "metadata": {},
   "outputs": [
    {
     "data": {
      "text/plain": [
       "torch.Size([10, 32, 32, 32, 32])"
      ]
     },
     "execution_count": 161,
     "metadata": {},
     "output_type": "execute_result"
    }
   ],
   "source": [
    "penalty_mask.shape"
   ]
  },
  {
   "cell_type": "code",
   "execution_count": 162,
   "metadata": {},
   "outputs": [
    {
     "data": {
      "text/plain": [
       "<matplotlib.image.AxesImage at 0x7f0dacd798b0>"
      ]
     },
     "execution_count": 162,
     "metadata": {},
     "output_type": "execute_result"
    },
    {
     "data": {
      "image/png": "[encoded data removed]",
      "text/plain": [
       "<Figure size 432x288 with 4 Axes>"
      ]
     },
     "metadata": {
      "needs_background": "light"
     },
     "output_type": "display_data"
    }
   ],
   "source": [
    "plt.subplot(221)\n",
    "plt.imshow(penalty_mask[0][17][14])\n",
    "plt.subplot(222)\n",
    "plt.imshow(pf_matrix)\n",
    "plt.subplot(223)\n",
    "plt.imshow(g_matrix)\n",
    "plt.subplot(224)\n",
    "plt.imshow(dist_matrix)"
   ]
  },
  {
   "cell_type": "code",
   "execution_count": null,
   "metadata": {},
   "outputs": [],
   "source": []
  },
  {
   "cell_type": "code",
   "execution_count": null,
   "metadata": {},
   "outputs": [],
   "source": []
  },
  {
   "cell_type": "code",
   "execution_count": null,
   "metadata": {},
   "outputs": [],
   "source": []
  },
  {
   "cell_type": "code",
   "execution_count": null,
   "metadata": {},
   "outputs": [],
   "source": []
  },
  {
   "cell_type": "code",
   "execution_count": 42,
   "metadata": {},
   "outputs": [],
   "source": [
    "class StyleLoss(nn.Module):\n",
    "\n",
    "    def __init__(self):\n",
    "        super(StyleLoss, self).__init__()\n",
    "\n",
    "    def forward(self, input,target_feature):\n",
    "        G = gram_matrix(input)\n",
    "        target = gram_matrix(target_feature)\n",
    "        self.loss = F.mse_loss(G, target)\n",
    "        return self.loss"
   ]
  },
  {
   "cell_type": "code",
   "execution_count": 43,
   "metadata": {},
   "outputs": [],
   "source": [
    "styleLoss = StyleLoss()"
   ]
  },
  {
   "cell_type": "code",
   "execution_count": 45,
   "metadata": {},
   "outputs": [],
   "source": [
    "MSE = nn.MSELoss()\n",
    "MSE(gram_m,gram_m2)"
   ]
  },
  {
   "cell_type": "code",
   "execution_count": 46,
   "metadata": {},
   "outputs": [
    {
     "name": "stdout",
     "output_type": "stream",
     "text": [
      "Input shape: torch.Size([1, 3, 32, 32])\n"
     ]
    },
    {
     "data": {
      "text/plain": [
       "<matplotlib.image.AxesImage at 0x7f0db7eaf3a0>"
      ]
     },
     "execution_count": 46,
     "metadata": {},
     "output_type": "execute_result"
    },
    {
     "data": {
      "image/png": "[encoded data removed]",
      "text/plain": [
       "<Figure size 432x288 with 2 Axes>"
      ]
     },
     "metadata": {
      "needs_background": "light"
     },
     "output_type": "display_data"
    }
   ],
   "source": [
    "url = 'https://ogden_images.s3.amazonaws.com/www.timesrepublican.com/images/2019/05/02231710/Fox-WEB-1100x739.jpg'\n",
    "url2 = 'https://www.sciencemag.org/sites/default/files/styles/article_main_large/public/elephant_1280p.jpg?itok=UT_i17Yh'\n",
    "im = Image.open(requests.get(url, stream=True).raw)\n",
    "img = transform(im).unsqueeze(0)\n",
    "im2 = Image.open(requests.get(url2, stream=True).raw)\n",
    "img2 = transform(im2).unsqueeze(0)\n",
    "batch= torch.cat((img, img2), 0)\n",
    "print(\"Input shape:\", img.shape)\n",
    "plt.subplot(221)\n",
    "plt.imshow(batch[0].cpu().permute(1, 2, 0))\n",
    "plt.subplot(222)\n",
    "plt.imshow(batch[1].cpu().permute(1, 2, 0))"
   ]
  },
  {
   "cell_type": "code",
   "execution_count": null,
   "metadata": {},
   "outputs": [],
   "source": []
  },
  {
   "cell_type": "code",
   "execution_count": 47,
   "metadata": {},
   "outputs": [
    {
     "name": "stdout",
     "output_type": "stream",
     "text": [
      "torch.Size([2, 8, 8, 3, 4, 4])\n"
     ]
    }
   ],
   "source": [
    "patches = img_patches(batch, grid_l)\n",
    "print(patches.shape)"
   ]
  },
  {
   "cell_type": "code",
   "execution_count": 48,
   "metadata": {},
   "outputs": [
    {
     "data": {
      "text/plain": [
       "<matplotlib.image.AxesImage at 0x7f0db7e38250>"
      ]
     },
     "execution_count": 48,
     "metadata": {},
     "output_type": "execute_result"
    },
    {
     "data": {
      "image/png": "[encoded data removed]",
      "text/plain": [
       "<Figure size 432x288 with 4 Axes>"
      ]
     },
     "metadata": {
      "needs_background": "light"
     },
     "output_type": "display_data"
    }
   ],
   "source": [
    "plt.subplot(221)\n",
    "plt.imshow(patches[0][0][2].cpu().permute(1, 2, 0))\n",
    "plt.subplot(222)\n",
    "plt.imshow(patches[0][0][3].cpu().permute(1, 2, 0))\n",
    "plt.subplot(223)\n",
    "plt.imshow(patches[0][1][2].cpu().permute(1, 2, 0))\n",
    "plt.subplot(224)\n",
    "plt.imshow(patches[0][1][3].cpu().permute(1, 2, 0))"
   ]
  },
  {
   "cell_type": "code",
   "execution_count": 53,
   "metadata": {},
   "outputs": [
    {
     "name": "stdout",
     "output_type": "stream",
     "text": [
      "torch.Size([2, 8, 8, 3, 3])\n"
     ]
    }
   ],
   "source": [
    "Grid = grid_gram_matrix(patches)\n",
    "print(Grid.shape)"
   ]
  },
  {
   "cell_type": "code",
   "execution_count": 99,
   "metadata": {},
   "outputs": [
    {
     "data": {
      "text/plain": [
       "<matplotlib.image.AxesImage at 0x7f0db78f40d0>"
      ]
     },
     "execution_count": 99,
     "metadata": {},
     "output_type": "execute_result"
    },
    {
     "data": {
      "image/png": "[encoded data removed]",
      "text/plain": [
       "<Figure size 432x288 with 4 Axes>"
      ]
     },
     "metadata": {
      "needs_background": "light"
     },
     "output_type": "display_data"
    }
   ],
   "source": [
    "plt.subplot(221)\n",
    "plt.imshow(Grid.permute(0,1,3,2,4).reshape(2, 8*3, 8*3)[0].cpu())\n",
    "plt.subplot(222)\n",
    "plt.imshow(Grid.permute(0,1,3,2,4).reshape(2, 8*3, 8*3)[1].cpu())\n",
    "plt.subplot(223)"
   ]
  },
  {
   "cell_type": "code",
   "execution_count": 96,
   "metadata": {},
   "outputs": [
    {
     "data": {
      "text/plain": [
       "torch.Size([2, 24, 24])"
      ]
     },
     "execution_count": 96,
     "metadata": {},
     "output_type": "execute_result"
    }
   ],
   "source": [
    "G.permute(0,1,3,2,4).reshape(2, 8*3, 8*3).shape"
   ]
  },
  {
   "cell_type": "code",
   "execution_count": 100,
   "metadata": {},
   "outputs": [
    {
     "name": "stdout",
     "output_type": "stream",
     "text": [
      "2 8 8 3 3\n"
     ]
    }
   ],
   "source": [
    "#[2, 8, 8, 3, 3]\n",
    "a, b, c, d, e = Grid.shape\n",
    "print(a, b, c, d, e)\n",
    "# for k in range(a):\n",
    "for i in range(b):\n",
    "    for j in range(c):\n",
    "        \n",
    "        "
   ]
  },
  {
   "cell_type": "code",
   "execution_count": 126,
   "metadata": {},
   "outputs": [],
   "source": [
    "bs = 2\n",
    "w = 32\n",
    "h = 32\n",
    "qt_hor_grids = w//4\n",
    "qt_ver_grids = h//4\n",
    "c = 0\n",
    "qtd_grids = 64\n",
    "grids = []\n",
    "for i in range(qtd_grids):\n",
    "    hor_pos = i//qt_hor_grids\n",
    "    ver_pos = c\n",
    "    c = c+1\n",
    "    grid = [hor_pos,ver_pos]\n",
    "    grids.append(grid)\n",
    "    if c == qt_ver_grids:\n",
    "        c=0\n",
    "#print(len(grids))\n",
    "MSE = nn.MSELoss()\n",
    "\n",
    "mse_grid = []\n",
    "for k in range(bs):\n",
    "    dist_grid = []\n",
    "    for g in range(len(grids)):\n",
    "        dist_pair_list = []\n",
    "        for n in range(len(grids)):\n",
    "            dist_pair_list.append(MSE(Grid[k][grids[g][0]][grids[g][1]], Grid[k][grids[n][0]][grids[n][1]]))\n",
    "        dist_grid.append(dist_pair_list)\n",
    "    mse_grid.append(dist_grid)\n",
    "    \n",
    "\n",
    "dist_matrix = torch.tensor(np.array(mse_grid))"
   ]
  },
  {
   "cell_type": "code",
   "execution_count": 130,
   "metadata": {},
   "outputs": [
    {
     "name": "stdout",
     "output_type": "stream",
     "text": [
      "torch.Size([2, 64, 64])\n"
     ]
    },
    {
     "data": {
      "text/plain": [
       "<matplotlib.image.AxesImage at 0x7f0db6004610>"
      ]
     },
     "execution_count": 130,
     "metadata": {},
     "output_type": "execute_result"
    },
    {
     "data": {
      "image/png": "[encoded data removed]",
      "text/plain": [
       "<Figure size 432x288 with 1 Axes>"
      ]
     },
     "metadata": {
      "needs_background": "light"
     },
     "output_type": "display_data"
    }
   ],
   "source": [
    "print(dist_matrix.shape)\n",
    "plt.subplot(221)\n",
    "plt.imshow(dist_matrix[1].cpu())"
   ]
  },
  {
   "cell_type": "code",
   "execution_count": 119,
   "metadata": {},
   "outputs": [
    {
     "data": {
      "text/plain": [
       "tensor(0.0002)"
      ]
     },
     "execution_count": 119,
     "metadata": {},
     "output_type": "execute_result"
    }
   ],
   "source": [
    "MSE = nn.MSELoss()\n",
    "MSE(Grid[0][grids[0][0]][grids[0][1]],Grid[0][grids[1][0]][grids[1][1]])"
   ]
  },
  {
   "cell_type": "code",
   "execution_count": 118,
   "metadata": {},
   "outputs": [
    {
     "data": {
      "text/plain": [
       "tensor([[0.0819, 0.0646, 0.0376],\n",
       "        [0.0646, 0.0516, 0.0295],\n",
       "        [0.0376, 0.0295, 0.0176]])"
      ]
     },
     "execution_count": 118,
     "metadata": {},
     "output_type": "execute_result"
    }
   ],
   "source": [
    "Grid[0][grids[0][0]][grids[0][1]]"
   ]
  },
  {
   "cell_type": "code",
   "execution_count": null,
   "metadata": {},
   "outputs": [],
   "source": []
  },
  {
   "cell_type": "code",
   "execution_count": 304,
   "metadata": {},
   "outputs": [],
   "source": [
    "def grids_list(batch_size, width, height, grid_l=2):\n",
    "    w = width\n",
    "    h = height\n",
    "    qt_hor_grids = w//grid_l\n",
    "    qt_ver_grids = h//grid_l\n",
    "    qtd_grids = qt_hor_grids*qt_ver_grids\n",
    "    c = 0\n",
    "    grids_list = []\n",
    "    for i in range(qtd_grids):\n",
    "        hor_pos = i//qt_hor_grids\n",
    "        ver_pos = c\n",
    "        c = c+1\n",
    "        grid = [hor_pos,ver_pos]\n",
    "        grids_list.append(grid)\n",
    "        if c == qt_ver_grids:\n",
    "            c=0\n",
    "    return grids_list\n",
    "\n",
    "def gram_dist_matrix(batch,grids,grid_l=2):\n",
    "    patches = img_patches(batch, grid_l)\n",
    "    #print(patches.shape)\n",
    "    Grid = grid_gram_matrix(patches)\n",
    "    #print(Grid.shape)\n",
    "    bs = batch.shape[0]\n",
    "    #print(bs)\n",
    "    MSE = nn.MSELoss()\n",
    "\n",
    "    mse_grid = []\n",
    "    for k in range(bs):\n",
    "        dist_grid = []\n",
    "        for g in range(len(grids)):\n",
    "            dist_pair_list = []\n",
    "            for n in range(len(grids)):\n",
    "                dist_pair_list.append(MSE(Grid[k][grids[g][0]][grids[g][1]], Grid[k][grids[n][0]][grids[n][1]]))\n",
    "            \n",
    "            dist_grid.append(dist_pair_list)\n",
    "        mse_grid.append(dist_grid)\n",
    "    \n",
    "    dist_matrix = torch.tensor(np.array(mse_grid))\n",
    "    \n",
    "    for i in range(bs):\n",
    "        dist_matrix[i] = dist_matrix[i].view(dist_matrix[i].size(0), -1)\n",
    "        dist_matrix[i] -= dist_matrix[i].min(1, keepdim=True)[0]\n",
    "        dist_matrix[i] /= dist_matrix[i].max(1, keepdim=True)[0]\n",
    "        dist_matrix[i] = dist_matrix[i].view(1, len(grids), len(grids))\n",
    "    \n",
    "    return dist_matrix"
   ]
  },
  {
   "cell_type": "code",
   "execution_count": 305,
   "metadata": {},
   "outputs": [
    {
     "name": "stdout",
     "output_type": "stream",
     "text": [
      "256\n"
     ]
    }
   ],
   "source": [
    "grids = grids_list(batch_size=2, width=32, height=32, grid_l=2)\n",
    "print(len(grids))"
   ]
  },
  {
   "cell_type": "code",
   "execution_count": 306,
   "metadata": {},
   "outputs": [
    {
     "name": "stdout",
     "output_type": "stream",
     "text": [
      "torch.Size([2, 256, 256])\n"
     ]
    }
   ],
   "source": [
    "dist_matrix = gram_dist_matrix(batch,grids,grid_l=2)\n",
    "print(dist_matrix.shape)"
   ]
  },
  {
   "cell_type": "code",
   "execution_count": 250,
   "metadata": {},
   "outputs": [
    {
     "data": {
      "text/plain": [
       "<matplotlib.image.AxesImage at 0x7f0db5ded1f0>"
      ]
     },
     "execution_count": 250,
     "metadata": {},
     "output_type": "execute_result"
    },
    {
     "data": {
      "image/png": "[encoded data removed]",
      "text/plain": [
       "<Figure size 432x288 with 2 Axes>"
      ]
     },
     "metadata": {
      "needs_background": "light"
     },
     "output_type": "display_data"
    }
   ],
   "source": [
    "plt.subplot(221)\n",
    "plt.imshow(dist_matrix[0].cpu())\n",
    "plt.subplot(222)\n",
    "plt.imshow(dist_matrix[1].cpu())"
   ]
  },
  {
   "cell_type": "code",
   "execution_count": 215,
   "metadata": {},
   "outputs": [],
   "source": []
  },
  {
   "cell_type": "code",
   "execution_count": null,
   "metadata": {},
   "outputs": [],
   "source": []
  },
  {
   "cell_type": "code",
   "execution_count": null,
   "metadata": {},
   "outputs": [],
   "source": []
  },
  {
   "cell_type": "code",
   "execution_count": null,
   "metadata": {},
   "outputs": [],
   "source": []
  },
  {
   "cell_type": "code",
   "execution_count": 226,
   "metadata": {},
   "outputs": [],
   "source": [
    "def grids_matrix(batch_size, width, height, grid_l=3):\n",
    "\n",
    "    w = width\n",
    "    h = height\n",
    "    len_input_seq = h*w\n",
    "    qt_hor_grids = w//grid_l\n",
    "    qt_ver_grids = h//grid_l\n",
    "\n",
    "\n",
    "    grid_list = []\n",
    "    for i in range(h):\n",
    "        row_grid_list = []\n",
    "        preliminar_ver_grid = i//grid_l\n",
    "        if preliminar_ver_grid != 0:\n",
    "            preliminar_ver_grid = preliminar_ver_grid*qt_hor_grids\n",
    "\n",
    "        for h in range(w):\n",
    "            preliminar_grid = h//grid_l+preliminar_ver_grid\n",
    "            row_grid_list.append(preliminar_grid)\n",
    "\n",
    "        grid_list.append(row_grid_list)\n",
    "    grid_matrix = torch.tensor(np.array(grid_list))\n",
    "\n",
    "    return grid_matrix"
   ]
  },
  {
   "cell_type": "code",
   "execution_count": 253,
   "metadata": {},
   "outputs": [
    {
     "data": {
      "text/plain": [
       "<matplotlib.image.AxesImage at 0x7f0db1a1ae80>"
      ]
     },
     "execution_count": 253,
     "metadata": {},
     "output_type": "execute_result"
    },
    {
     "data": {
      "image/png": "[encoded data removed]",
      "text/plain": [
       "<Figure size 432x288 with 1 Axes>"
      ]
     },
     "metadata": {
      "needs_background": "light"
     },
     "output_type": "display_data"
    }
   ],
   "source": [
    "gd_mtx = grids_matrix(batch_size=2, width=32, height=32, grid_l=2)\n",
    "gd_mtx.shape\n",
    "plt.subplot(221)\n",
    "plt.imshow(gd_mtx.cpu())"
   ]
  },
  {
   "cell_type": "code",
   "execution_count": 267,
   "metadata": {},
   "outputs": [],
   "source": [
    "def penalty_factor(dist_matrix, penalty_factor=\"1\", alpha=1):\n",
    "    if penalty_factor == \"1\" or penalty_factor ==\"distraction\":\n",
    "        pf_matrix = (dist_matrix+1)**alpha\n",
    "        return pf_matrix\n",
    "    if penalty_factor == \"2\" or penalty_factor ==\"misdirection\":\n",
    "        pf_matrix = alpha*((torch.max(dist_matrix)//2)-dist_matrix+0.1)**3\n",
    "        return pf_matrix\n",
    "pfmtx = penalty_factor(dist_matrix[0], penalty_factor=\"1\", alpha=1)"
   ]
  },
  {
   "cell_type": "code",
   "execution_count": 266,
   "metadata": {},
   "outputs": [
    {
     "data": {
      "text/plain": [
       "torch.Size([2, 256, 256])"
      ]
     },
     "execution_count": 266,
     "metadata": {},
     "output_type": "execute_result"
    }
   ],
   "source": [
    "pfmtx.shape"
   ]
  },
  {
   "cell_type": "code",
   "execution_count": 295,
   "metadata": {},
   "outputs": [
    {
     "name": "stdout",
     "output_type": "stream",
     "text": [
      "256\n",
      "256\n"
     ]
    },
    {
     "data": {
      "text/plain": [
       "torch.Size([2, 32, 32, 32, 32])"
      ]
     },
     "execution_count": 295,
     "metadata": {},
     "output_type": "execute_result"
    }
   ],
   "source": [
    "def penalty_matrix(batch_size, width, height, grid_matrix, dist_matrix, grid_l=2):\n",
    "    bs,_,_ = dist_matrix.shape\n",
    "    pep = []\n",
    "    for s in range(bs):\n",
    "        pf_matrix = penalty_factor(dist_matrix[s], penalty_factor=\"1\", alpha=1)\n",
    "        w = width\n",
    "        h = height\n",
    "\n",
    "        qt_hor_grids = w//grid_l\n",
    "        qt_ver_grids = h//grid_l\n",
    "        qtd_grids = qt_hor_grids*qt_ver_grids\n",
    "\n",
    "        penalty_mask = []\n",
    "        for i in range(qtd_grids):\n",
    "            ref_column = pf_matrix[i]\n",
    "            p_matrix = grid_matrix.type(torch.FloatTensor)\n",
    "            for j in range(1,len(ref_column)):\n",
    "                #print(float(j))\n",
    "                p_matrix[p_matrix==j]=float(ref_column[j])\n",
    "            p_matrix[p_matrix==0]=float(ref_column[0])\n",
    "            penalty_mask.append(p_matrix)\n",
    "\n",
    "        print(len(penalty_mask))    \n",
    "\n",
    "        penalty_enc = []\n",
    "        for i in range(h):\n",
    "            penalty_row = []\n",
    "            for j in range(w):\n",
    "                #print(grid_matrix[i,j])\n",
    "                #print(penalty_mask[grid_matrix[i,j]].shape)\n",
    "                penalty_row.append(penalty_mask[grid_matrix[i,j]])\n",
    "                #print(len(penalty_row))\n",
    "            generic_tensor = Tensor(h,w)\n",
    "            penalty_row_tensor = torch.cat(penalty_row, out=generic_tensor)\n",
    "            penalty_enc.append(penalty_row_tensor)\n",
    "            #print(penalty_row_tensor.shape)\n",
    "            #break\n",
    "\n",
    "        b = torch.Tensor(h, w, h, w)\n",
    "        c=torch.cat(penalty_enc, out=b)\n",
    "        c = c.view(h, w, h, w)\n",
    "        pep.append(c)\n",
    "\n",
    "    d = torch.Tensor(batch_size, h, w, h, w)\n",
    "    penalty_encoding_pattern = torch.cat(pep, out=d)\n",
    "    penalty_encoding_pattern = penalty_encoding_pattern.view(batch_size, h, w, h, w)\n",
    "\n",
    "    return penalty_encoding_pattern\n",
    "\n",
    "\n",
    "\n",
    "pmtx = penalty_matrix(batch_size=2, width=32, height=32, grid_matrix=gd_mtx, dist_matrix=dist_matrix, grid_l=2)\n",
    "pmtx.shape"
   ]
  },
  {
   "cell_type": "code",
   "execution_count": 301,
   "metadata": {},
   "outputs": [
    {
     "data": {
      "text/plain": [
       "<matplotlib.image.AxesImage at 0x7f0db0d8a8b0>"
      ]
     },
     "execution_count": 301,
     "metadata": {},
     "output_type": "execute_result"
    },
    {
     "data": {
      "image/png": "[encoded data removed]",
      "text/plain": [
       "<Figure size 432x288 with 4 Axes>"
      ]
     },
     "metadata": {
      "needs_background": "light"
     },
     "output_type": "display_data"
    }
   ],
   "source": [
    "plt.subplot(221)\n",
    "plt.imshow(pmtx[0][15][25])\n",
    "plt.subplot(222)\n",
    "plt.imshow(pfmtx)\n",
    "plt.subplot(223)\n",
    "plt.imshow(x)\n",
    "plt.subplot(224)\n",
    "plt.imshow(dist_matrix[0])"
   ]
  },
  {
   "cell_type": "code",
   "execution_count": 273,
   "metadata": {},
   "outputs": [
    {
     "name": "stdout",
     "output_type": "stream",
     "text": [
      "256\n"
     ]
    }
   ],
   "source": [
    "w = 32\n",
    "h = 32\n",
    "\n",
    "qt_hor_grids = w//2\n",
    "qt_ver_grids = h//2\n",
    "qtd_grids = qt_hor_grids*qt_ver_grids\n",
    "\n",
    "pf_matrix = pfmtx\n",
    "grid_matrix = gd_mtx\n",
    "\n",
    "penalty_mask = []\n",
    "for i in range(qtd_grids):\n",
    "    ref_column = pf_matrix[i]\n",
    "    p_matrix = grid_matrix.type(torch.FloatTensor)\n",
    "    for j in range(1,len(ref_column)):\n",
    "        #print(float(j))\n",
    "        p_matrix[p_matrix==j]=float(ref_column[j])\n",
    "    p_matrix[p_matrix==0]=float(ref_column[0])\n",
    "    penalty_mask.append(p_matrix)\n",
    "\n",
    "print(len(penalty_mask))    "
   ]
  },
  {
   "cell_type": "code",
   "execution_count": 291,
   "metadata": {},
   "outputs": [],
   "source": [
    "penalty_enc = []\n",
    "for i in range(h):\n",
    "    penalty_row = []\n",
    "    for j in range(w):\n",
    "        #print(grid_matrix[i,j])\n",
    "        #print(penalty_mask[grid_matrix[i,j]].shape)\n",
    "        penalty_row.append(penalty_mask[grid_matrix[i,j]])\n",
    "        #print(len(penalty_row))\n",
    "    generic_tensor = Tensor(h,w)\n",
    "    penalty_row_tensor = torch.cat(penalty_row, out=generic_tensor)\n",
    "    penalty_enc.append(penalty_row_tensor)\n",
    "    #print(penalty_row_tensor.shape)\n",
    "    #break\n",
    "\n",
    "b = torch.Tensor(h, w, h, w)\n",
    "c=torch.cat(penalty_enc, out=b)\n",
    "c = c.view(h, w, h, w)"
   ]
  },
  {
   "cell_type": "code",
   "execution_count": 292,
   "metadata": {},
   "outputs": [
    {
     "data": {
      "text/plain": [
       "torch.Size([32, 32, 32, 32])"
      ]
     },
     "execution_count": 292,
     "metadata": {},
     "output_type": "execute_result"
    }
   ],
   "source": [
    "c.shape"
   ]
  },
  {
   "cell_type": "code",
   "execution_count": 289,
   "metadata": {},
   "outputs": [
    {
     "data": {
      "text/plain": [
       "tensor([0., 0., 0., 0.])"
      ]
     },
     "execution_count": 289,
     "metadata": {},
     "output_type": "execute_result"
    }
   ],
   "source": [
    "p_matrix[p_matrix==0]"
   ]
  },
  {
   "cell_type": "code",
   "execution_count": 290,
   "metadata": {},
   "outputs": [
    {
     "data": {
      "text/plain": [
       "tensor(1.0141)"
      ]
     },
     "execution_count": 290,
     "metadata": {},
     "output_type": "execute_result"
    }
   ],
   "source": [
    "ref_column[0]"
   ]
  },
  {
   "cell_type": "code",
   "execution_count": 300,
   "metadata": {},
   "outputs": [],
   "source": [
    "def grids_matrix(width, height, grid_l=2):\n",
    "\n",
    "    w = width\n",
    "    h = height\n",
    "    len_input_seq = h*w\n",
    "    qt_hor_grids = w//grid_l\n",
    "    qt_ver_grids = h//grid_l\n",
    "\n",
    "\n",
    "    grid_list = []\n",
    "    for i in range(h):\n",
    "        row_grid_list = []\n",
    "        preliminar_ver_grid = i//grid_l\n",
    "        if preliminar_ver_grid != 0:\n",
    "            preliminar_ver_grid = preliminar_ver_grid*qt_hor_grids\n",
    "\n",
    "        for h in range(w):\n",
    "            preliminar_grid = h//grid_l+preliminar_ver_grid\n",
    "            row_grid_list.append(preliminar_grid)\n",
    "\n",
    "        grid_list.append(row_grid_list)\n",
    "    grid_matrix = torch.tensor(np.array(grid_list))\n",
    "\n",
    "    return grid_matrix\n",
    "x=grids_matrix(width=32, height=32, grid_l=2)"
   ]
  },
  {
   "cell_type": "code",
   "execution_count": 302,
   "metadata": {},
   "outputs": [],
   "source": [
    "def img_patches(batch, grid_l):\n",
    "    #torch.Tensor.unfold(dimension, size, step)\n",
    "    #slices the images into grid_l*grid_l size patches\n",
    "    patches = batch.data.unfold(1, 3, 3).unfold(2, grid_l, grid_l).unfold(3, grid_l, grid_l)\n",
    "    a, b, c, d, e, f, g = patches.shape\n",
    "    patches = patches.reshape(a, c, d, e, f, g)\n",
    "    #print(patches.shape)\n",
    "    return patches\n",
    "ptc = img_patches(batch,2)"
   ]
  },
  {
   "cell_type": "code",
   "execution_count": 303,
   "metadata": {},
   "outputs": [
    {
     "data": {
      "text/plain": [
       "torch.Size([2, 16, 16, 3, 2, 2])"
      ]
     },
     "execution_count": 303,
     "metadata": {},
     "output_type": "execute_result"
    }
   ],
   "source": [
    "ptc.shape"
   ]
  },
  {
   "cell_type": "code",
   "execution_count": null,
   "metadata": {},
   "outputs": [],
   "source": []
  }
 ],
 "metadata": {
  "kernelspec": {
   "display_name": "Python 3",
   "language": "python",
   "name": "python3"
  },
  "language_info": {
   "codemirror_mode": {
    "name": "ipython",
    "version": 3
   },
   "file_extension": ".py",
   "mimetype": "text/x-python",
   "name": "python",
   "nbconvert_exporter": "python",
   "pygments_lexer": "ipython3",
   "version": "3.8.2"
  }
 },
 "nbformat": 4,
 "nbformat_minor": 4
}
