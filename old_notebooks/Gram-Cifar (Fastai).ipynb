{
 "cells": [
  {
   "cell_type": "code",
   "execution_count": 1,
   "metadata": {},
   "outputs": [],
   "source": [
    "from fastai.vision.all import *\n",
    "from fastai.distributed import *\n",
    "from fastai.data import load\n",
    "from fastai.callback.tracker import SaveModelCallback\n",
    "from fastprogress import fastprogress\n",
    "\n",
    "from torchvision import datasets, transforms, models\n",
    "import torch.optim as optim\n",
    "from torch.optim import lr_scheduler\n",
    "import time\n",
    "import os\n",
    "import copy\n",
    "import torchvision.transforms as T\n",
    "import torch\n",
    "from torch.nn.parallel import DistributedDataParallel\n",
    "from torchvision.transforms.functional import *\n",
    "\n",
    "from PIL import Image\n",
    "import requests\n",
    "\n",
    "import matplotlib.pyplot as plt\n",
    "import numpy as np\n",
    "import torch.nn.functional as F\n",
    "from torch import nn\n",
    "\n",
    "import argparse\n",
    "from models.utils.joiner2 import Joiner\n",
    "from models.utils.new_losses import *\n",
    "from models.utils.metrics import Accuracy, Curating_Of_Attention_Loss\n",
    "from models.utils.dataLoader import *\n",
    "from models.utils.datasets import *\n",
    "import webdataset as wds"
   ]
  },
  {
   "cell_type": "code",
   "execution_count": 2,
   "metadata": {},
   "outputs": [],
   "source": [
    "torch.cuda.set_device(\"cuda:0\")\n",
    "device = torch.device(\"cuda:0\" if torch.cuda.is_available() else \"cpu\")"
   ]
  },
  {
   "cell_type": "code",
   "execution_count": 12,
   "metadata": {},
   "outputs": [],
   "source": [
    "#PARAMETERS\n",
    "\n",
    "train_path  = \"data/GramCifar/train/train_CustomCifar_4x4GridLabel_full.tar\"\n",
    "valid_path = \"data/GramCifar/train/train_CustomCifar_4x4GridLabel_full.tar\"\n",
    "\n",
    "H = 32\n",
    "W= 32\n",
    "bs = 5\n",
    "grid_l = 2\n",
    "nclass = 4\n",
    "use_patches = True\n",
    "epochs = 5\n",
    "\n",
    "beta = 0#.0005\n",
    "gamma = 0.0005\n",
    "sigma = 1.0"
   ]
  },
  {
   "cell_type": "code",
   "execution_count": 4,
   "metadata": {},
   "outputs": [],
   "source": [
    "#Loading the DataSets\n",
    "train_ds = torch.load(train_path)\n",
    "valid_ds = torch.load(valid_path)\n",
    "#LoadGramDataset(train_path, valid_path, normalize=False)"
   ]
  },
  {
   "cell_type": "code",
   "execution_count": null,
   "metadata": {},
   "outputs": [],
   "source": []
  },
  {
   "cell_type": "code",
   "execution_count": 5,
   "metadata": {},
   "outputs": [],
   "source": [
    "#Creating the dataloader\n",
    "dloader = GramCifarLoader(train_ds, valid_ds, bs)"
   ]
  },
  {
   "cell_type": "code",
   "execution_count": 6,
   "metadata": {},
   "outputs": [],
   "source": [
    "#Defining the Loss Function\n",
    "critic_loss = CriticLoss(beta=beta, sigma=sigma).to(device)"
   ]
  },
  {
   "cell_type": "code",
   "execution_count": 17,
   "metadata": {},
   "outputs": [],
   "source": [
    "#Building the model\n",
    "model = Joiner(num_encoder_layers = 8, nhead=8, use_patches = backbone, num_classes = nclass, bypass=False, hidden_dim=768, \n",
    "batch_size=bs, image_h=H, image_w=W, grid_l=1,penalty_factor=\"1\")"
   ]
  },
  {
   "cell_type": "code",
   "execution_count": 18,
   "metadata": {},
   "outputs": [
    {
     "name": "stdout",
     "output_type": "stream",
     "text": [
      "Shape out1: torch.Size([1, 4])\n",
      "Len out2: 8\n",
      "Shape out2: torch.Size([1, 1024, 1024])\n",
      "Category: tensor([0])\n"
     ]
    }
   ],
   "source": [
    "test = model(train_ds[0][0].unsqueeze(0))#.permute(1, 2, 0))\n",
    "print(\"Shape out1:\", test[0].shape)\n",
    "print(\"Len out2:\", len(test[1]))\n",
    "print(\"Shape out2:\", test[1][0].shape)\n",
    "print(\"Category:\", test[2])"
   ]
  },
  {
   "cell_type": "code",
   "execution_count": null,
   "metadata": {},
   "outputs": [],
   "source": []
  },
  {
   "cell_type": "code",
   "execution_count": 19,
   "metadata": {},
   "outputs": [],
   "source": [
    "#Wraping the Learner\n",
    "learner = Learner(dloader, model, loss_func=critic_loss, metrics=[Accuracy,Curating_Of_Attention_Loss])"
   ]
  },
  {
   "cell_type": "code",
   "execution_count": 20,
   "metadata": {},
   "outputs": [
    {
     "data": {
      "text/html": [],
      "text/plain": [
       "<IPython.core.display.HTML object>"
      ]
     },
     "metadata": {},
     "output_type": "display_data"
    },
    {
     "data": {
      "text/plain": [
       "SuggestedLRs(lr_min=1.58489319801447e-07, lr_steep=3.0199516913853586e-05)"
      ]
     },
     "execution_count": 20,
     "metadata": {},
     "output_type": "execute_result"
    },
    {
     "data": {
      "image/png": "[encoded data removed]",
      "text/plain": [
       "<Figure size 432x288 with 1 Axes>"
      ]
     },
     "metadata": {
      "needs_background": "light"
     },
     "output_type": "display_data"
    }
   ],
   "source": [
    "#Finding the best learning rate\n",
    "learner.lr_find()"
   ]
  },
  {
   "cell_type": "code",
   "execution_count": 11,
   "metadata": {},
   "outputs": [],
   "source": []
  },
  {
   "cell_type": "code",
   "execution_count": null,
   "metadata": {},
   "outputs": [],
   "source": [
    "#Fitting the model\n",
    "learner.fit(10, 4e-7)"
   ]
  },
  {
   "cell_type": "code",
   "execution_count": 17,
   "metadata": {},
   "outputs": [],
   "source": [
    "model_dir = Path.home()/'Luiz/saved_models'\n",
    "learner.export(model_dir/'test.pkl')"
   ]
  },
  {
   "cell_type": "code",
   "execution_count": 19,
   "metadata": {},
   "outputs": [],
   "source": []
  },
  {
   "cell_type": "code",
   "execution_count": 15,
   "metadata": {},
   "outputs": [],
   "source": [
    "model_dir = \"../saved_models/\"\n",
    "file_name = \"GramCifar_epochs-\"+\"20\"+\"-beta-\"+\"1e-4\"+\"_lr-\"+\"1e-7\"+\".pkl\"\n",
    "torch.save(learner.model,model_dir+file_name)"
   ]
  },
  {
   "cell_type": "code",
   "execution_count": null,
   "metadata": {},
   "outputs": [],
   "source": []
  },
  {
   "cell_type": "code",
   "execution_count": null,
   "metadata": {},
   "outputs": [],
   "source": [
    "#THE TRAINING LOOP\n",
    "# model outputs -> [x, sattn, pattn, inputs, x0]\n",
    "\n",
    "running_loss_history = [] # training loss - to generate a plot\n",
    "running_acc_history = [] # traning accuracy\n",
    "running_latt_history = [] # traning accuracy\n",
    "\n",
    "val_running_loss_history = [] # validation loss\n",
    "val_running_acc_history = [] # validation accuracy\n",
    "\n",
    "for e in range(epochs):\n",
    "  \n",
    "    start_time = time.time()\n",
    "    print('Epoch {}/{}'.format(e+1, epochs))\n",
    "    print('-' * 10)\n",
    "\n",
    "    running_loss = 0.0\n",
    "    running_acc = 0.0\n",
    "    running_latt = 0.0\n",
    "    \n",
    "    val_running_loss = 0.0\n",
    "    val_running_acc = 0.0\n",
    "    \n",
    "    batch=0\n",
    "    \n",
    "    for inputs, labels in train_loader:\n",
    "        \n",
    "        batch+=1\n",
    "        sys.stdout.write('\\rBatch: %d' %batch)\n",
    "        sys.stdout.flush()\n",
    "\n",
    "        #TRAINING\n",
    "        inputs = inputs.to(device) # allow gpu use\n",
    "        labels[0] = labels[0].to(device)\n",
    "        labels[1] = labels[1].to(device)# allow gpu use\n",
    "        outputs = model(inputs) #gives the output of the last layer\n",
    "        loss = train_loss(outputs, labels) # comparing outputs and labels using the criteria\n",
    "        \n",
    "        optimizer.zero_grad() #zero the grad\n",
    "        loss.backward() #backpropagation\n",
    "        optimizer.step() #optimize weights \n",
    "\n",
    "        #COMPUTING TRAINING METRICS\n",
    "        acc = Accuracy(outputs,labels)\n",
    "        latt = Curating_Of_Attention_Loss(outputs,labels)\n",
    "        \n",
    "        running_loss += loss.item() # the sum of the loss of all itens\n",
    "        running_acc += acc\n",
    "        running_latt += latt\n",
    "        \n",
    "        Typenone = 0\n",
    "        zeros = 0\n",
    "        normal = 0\n",
    "        for name, param in model.named_parameters():\n",
    "            if param.grad == None:\n",
    "                Typenone +=1\n",
    "            elif torch.sum(param.grad) == 0:\n",
    "                zeros += 1\n",
    "            else:\n",
    "                normal += 1\n",
    "        if Typenone >10:\n",
    "            print(\"None parameters:\",Typenone)\n",
    "            for name, param in model.named_parameters():\n",
    "                if param.grad == None:\n",
    "                    print(name)\n",
    "        if zeros > 5:\n",
    "            print(\"Zero Grad Parameters:\", zeros)\n",
    "        #print(\"Normally computed Parameters:\",normal)\n",
    "                \n",
    "                \n",
    "    else:\n",
    "        #VALIDATION\n",
    "        with torch.no_grad(): # to save memory (temporalely set all the requires grad to be false)\n",
    "            for val_inputs, val_labels in valid_loader:\n",
    "                val_inputs = val_inputs.to(device) # allow gpu use\n",
    "                val_labels = val_labels.to(device) # allow gpu use\n",
    "                val_outputs = model(val_inputs) #passes the image through the network and get the output\n",
    "                val_loss = valid_loss(val_outputs, val_labels) #compare output and labels to get the loss \n",
    "\n",
    "                val_acc = Accuracy(val_outputs,val_labels)\n",
    "                val_running_loss += val_loss.item() #same as for training\n",
    "                val_running_acc += val_acc\n",
    "                \n",
    "    #Adding one step to the optimizer            \n",
    "    model_lr_scheduler.step()\n",
    "    \n",
    "    #TRAINING LOSS AND ACCURACY\n",
    "    epoch_loss = running_loss/len(train_ds) # the sum of the loss of all itens divided by the number of itens\n",
    "    epoch_acc = running_acc/len(train_loader) # the sum of correct predictions divided by the number of itens\n",
    "    epoch_latt = running_latt/len(train_loader)\n",
    "    \n",
    "    running_loss_history.append(epoch_loss) #append to respective list\n",
    "    running_acc_history.append(epoch_acc) #append to respective list\n",
    "    running_latt_history.append(epoch_latt) #append to respective list\n",
    "\n",
    "    #VALIDATION LOSS AND ACCURACY\n",
    "    val_epoch_loss = val_running_loss/len(valid_ds)\n",
    "    val_epoch_acc = val_acc/ len(valid_loader)\n",
    "    \n",
    "    val_running_loss_history.append(val_epoch_loss) #append to respective list\n",
    "    val_running_acc_history.append(val_epoch_acc) #append to respective list\n",
    "    \n",
    "    \n",
    "    epoch_time_elapsed = time.time() - start_time\n",
    "    print('Epoch training complete in {:.0f}m {:.0f}s'.format(\n",
    "            epoch_time_elapsed // 60, epoch_time_elapsed % 60))\n",
    "    print('training loss: {:.4f}, acc {:.4f}, noised acc {:.4f} '.format(epoch_loss, epoch_acc.item(), epoch_noised_acc.item()))\n",
    "    print('validation loss: {:.4f}, validation acc {:.4f} '.format(val_epoch_loss, val_epoch_acc.item()))"
   ]
  }
 ],
 "metadata": {
  "kernelspec": {
   "display_name": "Python 3",
   "language": "python",
   "name": "python3"
  },
  "language_info": {
   "codemirror_mode": {
    "name": "ipython",
    "version": 3
   },
   "file_extension": ".py",
   "mimetype": "text/x-python",
   "name": "python",
   "nbconvert_exporter": "python",
   "pygments_lexer": "ipython3",
   "version": "3.8.2"
  }
 },
 "nbformat": 4,
 "nbformat_minor": 4
}
