{
 "cells": [
  {
   "cell_type": "code",
   "execution_count": null,
   "metadata": {},
   "outputs": [],
   "source": [
    "from fastai.vision.all import *\n",
    "from fastai.distributed import *\n",
    "from fastai.vision.gan import *\n",
    "from fastai.callback.tracker import SaveModelCallback\n",
    "from fastai import torch_core\n",
    "\n",
    "from fastprogress import fastprogress\n",
    "import torch\n",
    "import argparse\n",
    "from models.utils.gan_joiner import GAN\n",
    "from models.utils.losses import *\n",
    "from models.utils.metrics import *\n",
    "from models.utils.misc import *\n",
    "from models.unet import UNet\n",
    "from models.utils.datasets import *\n",
    "\n",
    "from torchvision import datasets, transforms, models\n",
    "import torchvision.transforms as T"
   ]
  },
  {
   "cell_type": "code",
   "execution_count": null,
   "metadata": {},
   "outputs": [],
   "source": [
    "H = 320\n",
    "W= 320\n",
    "bs = 5\n",
    "nclass = 10\n",
    "#seed = 1234\n",
    "#torch.manual_seed(seed)\n",
    "#torch.cuda.manual_seed(seed)"
   ]
  },
  {
   "cell_type": "code",
   "execution_count": null,
   "metadata": {},
   "outputs": [],
   "source": [
    "#path = './data/ImageNetRotation1k/'\n",
    "path = untar_data(URLs.IMAGENETTE_320)\n",
    "\n",
    "transform = ([*aug_transforms(),Normalize.from_stats([0.485, 0.456, 0.406], [0.229, 0.224, 0.225])])\n",
    "\n",
    "data = DataBlock(blocks=(ImageBlock, CategoryBlock), \n",
    "                 get_items=get_image_files, \n",
    "                 splitter=RandomSplitter(),\n",
    "                 get_y=parent_label,\n",
    "                 item_tfms=Resize(H,W),\n",
    "                 batch_tfms=transform)\n",
    "\n",
    "dloader = data.dataloaders(path,bs=bs) "
   ]
  },
  {
   "cell_type": "code",
   "execution_count": null,
   "metadata": {},
   "outputs": [],
   "source": [
    "GanLoss = GanLossWrapper(beta=0.000000, gamma=0.005,sigma=1)\n",
    "\n",
    "gan = GAN(num_encoder_layers = 4, nhead=4, backbone = True, num_classes = nclass, bypass=False, hidden_dim=256, \n",
    "          batch_size=bs, image_h=H, image_w=W,grid_l=4,penalty_factor=\"2\")"
   ]
  },
  {
   "cell_type": "code",
   "execution_count": null,
   "metadata": {},
   "outputs": [],
   "source": [
    "gan.generatorSwitcher()\n",
    "gan.noiseSwitcher()\n",
    "print(\"Noise mode:\", gan.noise_mode)\n",
    "print(\"Generator mode:\", gan.generator_mode)\n",
    "gan.paramsToUpdate()\n",
    "gan.assertParams()"
   ]
  },
  {
   "cell_type": "code",
   "execution_count": null,
   "metadata": {},
   "outputs": [],
   "source": [
    "@patch\n",
    "def load(self:Learner, file, with_opt=None, device=None, **kwargs):\n",
    "    print(\"Model load\")\n",
    "    if device is None and hasattr(self.dls, 'device'): device = self.dls.device\n",
    "    if with_opt is None: self.opt=None\n",
    "    file = join_path_file(file, self.path/self.model_dir, ext='.pth')\n",
    "    load_model(file, self.model, self.opt, device=device, **kwargs)\n",
    "    return self\n",
    "#Learner.load = alt_load"
   ]
  },
  {
   "cell_type": "code",
   "execution_count": null,
   "metadata": {},
   "outputs": [],
   "source": []
  },
  {
   "cell_type": "code",
   "execution_count": null,
   "metadata": {},
   "outputs": [],
   "source": [
    "critic_learner = Learner(dloader, gan, loss_func=GanLoss, metrics=[Reconstruction_Loss, Accuracy])\n",
    "generator_learner = Learner(dloader, gan, loss_func=GanLoss, metrics=[Reconstruction_Loss, Accuracy])"
   ]
  },
  {
   "cell_type": "code",
   "execution_count": null,
   "metadata": {},
   "outputs": [],
   "source": [
    "critic_learner.model.generatorSwitcher()\n",
    "critic_learner.model.noiseSwitcher()\n",
    "critic_learner.model.paramsToUpdate()"
   ]
  },
  {
   "cell_type": "code",
   "execution_count": null,
   "metadata": {},
   "outputs": [],
   "source": [
    "print(\"Critic Noise mode:\", critic_learner.model.noise_mode)\n",
    "print(\"Critic Gen mode:\", critic_learner.model.generator_mode)\n",
    "print(\"Generator Noise mode:\", generator_learner.model.noise_mode)\n",
    "print(\"Generator Gen mode:\", generator_learner.model.generator_mode)"
   ]
  },
  {
   "cell_type": "code",
   "execution_count": null,
   "metadata": {},
   "outputs": [],
   "source": [
    "assert critic_learner.model == generator_learner.model"
   ]
  },
  {
   "cell_type": "code",
   "execution_count": null,
   "metadata": {},
   "outputs": [],
   "source": []
  },
  {
   "cell_type": "code",
   "execution_count": null,
   "metadata": {},
   "outputs": [],
   "source": [
    "print(\"Noise mode:\", critic_learner.model.noise_mode)\n",
    "print(\"Generator mode:\", critic_learner.model.generator_mode)\n",
    "critic_learner.lr_find()"
   ]
  },
  {
   "cell_type": "code",
   "execution_count": null,
   "metadata": {},
   "outputs": [],
   "source": [
    "generator_learner.model.generatorSwitcher()\n",
    "generator_learner.model.noiseSwitcher()\n",
    "generator_learner.model.paramsToUpdate()\n",
    "print(\"Noise mode:\", generator_learner.model.noise_mode)\n",
    "print(\"Generator mode:\", generator_learner.model.generator_mode)\n",
    "generator_learner.model.assertParams()\n",
    "generator_learner.lr_find()"
   ]
  },
  {
   "cell_type": "code",
   "execution_count": null,
   "metadata": {},
   "outputs": [],
   "source": []
  },
  {
   "cell_type": "code",
   "execution_count": null,
   "metadata": {},
   "outputs": [],
   "source": []
  },
  {
   "cell_type": "code",
   "execution_count": null,
   "metadata": {
    "scrolled": true
   },
   "outputs": [],
   "source": [
    "epochs = 3\n",
    "for e in range(epochs):\n",
    "    \n",
    "    print(\"Epoch\", e+1)\n",
    "    print(\"Generator training\")\n",
    "    assert critic_learner.model == generator_learner.model\n",
    "    #Generator Training\n",
    "    print(\"Noise mode:\", generator_learner.model.noise_mode)\n",
    "    print(\"Generator mode:\", generator_learner.model.generator_mode)\n",
    "    gan.paramsToUpdate()\n",
    "    gan.assertParams()\n",
    "    \n",
    "    generator_learner.fit_one_cycle(1,0.001)\n",
    "    \n",
    "    print(\"Critit training without noised images\")\n",
    "    assert critic_learner.model == generator_learner.model\n",
    "    gan.generatorSwitcher()\n",
    "    gan.noiseSwitcher()\n",
    "    gan.paramsToUpdate()\n",
    "    gan.assertParams()\n",
    "    print(\"Noise mode:\", critic_learner.model.noise_mode)\n",
    "    print(\"Generator mode:\", critic_learner.model.generator_mode)\n",
    "    \n",
    "    critic_learner.fit_one_cycle(1,2e-6)\n",
    "    \n",
    "    print(\"Critit training with noised images\")\n",
    "    assert critic_learner.model == generator_learner.model\n",
    "    #Critit training with noised images\n",
    "    gan.noiseSwitcher()\n",
    "    gan.assertParams()\n",
    "    print(\"Noise mode:\", critic_learner.model.noise_mode)\n",
    "    print(\"Generator mode:\", critic_learner.model.generator_mode)\n",
    "    critic_learner.fit_one_cycle(1,2e-6)\n",
    "    gan.generatorSwitcher()"
   ]
  },
  {
   "cell_type": "code",
   "execution_count": null,
   "metadata": {},
   "outputs": [],
   "source": [
    "def gan_create_opt(self):\n",
    "    self.opt = [self.opt_func(self.splitter(self.model), lr=self.lr),self.opt_func(self.splitter(self.model), lr=self.lr)]\n",
    "    if not self.wd_bn_bias:\n",
    "        for p in self._bn_bias_state(True ): p['do_wd'] = False\n",
    "    if self.train_bn:\n",
    "        for p in self._bn_bias_state(False): p['force_train'] = True\n",
    "Learner.create_opt = gan_create_opt"
   ]
  },
  {
   "cell_type": "code",
   "execution_count": null,
   "metadata": {},
   "outputs": [],
   "source": [
    "critic_learner.create_opt()"
   ]
  },
  {
   "cell_type": "code",
   "execution_count": null,
   "metadata": {},
   "outputs": [],
   "source": [
    "#critic_learner.model.model.encoder.encoder.layers[3].self_attn.out_proj.weight == generator_learner.model.model.encoder.encoder.layers[3].self_attn.out_proj.weight"
   ]
  },
  {
   "cell_type": "code",
   "execution_count": null,
   "metadata": {},
   "outputs": [],
   "source": []
  }
 ],
 "metadata": {
  "kernelspec": {
   "display_name": "Python 3",
   "language": "python",
   "name": "python3"
  },
  "language_info": {
   "codemirror_mode": {
    "name": "ipython",
    "version": 3
   },
   "file_extension": ".py",
   "mimetype": "text/x-python",
   "name": "python",
   "nbconvert_exporter": "python",
   "pygments_lexer": "ipython3",
   "version": "3.8.2"
  }
 },
 "nbformat": 4,
 "nbformat_minor": 4
}
