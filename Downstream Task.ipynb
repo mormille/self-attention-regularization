{
 "cells": [
  {
   "cell_type": "code",
   "execution_count": 1,
   "metadata": {},
   "outputs": [],
   "source": [
    "from fastai.vision.all import *\n",
    "from fastai.distributed import *\n",
    "from fastai.metrics import error_rate\n",
    "from fastai.callback.tracker import SaveModelCallback\n",
    "import argparse\n",
    "\n",
    "from torchvision import datasets, transforms, models\n",
    "import torch.optim as optim\n",
    "from torch.optim import lr_scheduler\n",
    "import time\n",
    "import os\n",
    "import copy\n",
    "import torchvision.transforms as T\n",
    "import torch\n",
    "from torch.nn.parallel import DistributedDataParallel\n",
    "from torchvision.transforms.functional import *\n",
    "\n",
    "from PIL import Image\n",
    "import requests\n",
    "\n",
    "import matplotlib.pyplot as plt\n",
    "import numpy as np\n",
    "import torch.nn.functional as F\n",
    "from torch import nn\n",
    "\n",
    "import argparse\n",
    "from models.utils.joiner3 import ImageNetJoiner\n",
    "from models.utils.new_losses import *\n",
    "from models.utils.metrics import *\n",
    "from models.utils.dataLoader import *\n",
    "from models.utils.datasets import *"
   ]
  },
  {
   "cell_type": "code",
   "execution_count": 2,
   "metadata": {},
   "outputs": [],
   "source": [
    "torch.cuda.set_device(\"cuda:3\")\n",
    "device = torch.device(\"cuda:3\" if torch.cuda.is_available() else \"cpu\")"
   ]
  },
  {
   "cell_type": "code",
   "execution_count": 3,
   "metadata": {},
   "outputs": [],
   "source": [
    "H = 256\n",
    "W= 256\n",
    "bs = 5"
   ]
  },
  {
   "cell_type": "code",
   "execution_count": 4,
   "metadata": {},
   "outputs": [],
   "source": [
    "def get_gm(r):\n",
    "    label = parent_label(r)\n",
    "    a = attrgetter(\"name\")\n",
    "    rgex = RegexLabeller(pat = r'image(.*?).jpeg') \n",
    "    gm = torch.load(save_path+\"/gramm/\"+str(label)+\"/gm\"+rgex(a(r))+\".pt\")\n",
    "    return gm, TensorCategory(int(label))"
   ]
  },
  {
   "cell_type": "code",
   "execution_count": null,
   "metadata": {},
   "outputs": [],
   "source": []
  },
  {
   "cell_type": "code",
   "execution_count": null,
   "metadata": {},
   "outputs": [],
   "source": []
  },
  {
   "cell_type": "code",
   "execution_count": null,
   "metadata": {},
   "outputs": [],
   "source": []
  },
  {
   "cell_type": "code",
   "execution_count": 5,
   "metadata": {},
   "outputs": [],
   "source": [
    "def paths(name = 'Layer3', dataset = 'IMAGENETTE'): \n",
    "    model_dir = Path.home()/'Luiz/saved_models/paper/finetuned'\n",
    "    wname = name+'_'+dataset+'.pth'\n",
    "    weights_path = model_dir/wname\n",
    "    if dataset == 'IMAGENETTE':\n",
    "        data_path = untar_data(URLs.IMAGENETTE)\n",
    "    elif dataset == 'IMAGEWOOF':\n",
    "        data_path = untar_data(URLs.IMAGEWOOF)\n",
    "    elif dataset == 'CIFAR':\n",
    "        data_path = untar_data(URLs.CIFAR)\n",
    "    elif dataset == 'CIFAR100':\n",
    "        data_path = untar_data(URLs.CIFAR_100)  \n",
    "    elif dataset == 'CALTECH_101':    \n",
    "        data_path = untar_data(URLs.CALTECH_101) \n",
    "    elif dataset == 'FLOWERS':\n",
    "        data_path = untar_data(URLs.FLOWERS)\n",
    "    else:\n",
    "        data_path = None\n",
    "        \n",
    "    return weights_path, data_path"
   ]
  },
  {
   "cell_type": "code",
   "execution_count": 6,
   "metadata": {},
   "outputs": [],
   "source": [
    "def get_gm(r):\n",
    "    label = parent_label(r)\n",
    "    a = attrgetter(\"name\")\n",
    "    rgex = RegexLabeller(pat = r'image(.*?).jpeg') \n",
    "    gm = torch.load(save_path+\"/gramm/\"+str(label)+\"/gm\"+rgex(a(r))+\".pt\")\n",
    "    return gm, TensorCategory(int(label))\n",
    "\n",
    "def load_model():\n",
    "    model_path = Path.home()/'Luiz/saved_models/paper/ARViT-Base.pkl'\n",
    "    net = load_learner(model_path, cpu=False)\n",
    "    model = net.model\n",
    "        \n",
    "    return model\n",
    "\n",
    "def model_head(model, n_classes):\n",
    "    model.head = nn.Linear(512*16*16, n_classes)\n",
    "    #model.noise_mode = True\n",
    "    #model.generator_mode = False\n",
    "\n",
    "    trainable = ['head.weight','head.bias']\n",
    "    for name, p in model.named_parameters():\n",
    "        if name not in trainable:\n",
    "            p.requires_grad = False\n",
    "        else:\n",
    "            p.requires_grad = True\n",
    "            \n",
    "def data_loader(path):\n",
    "    transform = ([*aug_transforms(),Normalize.from_stats([0.485, 0.456, 0.406], [0.229, 0.224, 0.225])])\n",
    "\n",
    "    data = DataBlock(blocks=(ImageBlock, CategoryBlock), \n",
    "                     get_items=get_image_files, \n",
    "                     splitter=RandomSplitter(),\n",
    "                     get_y=parent_label,\n",
    "                     item_tfms=Resize(H,W),\n",
    "                     batch_tfms=transform)\n",
    "\n",
    "    dloader = data.dataloaders(path,bs=bs)\n",
    "    return dloader\n",
    "\n",
    "def flowers_loader(path):\n",
    "    Path.BASE_PATH = path\n",
    "    path.ls()\n",
    "    df = pd.read_csv('data/flowers.csv')\n",
    "\n",
    "    transform = ([*aug_transforms(),Normalize.from_stats([0.485, 0.456, 0.406], [0.229, 0.224, 0.225])])\n",
    "\n",
    "    def get_x(r): return path/r['name']\n",
    "    def get_y(r): return r['class']\n",
    "\n",
    "    dblock = DataBlock(blocks    = (ImageBlock, CategoryBlock),\n",
    "                       n_inp=1,\n",
    "                       splitter=RandomSplitter(seed=42),\n",
    "                       get_x= get_x,\n",
    "                       get_y= get_y, \n",
    "                       item_tfms = Resize(256),\n",
    "                       #batch_tfms= Normalize.from_stats(*imagenet_stats)\n",
    "                       batch_tfms= transform\n",
    "                      )\n",
    "\n",
    "    dloader = dblock.dataloaders(df, bs=bs)\n",
    "    return dloader"
   ]
  },
  {
   "cell_type": "code",
   "execution_count": 7,
   "metadata": {},
   "outputs": [],
   "source": [
    "def model_test(n_class, name='Layer3', dataset='IMAGENETTE', epochs=1, lr=1e-9):\n",
    "    weights_path, path_data = paths(name, dataset)\n",
    "    #print(path_model, weights_path, path_data)\n",
    "    model = load_model()\n",
    "    model_head(model, n_class)\n",
    "    print(\"path model:\", weights_path)\n",
    "    weight_dict = load_learner(weights_path, cpu=False)\n",
    "    model.load_state_dict(weight_dict)\n",
    "    print(\"weights loaded\")\n",
    "        \n",
    "    if dataset == 'FLOWERS':\n",
    "        dloader = flowers_loader(path_data)\n",
    "    else:\n",
    "        dloader = data_loader(path_data)\n",
    "    #Defining the Loss Function\n",
    "    critic_loss = SingleLabelCriticLoss()\n",
    "    \n",
    "    #Wraping the Learner\n",
    "    learner = Learner(dloader, model, loss_func=critic_loss, metrics=[Accuracy])\n",
    "    learner.fit_one_cycle(epochs, lr)\n",
    "    #learner.fine_tune(60, base_lr=5e-4, freeze_epochs=30)"
   ]
  },
  {
   "cell_type": "code",
   "execution_count": 9,
   "metadata": {},
   "outputs": [
    {
     "ename": "NameError",
     "evalue": "name 'n_class' is not defined",
     "output_type": "error",
     "traceback": [
      "\u001b[0;31m---------------------------------------------------------------------------\u001b[0m",
      "\u001b[0;31mNameError\u001b[0m                                 Traceback (most recent call last)",
      "\u001b[0;32m<ipython-input-9-3f3a141bad56>\u001b[0m in \u001b[0;36m<module>\u001b[0;34m\u001b[0m\n\u001b[1;32m      2\u001b[0m \u001b[0;31m#print(path_model, weights_path, path_data)\u001b[0m\u001b[0;34m\u001b[0m\u001b[0;34m\u001b[0m\u001b[0;34m\u001b[0m\u001b[0m\n\u001b[1;32m      3\u001b[0m \u001b[0mmodel\u001b[0m \u001b[0;34m=\u001b[0m \u001b[0mload_model\u001b[0m\u001b[0;34m(\u001b[0m\u001b[0;34m)\u001b[0m\u001b[0;34m\u001b[0m\u001b[0;34m\u001b[0m\u001b[0m\n\u001b[0;32m----> 4\u001b[0;31m \u001b[0mmodel_head\u001b[0m\u001b[0;34m(\u001b[0m\u001b[0mmodel\u001b[0m\u001b[0;34m,\u001b[0m \u001b[0mn_class\u001b[0m\u001b[0;34m)\u001b[0m\u001b[0;34m\u001b[0m\u001b[0;34m\u001b[0m\u001b[0m\n\u001b[0m\u001b[1;32m      5\u001b[0m \u001b[0mprint\u001b[0m\u001b[0;34m(\u001b[0m\u001b[0;34m\"path model:\"\u001b[0m\u001b[0;34m,\u001b[0m \u001b[0mweights_path\u001b[0m\u001b[0;34m)\u001b[0m\u001b[0;34m\u001b[0m\u001b[0;34m\u001b[0m\u001b[0m\n\u001b[1;32m      6\u001b[0m \u001b[0mweight_dict\u001b[0m \u001b[0;34m=\u001b[0m \u001b[0mload_learner\u001b[0m\u001b[0;34m(\u001b[0m\u001b[0mweights_path\u001b[0m\u001b[0;34m,\u001b[0m \u001b[0mcpu\u001b[0m\u001b[0;34m=\u001b[0m\u001b[0;32mFalse\u001b[0m\u001b[0;34m)\u001b[0m\u001b[0;34m\u001b[0m\u001b[0;34m\u001b[0m\u001b[0m\n",
      "\u001b[0;31mNameError\u001b[0m: name 'n_class' is not defined"
     ]
    }
   ],
   "source": [
    "weights_path, path_data = paths('Layer3', 'IMAGENETTE')\n",
    "#print(path_model, weights_path, path_data)\n",
    "model = load_model()\n",
    "model_head(model, n_class)\n",
    "print(\"path model:\", weights_path)\n",
    "weight_dict = load_learner(weights_path, cpu=False)\n",
    "model.load_state_dict(weight_dict)\n",
    "print(\"weights loaded\")"
   ]
  },
  {
   "cell_type": "code",
   "execution_count": 8,
   "metadata": {},
   "outputs": [
    {
     "name": "stdout",
     "output_type": "stream",
     "text": [
      "path model: /home/atsumilab/Luiz/saved_models/paper/finetuned/ARViT-L1-G32_FLOWERS.pth\n",
      "weights loaded\n"
     ]
    },
    {
     "data": {
      "text/html": [
       "<table border=\"1\" class=\"dataframe\">\n",
       "  <thead>\n",
       "    <tr style=\"text-align: left;\">\n",
       "      <th>epoch</th>\n",
       "      <th>train_loss</th>\n",
       "      <th>valid_loss</th>\n",
       "      <th>Accuracy</th>\n",
       "      <th>time</th>\n",
       "    </tr>\n",
       "  </thead>\n",
       "  <tbody>\n",
       "    <tr>\n",
       "      <td>0</td>\n",
       "      <td>0.131137</td>\n",
       "      <td>0.606523</td>\n",
       "      <td>0.837508</td>\n",
       "      <td>00:36</td>\n",
       "    </tr>\n",
       "  </tbody>\n",
       "</table>"
      ],
      "text/plain": [
       "<IPython.core.display.HTML object>"
      ]
     },
     "metadata": {},
     "output_type": "display_data"
    }
   ],
   "source": [
    "model_test(n_class=102, name='ARViT-L1-G32', dataset='FLOWERS')"
   ]
  },
  {
   "cell_type": "code",
   "execution_count": 9,
   "metadata": {},
   "outputs": [
    {
     "name": "stdout",
     "output_type": "stream",
     "text": [
      "path model: /home/atsumilab/Luiz/saved_models/paper/finetuned/ARViT-L1-G32_Best_FLOWERS.pth\n",
      "weights loaded\n"
     ]
    },
    {
     "data": {
      "text/html": [
       "<table border=\"1\" class=\"dataframe\">\n",
       "  <thead>\n",
       "    <tr style=\"text-align: left;\">\n",
       "      <th>epoch</th>\n",
       "      <th>train_loss</th>\n",
       "      <th>valid_loss</th>\n",
       "      <th>Accuracy</th>\n",
       "      <th>time</th>\n",
       "    </tr>\n",
       "  </thead>\n",
       "  <tbody>\n",
       "    <tr>\n",
       "      <td>0</td>\n",
       "      <td>0.133211</td>\n",
       "      <td>0.611318</td>\n",
       "      <td>0.831399</td>\n",
       "      <td>00:36</td>\n",
       "    </tr>\n",
       "  </tbody>\n",
       "</table>"
      ],
      "text/plain": [
       "<IPython.core.display.HTML object>"
      ]
     },
     "metadata": {},
     "output_type": "display_data"
    }
   ],
   "source": [
    "model_test(n_class=102, name='ARViT-L1-G32_Best', dataset='FLOWERS')"
   ]
  },
  {
   "cell_type": "code",
   "execution_count": 10,
   "metadata": {},
   "outputs": [
    {
     "name": "stdout",
     "output_type": "stream",
     "text": [
      "path model: /home/atsumilab/Luiz/saved_models/paper/finetuned/ARViT-L6-G32_FLOWERS.pth\n",
      "weights loaded\n"
     ]
    },
    {
     "data": {
      "text/html": [
       "<table border=\"1\" class=\"dataframe\">\n",
       "  <thead>\n",
       "    <tr style=\"text-align: left;\">\n",
       "      <th>epoch</th>\n",
       "      <th>train_loss</th>\n",
       "      <th>valid_loss</th>\n",
       "      <th>Accuracy</th>\n",
       "      <th>time</th>\n",
       "    </tr>\n",
       "  </thead>\n",
       "  <tbody>\n",
       "    <tr>\n",
       "      <td>0</td>\n",
       "      <td>0.142949</td>\n",
       "      <td>0.581903</td>\n",
       "      <td>0.849114</td>\n",
       "      <td>00:37</td>\n",
       "    </tr>\n",
       "  </tbody>\n",
       "</table>"
      ],
      "text/plain": [
       "<IPython.core.display.HTML object>"
      ]
     },
     "metadata": {},
     "output_type": "display_data"
    }
   ],
   "source": [
    "model_test(n_class=102, name='ARViT-L6-G32', dataset='FLOWERS')"
   ]
  },
  {
   "cell_type": "code",
   "execution_count": 11,
   "metadata": {},
   "outputs": [
    {
     "name": "stdout",
     "output_type": "stream",
     "text": [
      "path model: /home/atsumilab/Luiz/saved_models/paper/finetuned/ARViT-L6-G32_Best_FLOWERS.pth\n",
      "weights loaded\n"
     ]
    },
    {
     "data": {
      "text/html": [
       "<table border=\"1\" class=\"dataframe\">\n",
       "  <thead>\n",
       "    <tr style=\"text-align: left;\">\n",
       "      <th>epoch</th>\n",
       "      <th>train_loss</th>\n",
       "      <th>valid_loss</th>\n",
       "      <th>Accuracy</th>\n",
       "      <th>time</th>\n",
       "    </tr>\n",
       "  </thead>\n",
       "  <tbody>\n",
       "    <tr>\n",
       "      <td>0</td>\n",
       "      <td>0.163460</td>\n",
       "      <td>0.599245</td>\n",
       "      <td>0.846671</td>\n",
       "      <td>00:36</td>\n",
       "    </tr>\n",
       "  </tbody>\n",
       "</table>"
      ],
      "text/plain": [
       "<IPython.core.display.HTML object>"
      ]
     },
     "metadata": {},
     "output_type": "display_data"
    }
   ],
   "source": [
    "model_test(n_class=102, name='ARViT-L6-G32_Best', dataset='FLOWERS')"
   ]
  },
  {
   "cell_type": "code",
   "execution_count": null,
   "metadata": {},
   "outputs": [],
   "source": []
  },
  {
   "cell_type": "code",
   "execution_count": 14,
   "metadata": {},
   "outputs": [
    {
     "name": "stdout",
     "output_type": "stream",
     "text": [
      "path model: /home/atsumilab/Luiz/saved_models/paper/finetuned/ARViT-L1-G32_CIFAR100.pth\n",
      "weights loaded\n"
     ]
    },
    {
     "data": {
      "text/html": [
       "<table border=\"1\" class=\"dataframe\">\n",
       "  <thead>\n",
       "    <tr style=\"text-align: left;\">\n",
       "      <th>epoch</th>\n",
       "      <th>train_loss</th>\n",
       "      <th>valid_loss</th>\n",
       "      <th>Accuracy</th>\n",
       "      <th>time</th>\n",
       "    </tr>\n",
       "  </thead>\n",
       "  <tbody>\n",
       "    <tr>\n",
       "      <td>0</td>\n",
       "      <td>0.939998</td>\n",
       "      <td>0.576333</td>\n",
       "      <td>0.848500</td>\n",
       "      <td>03:58</td>\n",
       "    </tr>\n",
       "  </tbody>\n",
       "</table>"
      ],
      "text/plain": [
       "<IPython.core.display.HTML object>"
      ]
     },
     "metadata": {},
     "output_type": "display_data"
    }
   ],
   "source": [
    "model_test(n_class=100, name='ARViT-L1-G32', dataset='CIFAR100')"
   ]
  },
  {
   "cell_type": "code",
   "execution_count": 15,
   "metadata": {},
   "outputs": [
    {
     "name": "stdout",
     "output_type": "stream",
     "text": [
      "path model: /home/atsumilab/Luiz/saved_models/paper/finetuned/ARViT-L1-G32_Best_CIFAR100.pth\n",
      "weights loaded\n"
     ]
    },
    {
     "data": {
      "text/html": [
       "<table border=\"1\" class=\"dataframe\">\n",
       "  <thead>\n",
       "    <tr style=\"text-align: left;\">\n",
       "      <th>epoch</th>\n",
       "      <th>train_loss</th>\n",
       "      <th>valid_loss</th>\n",
       "      <th>Accuracy</th>\n",
       "      <th>time</th>\n",
       "    </tr>\n",
       "  </thead>\n",
       "  <tbody>\n",
       "    <tr>\n",
       "      <td>0</td>\n",
       "      <td>0.942338</td>\n",
       "      <td>0.605219</td>\n",
       "      <td>0.840917</td>\n",
       "      <td>03:57</td>\n",
       "    </tr>\n",
       "  </tbody>\n",
       "</table>"
      ],
      "text/plain": [
       "<IPython.core.display.HTML object>"
      ]
     },
     "metadata": {},
     "output_type": "display_data"
    }
   ],
   "source": [
    "model_test(n_class=100, name='ARViT-L1-G32_Best', dataset='CIFAR100')"
   ]
  },
  {
   "cell_type": "code",
   "execution_count": 16,
   "metadata": {},
   "outputs": [
    {
     "name": "stdout",
     "output_type": "stream",
     "text": [
      "path model: /home/atsumilab/Luiz/saved_models/paper/finetuned/ARViT-L6-G32_CIFAR100.pth\n",
      "weights loaded\n"
     ]
    },
    {
     "data": {
      "text/html": [
       "<table border=\"1\" class=\"dataframe\">\n",
       "  <thead>\n",
       "    <tr style=\"text-align: left;\">\n",
       "      <th>epoch</th>\n",
       "      <th>train_loss</th>\n",
       "      <th>valid_loss</th>\n",
       "      <th>Accuracy</th>\n",
       "      <th>time</th>\n",
       "    </tr>\n",
       "  </thead>\n",
       "  <tbody>\n",
       "    <tr>\n",
       "      <td>0</td>\n",
       "      <td>0.951208</td>\n",
       "      <td>0.593923</td>\n",
       "      <td>0.847417</td>\n",
       "      <td>03:58</td>\n",
       "    </tr>\n",
       "  </tbody>\n",
       "</table>"
      ],
      "text/plain": [
       "<IPython.core.display.HTML object>"
      ]
     },
     "metadata": {},
     "output_type": "display_data"
    }
   ],
   "source": [
    "model_test(n_class=100, name='ARViT-L6-G32', dataset='CIFAR100')"
   ]
  },
  {
   "cell_type": "code",
   "execution_count": 17,
   "metadata": {},
   "outputs": [
    {
     "name": "stdout",
     "output_type": "stream",
     "text": [
      "path model: /home/atsumilab/Luiz/saved_models/paper/finetuned/ARViT-L6-G32_Best_CIFAR100.pth\n",
      "weights loaded\n"
     ]
    },
    {
     "data": {
      "text/html": [
       "<table border=\"1\" class=\"dataframe\">\n",
       "  <thead>\n",
       "    <tr style=\"text-align: left;\">\n",
       "      <th>epoch</th>\n",
       "      <th>train_loss</th>\n",
       "      <th>valid_loss</th>\n",
       "      <th>Accuracy</th>\n",
       "      <th>time</th>\n",
       "    </tr>\n",
       "  </thead>\n",
       "  <tbody>\n",
       "    <tr>\n",
       "      <td>0</td>\n",
       "      <td>0.913626</td>\n",
       "      <td>0.584167</td>\n",
       "      <td>0.848000</td>\n",
       "      <td>03:58</td>\n",
       "    </tr>\n",
       "  </tbody>\n",
       "</table>"
      ],
      "text/plain": [
       "<IPython.core.display.HTML object>"
      ]
     },
     "metadata": {},
     "output_type": "display_data"
    }
   ],
   "source": [
    "model_test(n_class=100, name='ARViT-L6-G32_Best', dataset='CIFAR100')"
   ]
  },
  {
   "cell_type": "code",
   "execution_count": null,
   "metadata": {},
   "outputs": [],
   "source": []
  },
  {
   "cell_type": "code",
   "execution_count": 18,
   "metadata": {},
   "outputs": [
    {
     "name": "stdout",
     "output_type": "stream",
     "text": [
      "path model: /home/atsumilab/Luiz/saved_models/paper/finetuned/ARViT-L1-G32_IMAGENETTE.pth\n",
      "weights loaded\n"
     ]
    },
    {
     "data": {
      "text/html": [
       "<table border=\"1\" class=\"dataframe\">\n",
       "  <thead>\n",
       "    <tr style=\"text-align: left;\">\n",
       "      <th>epoch</th>\n",
       "      <th>train_loss</th>\n",
       "      <th>valid_loss</th>\n",
       "      <th>Accuracy</th>\n",
       "      <th>time</th>\n",
       "    </tr>\n",
       "  </thead>\n",
       "  <tbody>\n",
       "    <tr>\n",
       "      <td>0</td>\n",
       "      <td>0.287862</td>\n",
       "      <td>0.170025</td>\n",
       "      <td>0.948096</td>\n",
       "      <td>00:52</td>\n",
       "    </tr>\n",
       "  </tbody>\n",
       "</table>"
      ],
      "text/plain": [
       "<IPython.core.display.HTML object>"
      ]
     },
     "metadata": {},
     "output_type": "display_data"
    }
   ],
   "source": [
    "model_test(n_class=10, name='ARViT-L1-G32', dataset='IMAGENETTE')"
   ]
  },
  {
   "cell_type": "code",
   "execution_count": 19,
   "metadata": {},
   "outputs": [
    {
     "name": "stdout",
     "output_type": "stream",
     "text": [
      "path model: /home/atsumilab/Luiz/saved_models/paper/finetuned/ARViT-L1-G32_Best_IMAGENETTE.pth\n",
      "weights loaded\n"
     ]
    },
    {
     "data": {
      "text/html": [
       "<table border=\"1\" class=\"dataframe\">\n",
       "  <thead>\n",
       "    <tr style=\"text-align: left;\">\n",
       "      <th>epoch</th>\n",
       "      <th>train_loss</th>\n",
       "      <th>valid_loss</th>\n",
       "      <th>Accuracy</th>\n",
       "      <th>time</th>\n",
       "    </tr>\n",
       "  </thead>\n",
       "  <tbody>\n",
       "    <tr>\n",
       "      <td>0</td>\n",
       "      <td>0.238245</td>\n",
       "      <td>0.161538</td>\n",
       "      <td>0.951830</td>\n",
       "      <td>00:52</td>\n",
       "    </tr>\n",
       "  </tbody>\n",
       "</table>"
      ],
      "text/plain": [
       "<IPython.core.display.HTML object>"
      ]
     },
     "metadata": {},
     "output_type": "display_data"
    }
   ],
   "source": [
    "model_test(n_class=10, name='ARViT-L1-G32_Best', dataset='IMAGENETTE')"
   ]
  },
  {
   "cell_type": "code",
   "execution_count": 20,
   "metadata": {},
   "outputs": [
    {
     "name": "stdout",
     "output_type": "stream",
     "text": [
      "path model: /home/atsumilab/Luiz/saved_models/paper/finetuned/ARViT-L6-G32_IMAGENETTE.pth\n",
      "weights loaded\n"
     ]
    },
    {
     "data": {
      "text/html": [
       "<table border=\"1\" class=\"dataframe\">\n",
       "  <thead>\n",
       "    <tr style=\"text-align: left;\">\n",
       "      <th>epoch</th>\n",
       "      <th>train_loss</th>\n",
       "      <th>valid_loss</th>\n",
       "      <th>Accuracy</th>\n",
       "      <th>time</th>\n",
       "    </tr>\n",
       "  </thead>\n",
       "  <tbody>\n",
       "    <tr>\n",
       "      <td>0</td>\n",
       "      <td>0.300479</td>\n",
       "      <td>0.175379</td>\n",
       "      <td>0.945108</td>\n",
       "      <td>00:52</td>\n",
       "    </tr>\n",
       "  </tbody>\n",
       "</table>"
      ],
      "text/plain": [
       "<IPython.core.display.HTML object>"
      ]
     },
     "metadata": {},
     "output_type": "display_data"
    }
   ],
   "source": [
    "model_test(n_class=10, name='ARViT-L6-G32', dataset='IMAGENETTE')"
   ]
  },
  {
   "cell_type": "code",
   "execution_count": 21,
   "metadata": {},
   "outputs": [
    {
     "name": "stdout",
     "output_type": "stream",
     "text": [
      "path model: /home/atsumilab/Luiz/saved_models/paper/finetuned/ARViT-L6-G32_Best_IMAGENETTE.pth\n",
      "weights loaded\n"
     ]
    },
    {
     "data": {
      "text/html": [
       "<table border=\"1\" class=\"dataframe\">\n",
       "  <thead>\n",
       "    <tr style=\"text-align: left;\">\n",
       "      <th>epoch</th>\n",
       "      <th>train_loss</th>\n",
       "      <th>valid_loss</th>\n",
       "      <th>Accuracy</th>\n",
       "      <th>time</th>\n",
       "    </tr>\n",
       "  </thead>\n",
       "  <tbody>\n",
       "    <tr>\n",
       "      <td>0</td>\n",
       "      <td>0.269931</td>\n",
       "      <td>0.184755</td>\n",
       "      <td>0.944735</td>\n",
       "      <td>00:52</td>\n",
       "    </tr>\n",
       "  </tbody>\n",
       "</table>"
      ],
      "text/plain": [
       "<IPython.core.display.HTML object>"
      ]
     },
     "metadata": {},
     "output_type": "display_data"
    }
   ],
   "source": [
    "model_test(n_class=10, name='ARViT-L6-G32_Best', dataset='IMAGENETTE')"
   ]
  },
  {
   "cell_type": "code",
   "execution_count": null,
   "metadata": {},
   "outputs": [],
   "source": []
  },
  {
   "cell_type": "code",
   "execution_count": 22,
   "metadata": {},
   "outputs": [
    {
     "name": "stdout",
     "output_type": "stream",
     "text": [
      "path model: /home/atsumilab/Luiz/saved_models/paper/finetuned/ARViT-L1-G32_CIFAR.pth\n",
      "weights loaded\n"
     ]
    },
    {
     "data": {
      "text/html": [
       "<table border=\"1\" class=\"dataframe\">\n",
       "  <thead>\n",
       "    <tr style=\"text-align: left;\">\n",
       "      <th>epoch</th>\n",
       "      <th>train_loss</th>\n",
       "      <th>valid_loss</th>\n",
       "      <th>Accuracy</th>\n",
       "      <th>time</th>\n",
       "    </tr>\n",
       "  </thead>\n",
       "  <tbody>\n",
       "    <tr>\n",
       "      <td>0</td>\n",
       "      <td>0.479238</td>\n",
       "      <td>0.397447</td>\n",
       "      <td>0.861167</td>\n",
       "      <td>03:38</td>\n",
       "    </tr>\n",
       "  </tbody>\n",
       "</table>"
      ],
      "text/plain": [
       "<IPython.core.display.HTML object>"
      ]
     },
     "metadata": {},
     "output_type": "display_data"
    }
   ],
   "source": [
    "model_test(n_class=10, name='ARViT-L1-G32', dataset='CIFAR')"
   ]
  },
  {
   "cell_type": "code",
   "execution_count": 23,
   "metadata": {},
   "outputs": [
    {
     "name": "stdout",
     "output_type": "stream",
     "text": [
      "path model: /home/atsumilab/Luiz/saved_models/paper/finetuned/ARViT-L1-G32_Best_CIFAR.pth\n",
      "weights loaded\n"
     ]
    },
    {
     "data": {
      "text/html": [
       "<table border=\"1\" class=\"dataframe\">\n",
       "  <thead>\n",
       "    <tr style=\"text-align: left;\">\n",
       "      <th>epoch</th>\n",
       "      <th>train_loss</th>\n",
       "      <th>valid_loss</th>\n",
       "      <th>Accuracy</th>\n",
       "      <th>time</th>\n",
       "    </tr>\n",
       "  </thead>\n",
       "  <tbody>\n",
       "    <tr>\n",
       "      <td>0</td>\n",
       "      <td>0.543407</td>\n",
       "      <td>0.385890</td>\n",
       "      <td>0.869750</td>\n",
       "      <td>03:43</td>\n",
       "    </tr>\n",
       "  </tbody>\n",
       "</table>"
      ],
      "text/plain": [
       "<IPython.core.display.HTML object>"
      ]
     },
     "metadata": {},
     "output_type": "display_data"
    }
   ],
   "source": [
    "model_test(n_class=10, name='ARViT-L1-G32_Best', dataset='CIFAR')"
   ]
  },
  {
   "cell_type": "code",
   "execution_count": 24,
   "metadata": {},
   "outputs": [
    {
     "name": "stdout",
     "output_type": "stream",
     "text": [
      "path model: /home/atsumilab/Luiz/saved_models/paper/finetuned/ARViT-L6-G32_CIFAR.pth\n",
      "weights loaded\n"
     ]
    },
    {
     "data": {
      "text/html": [
       "<table border=\"1\" class=\"dataframe\">\n",
       "  <thead>\n",
       "    <tr style=\"text-align: left;\">\n",
       "      <th>epoch</th>\n",
       "      <th>train_loss</th>\n",
       "      <th>valid_loss</th>\n",
       "      <th>Accuracy</th>\n",
       "      <th>time</th>\n",
       "    </tr>\n",
       "  </thead>\n",
       "  <tbody>\n",
       "    <tr>\n",
       "      <td>0</td>\n",
       "      <td>0.526396</td>\n",
       "      <td>0.372448</td>\n",
       "      <td>0.871000</td>\n",
       "      <td>03:39</td>\n",
       "    </tr>\n",
       "  </tbody>\n",
       "</table>"
      ],
      "text/plain": [
       "<IPython.core.display.HTML object>"
      ]
     },
     "metadata": {},
     "output_type": "display_data"
    }
   ],
   "source": [
    "model_test(n_class=10, name='ARViT-L6-G32', dataset='CIFAR')"
   ]
  },
  {
   "cell_type": "code",
   "execution_count": 25,
   "metadata": {},
   "outputs": [
    {
     "name": "stdout",
     "output_type": "stream",
     "text": [
      "path model: /home/atsumilab/Luiz/saved_models/paper/finetuned/ARViT-L6-G32_Best_CIFAR.pth\n",
      "weights loaded\n"
     ]
    },
    {
     "data": {
      "text/html": [
       "<table border=\"1\" class=\"dataframe\">\n",
       "  <thead>\n",
       "    <tr style=\"text-align: left;\">\n",
       "      <th>epoch</th>\n",
       "      <th>train_loss</th>\n",
       "      <th>valid_loss</th>\n",
       "      <th>Accuracy</th>\n",
       "      <th>time</th>\n",
       "    </tr>\n",
       "  </thead>\n",
       "  <tbody>\n",
       "    <tr>\n",
       "      <td>0</td>\n",
       "      <td>0.468442</td>\n",
       "      <td>0.369256</td>\n",
       "      <td>0.874000</td>\n",
       "      <td>03:40</td>\n",
       "    </tr>\n",
       "  </tbody>\n",
       "</table>"
      ],
      "text/plain": [
       "<IPython.core.display.HTML object>"
      ]
     },
     "metadata": {},
     "output_type": "display_data"
    }
   ],
   "source": [
    "model_test(n_class=10, name='ARViT-L6-G32_Best', dataset='CIFAR')"
   ]
  },
  {
   "cell_type": "code",
   "execution_count": null,
   "metadata": {},
   "outputs": [],
   "source": []
  },
  {
   "cell_type": "code",
   "execution_count": 26,
   "metadata": {},
   "outputs": [
    {
     "name": "stdout",
     "output_type": "stream",
     "text": [
      "path model: /home/atsumilab/Luiz/saved_models/paper/finetuned/ARViT-L1-G32_IMAGEWOOF.pth\n",
      "weights loaded\n"
     ]
    },
    {
     "data": {
      "text/html": [
       "<table border=\"1\" class=\"dataframe\">\n",
       "  <thead>\n",
       "    <tr style=\"text-align: left;\">\n",
       "      <th>epoch</th>\n",
       "      <th>train_loss</th>\n",
       "      <th>valid_loss</th>\n",
       "      <th>Accuracy</th>\n",
       "      <th>time</th>\n",
       "    </tr>\n",
       "  </thead>\n",
       "  <tbody>\n",
       "    <tr>\n",
       "      <td>0</td>\n",
       "      <td>0.825701</td>\n",
       "      <td>0.611274</td>\n",
       "      <td>0.802703</td>\n",
       "      <td>00:50</td>\n",
       "    </tr>\n",
       "  </tbody>\n",
       "</table>"
      ],
      "text/plain": [
       "<IPython.core.display.HTML object>"
      ]
     },
     "metadata": {},
     "output_type": "display_data"
    }
   ],
   "source": [
    "model_test(n_class=10, name='ARViT-L1-G32', dataset='IMAGEWOOF')"
   ]
  },
  {
   "cell_type": "code",
   "execution_count": 27,
   "metadata": {},
   "outputs": [
    {
     "name": "stdout",
     "output_type": "stream",
     "text": [
      "path model: /home/atsumilab/Luiz/saved_models/paper/finetuned/ARViT-L1-G32_Best_IMAGEWOOF.pth\n",
      "weights loaded\n"
     ]
    },
    {
     "data": {
      "text/html": [
       "<table border=\"1\" class=\"dataframe\">\n",
       "  <thead>\n",
       "    <tr style=\"text-align: left;\">\n",
       "      <th>epoch</th>\n",
       "      <th>train_loss</th>\n",
       "      <th>valid_loss</th>\n",
       "      <th>Accuracy</th>\n",
       "      <th>time</th>\n",
       "    </tr>\n",
       "  </thead>\n",
       "  <tbody>\n",
       "    <tr>\n",
       "      <td>0</td>\n",
       "      <td>0.808609</td>\n",
       "      <td>0.618858</td>\n",
       "      <td>0.801158</td>\n",
       "      <td>00:51</td>\n",
       "    </tr>\n",
       "  </tbody>\n",
       "</table>"
      ],
      "text/plain": [
       "<IPython.core.display.HTML object>"
      ]
     },
     "metadata": {},
     "output_type": "display_data"
    }
   ],
   "source": [
    "model_test(n_class=10, name='ARViT-L1-G32_Best', dataset='IMAGEWOOF')"
   ]
  },
  {
   "cell_type": "code",
   "execution_count": 28,
   "metadata": {},
   "outputs": [
    {
     "name": "stdout",
     "output_type": "stream",
     "text": [
      "path model: /home/atsumilab/Luiz/saved_models/paper/finetuned/ARViT-L6-G32_IMAGEWOOF.pth\n",
      "weights loaded\n"
     ]
    },
    {
     "data": {
      "text/html": [
       "<table border=\"1\" class=\"dataframe\">\n",
       "  <thead>\n",
       "    <tr style=\"text-align: left;\">\n",
       "      <th>epoch</th>\n",
       "      <th>train_loss</th>\n",
       "      <th>valid_loss</th>\n",
       "      <th>Accuracy</th>\n",
       "      <th>time</th>\n",
       "    </tr>\n",
       "  </thead>\n",
       "  <tbody>\n",
       "    <tr>\n",
       "      <td>0</td>\n",
       "      <td>0.733986</td>\n",
       "      <td>0.617505</td>\n",
       "      <td>0.799614</td>\n",
       "      <td>00:50</td>\n",
       "    </tr>\n",
       "  </tbody>\n",
       "</table>"
      ],
      "text/plain": [
       "<IPython.core.display.HTML object>"
      ]
     },
     "metadata": {},
     "output_type": "display_data"
    }
   ],
   "source": [
    "model_test(n_class=10, name='ARViT-L6-G32', dataset='IMAGEWOOF')"
   ]
  },
  {
   "cell_type": "code",
   "execution_count": 29,
   "metadata": {},
   "outputs": [
    {
     "name": "stdout",
     "output_type": "stream",
     "text": [
      "path model: /home/atsumilab/Luiz/saved_models/paper/finetuned/ARViT-L6-G32_Best_IMAGEWOOF.pth\n",
      "weights loaded\n"
     ]
    },
    {
     "data": {
      "text/html": [
       "<table border=\"1\" class=\"dataframe\">\n",
       "  <thead>\n",
       "    <tr style=\"text-align: left;\">\n",
       "      <th>epoch</th>\n",
       "      <th>train_loss</th>\n",
       "      <th>valid_loss</th>\n",
       "      <th>Accuracy</th>\n",
       "      <th>time</th>\n",
       "    </tr>\n",
       "  </thead>\n",
       "  <tbody>\n",
       "    <tr>\n",
       "      <td>0</td>\n",
       "      <td>0.785065</td>\n",
       "      <td>0.599061</td>\n",
       "      <td>0.808108</td>\n",
       "      <td>00:51</td>\n",
       "    </tr>\n",
       "  </tbody>\n",
       "</table>"
      ],
      "text/plain": [
       "<IPython.core.display.HTML object>"
      ]
     },
     "metadata": {},
     "output_type": "display_data"
    }
   ],
   "source": [
    "model_test(n_class=10, name='ARViT-L6-G32_Best', dataset='IMAGEWOOF')"
   ]
  },
  {
   "cell_type": "code",
   "execution_count": null,
   "metadata": {},
   "outputs": [],
   "source": []
  },
  {
   "cell_type": "code",
   "execution_count": null,
   "metadata": {},
   "outputs": [],
   "source": []
  },
  {
   "cell_type": "code",
   "execution_count": null,
   "metadata": {},
   "outputs": [],
   "source": []
  },
  {
   "cell_type": "code",
   "execution_count": null,
   "metadata": {},
   "outputs": [],
   "source": []
  },
  {
   "cell_type": "code",
   "execution_count": null,
   "metadata": {},
   "outputs": [],
   "source": []
  },
  {
   "cell_type": "code",
   "execution_count": null,
   "metadata": {},
   "outputs": [],
   "source": []
  },
  {
   "cell_type": "code",
   "execution_count": null,
   "metadata": {},
   "outputs": [],
   "source": []
  },
  {
   "cell_type": "code",
   "execution_count": null,
   "metadata": {},
   "outputs": [],
   "source": []
  },
  {
   "cell_type": "code",
   "execution_count": null,
   "metadata": {},
   "outputs": [],
   "source": []
  },
  {
   "cell_type": "code",
   "execution_count": null,
   "metadata": {},
   "outputs": [],
   "source": []
  },
  {
   "cell_type": "code",
   "execution_count": 13,
   "metadata": {},
   "outputs": [],
   "source": [
    "def paths2(layer = 1, dataset = 'IMAGENETTE', base_model=False, best_model=False): \n",
    "    model_dir = Path.home()/'Luiz/saved_models'\n",
    "    if base_model == True:\n",
    "        model_path = model_dir/'GramImageNet_Rotation_16x16grid_epochs-90_BaseModel.pkl'\n",
    "    else:\n",
    "        file_name = 'GramImageNet_Rotation_16x16grid_epochs-90-beta-5e-6_PenaltyFactor3_Layer'+str(layer)+'.pkl'\n",
    "        model_path = model_dir/file_name\n",
    "        \n",
    "    if best_model == True:\n",
    "        weight_dir = Path.home()/'Luiz/gan_attention/models/pretrained/'\n",
    "        if base_model == True:\n",
    "            file_name = 'Best_Model_BaseModel_ImageNet_Rotation_16x16grid.pth'\n",
    "        else:\n",
    "            file_name = 'Best_Model_Layer'+str(layer)+'_ImageNet_Rotation_16x16grid.pth'\n",
    "        weights_path = weight_dir/file_name\n",
    "    else:\n",
    "        weights_path = None\n",
    "    \n",
    "    if dataset == 'IMAGENETTE':\n",
    "        data_path = untar_data(URLs.IMAGENETTE)\n",
    "    elif dataset == 'IMAGEWOOF':\n",
    "        data_path = untar_data(URLs.IMAGEWOOF)\n",
    "    elif dataset == 'CIFAR':\n",
    "        data_path = untar_data(URLs.CIFAR)\n",
    "    elif dataset == 'CIFAR_100':\n",
    "        data_path = untar_data(URLs.CIFAR_100)    \n",
    "    elif dataset == 'CALTECH_101':    \n",
    "        data_path = untar_data(URLs.CALTECH_101) \n",
    "    else:\n",
    "        data_path = None\n",
    "        \n",
    "    return model_path, weights_path, data_path"
   ]
  },
  {
   "cell_type": "code",
   "execution_count": 23,
   "metadata": {},
   "outputs": [],
   "source": [
    "def data_loader(path):\n",
    "    transform = ([*aug_transforms()])#,Normalize.from_stats([0.485, 0.456, 0.406], [0.229, 0.224, 0.225])])\n",
    "\n",
    "    data = DataBlock(blocks=(ImageBlock, CategoryBlock), \n",
    "                     get_items=get_image_files, \n",
    "                     splitter=RandomSplitter(),\n",
    "                     get_y=parent_label,\n",
    "                     item_tfms=Resize(H,W),\n",
    "                     batch_tfms=transform)\n",
    "\n",
    "    dloader = data.dataloaders(path,bs=bs)\n",
    "    return dloader"
   ]
  },
  {
   "cell_type": "code",
   "execution_count": 16,
   "metadata": {},
   "outputs": [],
   "source": [
    "def fine_tune_model(n_class, layer = 1, dataset = 'IMAGENETTE', base_model=False, best_model=False, epochs=[1,1], lr=5e-4):\n",
    "    path_model, weights_path, path_data = paths2(layer, dataset, base_model, best_model)\n",
    "    print(path_model, weights_path, path_data)\n",
    "    print(\"Training on\", dataset)\n",
    "    model = load_model(path_model, weights_path)\n",
    "    model_head(model, n_class)\n",
    "        \n",
    "    dloader = data_loader(path_data)\n",
    "    #Defining the Loss Function\n",
    "    critic_loss = SingleLabelCriticLoss()  \n",
    "\n",
    "    #Wraping the Learner\n",
    "    learner = Learner(dloader, model, loss_func=critic_loss, metrics=[_Accuracy])\n",
    "    #learner.fit_one_cycle(50, 0.002)\n",
    "    learner.fine_tune(epochs[0], base_lr=lr, freeze_epochs=epochs[1])"
   ]
  },
  {
   "cell_type": "code",
   "execution_count": null,
   "metadata": {},
   "outputs": [],
   "source": []
  },
  {
   "cell_type": "code",
   "execution_count": 68,
   "metadata": {},
   "outputs": [
    {
     "data": {
      "text/html": [],
      "text/plain": [
       "<IPython.core.display.HTML object>"
      ]
     },
     "metadata": {},
     "output_type": "display_data"
    }
   ],
   "source": [
    "data_path = untar_data(URLs.FOOD)"
   ]
  },
  {
   "cell_type": "code",
   "execution_count": 69,
   "metadata": {},
   "outputs": [
    {
     "data": {
      "text/plain": [
       "(#8) [Path('/home/atsumilab/.fastai/data/food-101/train.json'),Path('/home/atsumilab/.fastai/data/food-101/test.json'),Path('/home/atsumilab/.fastai/data/food-101/images'),Path('/home/atsumilab/.fastai/data/food-101/labels.txt'),Path('/home/atsumilab/.fastai/data/food-101/test.txt'),Path('/home/atsumilab/.fastai/data/food-101/h5'),Path('/home/atsumilab/.fastai/data/food-101/train.txt'),Path('/home/atsumilab/.fastai/data/food-101/classes.txt')]"
      ]
     },
     "execution_count": 69,
     "metadata": {},
     "output_type": "execute_result"
    }
   ],
   "source": [
    "(data_path).ls()"
   ]
  },
  {
   "cell_type": "code",
   "execution_count": 66,
   "metadata": {},
   "outputs": [
    {
     "name": "stdout",
     "output_type": "stream",
     "text": [
      "Could not do one pass in your dataloader, there is something wrong in it\n"
     ]
    }
   ],
   "source": [
    "transform = ([*aug_transforms()])#,Normalize.from_stats([0.485, 0.456, 0.406], [0.229, 0.224, 0.225])])\n",
    "\n",
    "data = DataBlock(blocks=(ImageBlock, CategoryBlock), \n",
    "                 get_items=get_image_files, \n",
    "                 splitter=RandomSplitter(),\n",
    "                 get_y=using_attr(RegexLabeller(r'(?<=image_)(.*)(?=.jpg)'),'name'),\n",
    "                 item_tfms=Resize(256,256),\n",
    "                 batch_tfms=transform)\n",
    "\n",
    "dloader = data.dataloaders(data_path/\"jpg\", bs=5)"
   ]
  },
  {
   "cell_type": "code",
   "execution_count": 67,
   "metadata": {},
   "outputs": [
    {
     "data": {
      "text/plain": [
       "8189"
      ]
     },
     "execution_count": 67,
     "metadata": {},
     "output_type": "execute_result"
    }
   ],
   "source": [
    "files = get_image_files(data_path/\"jpg\")\n",
    "len(files)"
   ]
  },
  {
   "cell_type": "code",
   "execution_count": 48,
   "metadata": {},
   "outputs": [],
   "source": []
  },
  {
   "cell_type": "code",
   "execution_count": 53,
   "metadata": {},
   "outputs": [
    {
     "data": {
      "text/plain": [
       "'009'"
      ]
     },
     "execution_count": 53,
     "metadata": {},
     "output_type": "execute_result"
    }
   ],
   "source": []
  },
  {
   "cell_type": "code",
   "execution_count": null,
   "metadata": {},
   "outputs": [],
   "source": []
  }
 ],
 "metadata": {
  "kernelspec": {
   "display_name": "Python 3",
   "language": "python",
   "name": "python3"
  },
  "language_info": {
   "codemirror_mode": {
    "name": "ipython",
    "version": 3
   },
   "file_extension": ".py",
   "mimetype": "text/x-python",
   "name": "python",
   "nbconvert_exporter": "python",
   "pygments_lexer": "ipython3",
   "version": "3.8.2"
  }
 },
 "nbformat": 4,
 "nbformat_minor": 4
}
