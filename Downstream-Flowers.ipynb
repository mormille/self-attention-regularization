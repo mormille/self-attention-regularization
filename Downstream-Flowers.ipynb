{
 "cells": [
  {
   "cell_type": "code",
   "execution_count": 10,
   "metadata": {},
   "outputs": [],
   "source": [
    "from fastai.vision.all import *\n",
    "from fastai.distributed import *\n",
    "from fastai.metrics import error_rate\n",
    "from fastai.callback.tracker import SaveModelCallback\n",
    "import argparse\n",
    "\n",
    "from torchvision import datasets, transforms, models\n",
    "import torch.optim as optim\n",
    "from torch.optim import lr_scheduler\n",
    "import time\n",
    "import os\n",
    "import copy\n",
    "import torchvision.transforms as T\n",
    "import torch\n",
    "from torch.nn.parallel import DistributedDataParallel\n",
    "from torchvision.transforms.functional import *\n",
    "\n",
    "from PIL import Image\n",
    "import requests\n",
    "\n",
    "import matplotlib.pyplot as plt\n",
    "import numpy as np\n",
    "import torch.nn.functional as F\n",
    "from torch import nn\n",
    "\n",
    "import argparse\n",
    "from models.utils.joiner3 import ImageNetJoiner\n",
    "from models.utils.new_losses import *\n",
    "from models.utils.metrics import *\n",
    "from models.utils.dataLoader import *\n",
    "from models.utils.datasets import *"
   ]
  },
  {
   "cell_type": "code",
   "execution_count": 11,
   "metadata": {},
   "outputs": [],
   "source": [
    "torch.cuda.set_device(\"cuda:3\")\n",
    "device = torch.device(\"cuda:3\" if torch.cuda.is_available() else \"cpu\")"
   ]
  },
  {
   "cell_type": "code",
   "execution_count": 12,
   "metadata": {},
   "outputs": [],
   "source": [
    "H = 256\n",
    "W= 256\n",
    "bs = 5"
   ]
  },
  {
   "cell_type": "code",
   "execution_count": 13,
   "metadata": {},
   "outputs": [],
   "source": [
    "path = untar_data(URLs.FLOWERS)\n",
    "Path.BASE_PATH = path\n",
    "path.ls()\n",
    "df = pd.read_csv('data/flowers.csv')\n",
    "\n",
    "transform = ([*aug_transforms(),Normalize.from_stats([0.485, 0.456, 0.406], [0.229, 0.224, 0.225])])\n",
    "\n",
    "def get_x(r): return path/r['name']\n",
    "def get_y(r): return r['class']\n",
    "\n",
    "dblock = DataBlock(blocks    = (ImageBlock, CategoryBlock),\n",
    "                   n_inp=1,\n",
    "                   splitter=RandomSplitter(seed=42),\n",
    "                   get_x= get_x,\n",
    "                   get_y= get_y, \n",
    "                   item_tfms = Resize(256),\n",
    "                   #batch_tfms= Normalize.from_stats(*imagenet_stats)\n",
    "                   batch_tfms= transform\n",
    "                  )\n",
    "\n",
    "dloader = dblock.dataloaders(df, bs=bs)"
   ]
  },
  {
   "cell_type": "code",
   "execution_count": 14,
   "metadata": {},
   "outputs": [],
   "source": [
    "def paths(layer = 1, dataset = 'FLOWERS', base_model=False, best_model=False, pf=\"3\",gm16=False): \n",
    "    model_dir = Path.home()/'Luiz/saved_models'\n",
    "    if base_model == True:\n",
    "        model_path = model_dir/'GramImageNet_Rotation_16x16grid_epochs-90_BaseModel.pkl'\n",
    "        layer = 'BASE_MODEL'\n",
    "    else:\n",
    "        if gm16 == True:\n",
    "            model_name = 'GramImageNet_Rotation_16x16grid_epochs-90-beta-5e-7_PenaltyFactor'+pf+'_Layer'+str(layer)+'_gm16.pkl'\n",
    "        else:\n",
    "            model_name = 'GramImageNet_Rotation_16x16grid_epochs-90-beta-5e-6_PenaltyFactor'+pf+'_Layer'+str(layer)+'.pkl'\n",
    "        model_path = model_dir/model_name\n",
    "        \n",
    "    if best_model == False:\n",
    "        weight_dir = Path.home()/'Luiz/gan_attention/models/finetuned/'\n",
    "        if gm16 == True:\n",
    "            file_name = 'LAYER_'+str(layer)+'_LOSS_'+pf+'__FineTuned__'+dataset+'__BestWeights_gm16.pth'\n",
    "        else:\n",
    "            file_name = 'LAYER_'+str(layer)+'_LOSS_'+pf+'__FineTuned__'+dataset+'__BestWeights.pth'\n",
    "        weights_path = weight_dir/file_name\n",
    "    else:\n",
    "        weight_dir = Path.home()/'Luiz/gan_attention/models/finetuned/'\n",
    "        if gm16 == True:\n",
    "            file_name = 'LAYER_'+str(layer)+'_LOSS_'+pf+'__BestModel__FineTuned__'+dataset+'__BestWeights_gm16.pth'\n",
    "        else:\n",
    "            file_name = 'LAYER_'+str(layer)+'_LOSS_'+pf+'__BestModel__FineTuned__'+dataset+'__BestWeights.pth'\n",
    "        weights_path = weight_dir/file_name\n",
    "           \n",
    "    return model_path, weights_path"
   ]
  },
  {
   "cell_type": "code",
   "execution_count": 15,
   "metadata": {},
   "outputs": [],
   "source": [
    "def get_gm(r):\n",
    "    label = parent_label(r)\n",
    "    a = attrgetter(\"name\")\n",
    "    rgex = RegexLabeller(pat = r'image(.*?).jpeg') \n",
    "    gm = torch.load(save_path+\"/gramm/\"+str(label)+\"/gm\"+rgex(a(r))+\".pt\")\n",
    "    return gm, TensorCategory(int(label))\n",
    "\n",
    "def load_model(model_path):\n",
    "    model_dir = Path.home()/'Luiz/saved_models'\n",
    "    net = load_learner(model_path, cpu=False)\n",
    "    model = net.model\n",
    "        \n",
    "    return model\n",
    "\n",
    "def model_head(model, n_classes):\n",
    "    model.head = nn.Linear(512*16*16, n_classes)\n",
    "    #model.noise_mode = True\n",
    "    #model.generator_mode = False\n",
    "\n",
    "    trainable = ['head.weight','head.bias']\n",
    "    for name, p in model.named_parameters():\n",
    "        if name not in trainable:\n",
    "            p.requires_grad = False\n",
    "        else:\n",
    "            p.requires_grad = True"
   ]
  },
  {
   "cell_type": "code",
   "execution_count": 16,
   "metadata": {},
   "outputs": [],
   "source": [
    "def model_test(n_class=102, layer = 1, dataset = 'FLOWERS', base_model=False, best_model=False, epochs=1, lr=1e-9, pf=\"3\",gm16=False):\n",
    "    path_model, weights_path = paths(layer, dataset, base_model, best_model, pf,gm16)\n",
    "    #print(path_model, weights_path, path_data)\n",
    "    print(\"path model:\", path_model)\n",
    "    model = load_model(path_model)\n",
    "    model_head(model, n_class)\n",
    "    print(\"path model:\", weights_path)\n",
    "    weight_dict = load_learner(weights_path, cpu=False)\n",
    "    model.load_state_dict(weight_dict)\n",
    "    print(\"weights loaded\")\n",
    "        \n",
    "    #dloader = data_loader(path_data)\n",
    "    #Defining the Loss Function\n",
    "    critic_loss = SingleLabelCriticLoss()\n",
    "    \n",
    "    #Wraping the Learner\n",
    "    learner = Learner(dloader, model, loss_func=critic_loss, metrics=[_Accuracy])\n",
    "    learner.fit_one_cycle(epochs, lr)\n",
    "    #learner.fine_tune(60, base_lr=5e-4, freeze_epochs=30)"
   ]
  },
  {
   "cell_type": "code",
   "execution_count": 15,
   "metadata": {},
   "outputs": [
    {
     "name": "stdout",
     "output_type": "stream",
     "text": [
      "path model: /home/atsumilab/Luiz/saved_models/GramImageNet_Rotation_16x16grid_epochs-90_BaseModel.pkl\n",
      "path model: /home/atsumilab/Luiz/gan_attention/models/finetuned/LAYER_BASE_MODEL_LOSS_3__FineTuned__FLOWERS__BestWeights_gm16.pth\n",
      "weights loaded\n"
     ]
    },
    {
     "data": {
      "text/html": [
       "<table border=\"1\" class=\"dataframe\">\n",
       "  <thead>\n",
       "    <tr style=\"text-align: left;\">\n",
       "      <th>epoch</th>\n",
       "      <th>train_loss</th>\n",
       "      <th>valid_loss</th>\n",
       "      <th>_Accuracy</th>\n",
       "      <th>time</th>\n",
       "    </tr>\n",
       "  </thead>\n",
       "  <tbody>\n",
       "    <tr>\n",
       "      <td>0</td>\n",
       "      <td>0.096783</td>\n",
       "      <td>0.575391</td>\n",
       "      <td>0.854001</td>\n",
       "      <td>00:35</td>\n",
       "    </tr>\n",
       "  </tbody>\n",
       "</table>"
      ],
      "text/plain": [
       "<IPython.core.display.HTML object>"
      ]
     },
     "metadata": {},
     "output_type": "display_data"
    }
   ],
   "source": [
    "model_test(layer = 1, base_model=True, best_model=False,gm16=True)"
   ]
  },
  {
   "cell_type": "code",
   "execution_count": 16,
   "metadata": {},
   "outputs": [
    {
     "name": "stdout",
     "output_type": "stream",
     "text": [
      "path model: /home/atsumilab/Luiz/saved_models/GramImageNet_Rotation_16x16grid_epochs-90_BaseModel.pkl\n",
      "path model: /home/atsumilab/Luiz/gan_attention/models/finetuned/LAYER_BASE_MODEL_LOSS_3__BestModel__FineTuned__FLOWERS__BestWeights_gm16.pth\n",
      "weights loaded\n"
     ]
    },
    {
     "data": {
      "text/html": [
       "<table border=\"1\" class=\"dataframe\">\n",
       "  <thead>\n",
       "    <tr style=\"text-align: left;\">\n",
       "      <th>epoch</th>\n",
       "      <th>train_loss</th>\n",
       "      <th>valid_loss</th>\n",
       "      <th>_Accuracy</th>\n",
       "      <th>time</th>\n",
       "    </tr>\n",
       "  </thead>\n",
       "  <tbody>\n",
       "    <tr>\n",
       "      <td>0</td>\n",
       "      <td>0.134443</td>\n",
       "      <td>0.580133</td>\n",
       "      <td>0.855834</td>\n",
       "      <td>00:34</td>\n",
       "    </tr>\n",
       "  </tbody>\n",
       "</table>"
      ],
      "text/plain": [
       "<IPython.core.display.HTML object>"
      ]
     },
     "metadata": {},
     "output_type": "display_data"
    }
   ],
   "source": [
    "model_test(layer = 1, base_model=True, best_model=True,gm16=True)"
   ]
  },
  {
   "cell_type": "code",
   "execution_count": 17,
   "metadata": {},
   "outputs": [
    {
     "name": "stdout",
     "output_type": "stream",
     "text": [
      "path model: /home/atsumilab/Luiz/saved_models/GramImageNet_Rotation_16x16grid_epochs-90-beta-5e-7_PenaltyFactor3_Layer1_gm16.pkl\n",
      "path model: /home/atsumilab/Luiz/gan_attention/models/finetuned/LAYER_1_LOSS_3__FineTuned__FLOWERS__BestWeights_gm16.pth\n",
      "weights loaded\n"
     ]
    },
    {
     "data": {
      "text/html": [
       "<table border=\"1\" class=\"dataframe\">\n",
       "  <thead>\n",
       "    <tr style=\"text-align: left;\">\n",
       "      <th>epoch</th>\n",
       "      <th>train_loss</th>\n",
       "      <th>valid_loss</th>\n",
       "      <th>_Accuracy</th>\n",
       "      <th>time</th>\n",
       "    </tr>\n",
       "  </thead>\n",
       "  <tbody>\n",
       "    <tr>\n",
       "      <td>0</td>\n",
       "      <td>0.090136</td>\n",
       "      <td>0.531896</td>\n",
       "      <td>0.857666</td>\n",
       "      <td>00:35</td>\n",
       "    </tr>\n",
       "  </tbody>\n",
       "</table>"
      ],
      "text/plain": [
       "<IPython.core.display.HTML object>"
      ]
     },
     "metadata": {},
     "output_type": "display_data"
    }
   ],
   "source": [
    "model_test(layer = 1, base_model=False, best_model=False,gm16=True)"
   ]
  },
  {
   "cell_type": "code",
   "execution_count": 18,
   "metadata": {},
   "outputs": [
    {
     "name": "stdout",
     "output_type": "stream",
     "text": [
      "path model: /home/atsumilab/Luiz/saved_models/GramImageNet_Rotation_16x16grid_epochs-90-beta-5e-7_PenaltyFactor3_Layer1_gm16.pkl\n",
      "path model: /home/atsumilab/Luiz/gan_attention/models/finetuned/LAYER_1_LOSS_3__BestModel__FineTuned__FLOWERS__BestWeights_gm16.pth\n",
      "weights loaded\n"
     ]
    },
    {
     "data": {
      "text/html": [
       "<table border=\"1\" class=\"dataframe\">\n",
       "  <thead>\n",
       "    <tr style=\"text-align: left;\">\n",
       "      <th>epoch</th>\n",
       "      <th>train_loss</th>\n",
       "      <th>valid_loss</th>\n",
       "      <th>_Accuracy</th>\n",
       "      <th>time</th>\n",
       "    </tr>\n",
       "  </thead>\n",
       "  <tbody>\n",
       "    <tr>\n",
       "      <td>0</td>\n",
       "      <td>0.109773</td>\n",
       "      <td>0.531371</td>\n",
       "      <td>0.858277</td>\n",
       "      <td>00:35</td>\n",
       "    </tr>\n",
       "  </tbody>\n",
       "</table>"
      ],
      "text/plain": [
       "<IPython.core.display.HTML object>"
      ]
     },
     "metadata": {},
     "output_type": "display_data"
    }
   ],
   "source": [
    "model_test(layer = 1, base_model=False, best_model=True,gm16=True)"
   ]
  },
  {
   "cell_type": "code",
   "execution_count": 18,
   "metadata": {},
   "outputs": [
    {
     "name": "stdout",
     "output_type": "stream",
     "text": [
      "path model: /home/atsumilab/Luiz/saved_models/GramImageNet_Rotation_16x16grid_epochs-90-beta-5e-7_PenaltyFactor3_Layer2_gm16.pkl\n",
      "path model: /home/atsumilab/Luiz/gan_attention/models/finetuned/LAYER_2_LOSS_3__FineTuned__FLOWERS__BestWeights_gm16.pth\n",
      "weights loaded\n"
     ]
    },
    {
     "data": {
      "text/html": [
       "<table border=\"1\" class=\"dataframe\">\n",
       "  <thead>\n",
       "    <tr style=\"text-align: left;\">\n",
       "      <th>epoch</th>\n",
       "      <th>train_loss</th>\n",
       "      <th>valid_loss</th>\n",
       "      <th>_Accuracy</th>\n",
       "      <th>time</th>\n",
       "    </tr>\n",
       "  </thead>\n",
       "  <tbody>\n",
       "    <tr>\n",
       "      <td>0</td>\n",
       "      <td>0.088686</td>\n",
       "      <td>0.584204</td>\n",
       "      <td>0.852779</td>\n",
       "      <td>00:38</td>\n",
       "    </tr>\n",
       "  </tbody>\n",
       "</table>"
      ],
      "text/plain": [
       "<IPython.core.display.HTML object>"
      ]
     },
     "metadata": {},
     "output_type": "display_data"
    }
   ],
   "source": [
    "model_test(layer = 2, base_model=False, best_model=False,gm16=True)"
   ]
  },
  {
   "cell_type": "code",
   "execution_count": 19,
   "metadata": {},
   "outputs": [
    {
     "name": "stdout",
     "output_type": "stream",
     "text": [
      "path model: /home/atsumilab/Luiz/saved_models/GramImageNet_Rotation_16x16grid_epochs-90-beta-5e-7_PenaltyFactor3_Layer2_gm16.pkl\n",
      "path model: /home/atsumilab/Luiz/gan_attention/models/finetuned/LAYER_2_LOSS_3__BestModel__FineTuned__FLOWERS__BestWeights_gm16.pth\n",
      "weights loaded\n"
     ]
    },
    {
     "data": {
      "text/html": [
       "<table border=\"1\" class=\"dataframe\">\n",
       "  <thead>\n",
       "    <tr style=\"text-align: left;\">\n",
       "      <th>epoch</th>\n",
       "      <th>train_loss</th>\n",
       "      <th>valid_loss</th>\n",
       "      <th>_Accuracy</th>\n",
       "      <th>time</th>\n",
       "    </tr>\n",
       "  </thead>\n",
       "  <tbody>\n",
       "    <tr>\n",
       "      <td>0</td>\n",
       "      <td>0.089912</td>\n",
       "      <td>0.570370</td>\n",
       "      <td>0.850947</td>\n",
       "      <td>01:04</td>\n",
       "    </tr>\n",
       "  </tbody>\n",
       "</table>"
      ],
      "text/plain": [
       "<IPython.core.display.HTML object>"
      ]
     },
     "metadata": {},
     "output_type": "display_data"
    }
   ],
   "source": [
    "model_test(layer = 2, base_model=False, best_model=True,gm16=True)"
   ]
  },
  {
   "cell_type": "code",
   "execution_count": 20,
   "metadata": {},
   "outputs": [
    {
     "name": "stdout",
     "output_type": "stream",
     "text": [
      "path model: /home/atsumilab/Luiz/saved_models/GramImageNet_Rotation_16x16grid_epochs-90-beta-5e-6_PenaltyFactor3_Layer3.pkl\n",
      "path model: /home/atsumilab/Luiz/gan_attention/models/finetuned/LAYER_3_LOSS_3__FineTuned__FLOWERS__BestWeights.pth\n",
      "weights loaded\n"
     ]
    },
    {
     "data": {
      "text/html": [
       "<table border=\"1\" class=\"dataframe\">\n",
       "  <thead>\n",
       "    <tr style=\"text-align: left;\">\n",
       "      <th>epoch</th>\n",
       "      <th>train_loss</th>\n",
       "      <th>valid_loss</th>\n",
       "      <th>_Accuracy</th>\n",
       "      <th>time</th>\n",
       "    </tr>\n",
       "  </thead>\n",
       "  <tbody>\n",
       "    <tr>\n",
       "      <td>0</td>\n",
       "      <td>0.121223</td>\n",
       "      <td>0.556345</td>\n",
       "      <td>0.852779</td>\n",
       "      <td>00:35</td>\n",
       "    </tr>\n",
       "  </tbody>\n",
       "</table>"
      ],
      "text/plain": [
       "<IPython.core.display.HTML object>"
      ]
     },
     "metadata": {},
     "output_type": "display_data"
    }
   ],
   "source": [
    "model_test(layer = 3, base_model=False, best_model=False,gm16=False)"
   ]
  },
  {
   "cell_type": "code",
   "execution_count": 21,
   "metadata": {},
   "outputs": [
    {
     "name": "stdout",
     "output_type": "stream",
     "text": [
      "path model: /home/atsumilab/Luiz/saved_models/GramImageNet_Rotation_16x16grid_epochs-90-beta-5e-6_PenaltyFactor3_Layer3.pkl\n",
      "path model: /home/atsumilab/Luiz/gan_attention/models/finetuned/LAYER_3_LOSS_3__BestModel__FineTuned__FLOWERS__BestWeights.pth\n",
      "weights loaded\n"
     ]
    },
    {
     "data": {
      "text/html": [
       "<table border=\"1\" class=\"dataframe\">\n",
       "  <thead>\n",
       "    <tr style=\"text-align: left;\">\n",
       "      <th>epoch</th>\n",
       "      <th>train_loss</th>\n",
       "      <th>valid_loss</th>\n",
       "      <th>_Accuracy</th>\n",
       "      <th>time</th>\n",
       "    </tr>\n",
       "  </thead>\n",
       "  <tbody>\n",
       "    <tr>\n",
       "      <td>0</td>\n",
       "      <td>0.099216</td>\n",
       "      <td>0.556308</td>\n",
       "      <td>0.855834</td>\n",
       "      <td>00:35</td>\n",
       "    </tr>\n",
       "  </tbody>\n",
       "</table>"
      ],
      "text/plain": [
       "<IPython.core.display.HTML object>"
      ]
     },
     "metadata": {},
     "output_type": "display_data"
    }
   ],
   "source": [
    "model_test(layer = 3, base_model=False, best_model=True,gm16=False)"
   ]
  },
  {
   "cell_type": "code",
   "execution_count": null,
   "metadata": {},
   "outputs": [],
   "source": []
  }
 ],
 "metadata": {
  "kernelspec": {
   "display_name": "Python 3",
   "language": "python",
   "name": "python3"
  },
  "language_info": {
   "codemirror_mode": {
    "name": "ipython",
    "version": 3
   },
   "file_extension": ".py",
   "mimetype": "text/x-python",
   "name": "python",
   "nbconvert_exporter": "python",
   "pygments_lexer": "ipython3",
   "version": "3.8.2"
  }
 },
 "nbformat": 4,
 "nbformat_minor": 4
}
