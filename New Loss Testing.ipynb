{
 "cells": [
  {
   "cell_type": "code",
   "execution_count": 1,
   "metadata": {},
   "outputs": [],
   "source": [
    "import copy\n",
    "from typing import Optional, List\n",
    "\n",
    "from fastai.distributed import *\n",
    "from fastai.vision.all import *\n",
    "\n",
    "import torch\n",
    "import torch.nn.functional as F\n",
    "import torchvision.transforms as T\n",
    "from torch import nn, Tensor\n",
    "from torchvision import transforms\n",
    "\n",
    "from scipy.spatial import distance\n",
    "import numpy as np\n",
    "\n",
    "from models.encoder import EncoderModule\n",
    "from models.backbone import Backbone, NoBackbone"
   ]
  },
  {
   "cell_type": "code",
   "execution_count": 2,
   "metadata": {},
   "outputs": [],
   "source": [
    "from PIL import Image\n",
    "import requests"
   ]
  },
  {
   "cell_type": "code",
   "execution_count": 4,
   "metadata": {},
   "outputs": [],
   "source": [
    "w = width = 32\n",
    "h = height = 32\n",
    "grid_l=2 \n",
    "pf=\"1\"\n",
    "alpha=1\n",
    "\n",
    "transform = T.Compose([\n",
    "T.Resize((h,w)),\n",
    "T.ToTensor(),\n",
    "#T.Normalize([0.485, 0.456, 0.406], [0.485, 0.456, 0.406])\n",
    "])"
   ]
  },
  {
   "cell_type": "code",
   "execution_count": 5,
   "metadata": {},
   "outputs": [
    {
     "name": "stdout",
     "output_type": "stream",
     "text": [
      "Input shape: torch.Size([1, 3, 32, 32])\n"
     ]
    },
    {
     "data": {
      "text/plain": [
       "<matplotlib.image.AxesImage at 0x7ff62c98c880>"
      ]
     },
     "execution_count": 5,
     "metadata": {},
     "output_type": "execute_result"
    },
    {
     "data": {
      "image/png": "[encoded data removed]",
      "text/plain": [
       "<Figure size 432x288 with 2 Axes>"
      ]
     },
     "metadata": {
      "needs_background": "light"
     },
     "output_type": "display_data"
    }
   ],
   "source": [
    "url = 'https://ogden_images.s3.amazonaws.com/www.timesrepublican.com/images/2019/05/02231710/Fox-WEB-1100x739.jpg'\n",
    "url2 = 'https://www.sciencemag.org/sites/default/files/styles/article_main_large/public/elephant_1280p.jpg?itok=UT_i17Yh'\n",
    "im = Image.open(requests.get(url, stream=True).raw)\n",
    "img = transform(im).unsqueeze(0)\n",
    "im2 = Image.open(requests.get(url2, stream=True).raw)\n",
    "img2 = transform(im2).unsqueeze(0)\n",
    "batch= torch.cat((img, img2), 0)\n",
    "print(\"Input shape:\", img.shape)\n",
    "plt.subplot(221)\n",
    "plt.imshow(batch[0].cpu().permute(1, 2, 0))\n",
    "plt.subplot(222)\n",
    "plt.imshow(batch[1].cpu().permute(1, 2, 0))"
   ]
  },
  {
   "cell_type": "code",
   "execution_count": 24,
   "metadata": {},
   "outputs": [],
   "source": [
    "class CuratingOfAttentionLoss(nn.Module):\n",
    "    def __init__(self, width=32, height=32, grid_l=2):\n",
    "        super().__init__()\n",
    "        self.grid_l = grid_l\n",
    "        self.width = width\n",
    "        self.height = height\n",
    "        self.grids_list = self.grids_list(self.width, self.height, self.grid_l)\n",
    "        self.grids_matrix = self.grids_matrix(self.width, self.height, self.grid_l)\n",
    "        \n",
    "        \n",
    "    def grids_list(self, width, height, grid_l): #COMPUTED ONCE BEFORE TRAINING\n",
    "        w = width\n",
    "        h = height\n",
    "        qt_hor_grids = w//grid_l\n",
    "        qt_ver_grids = h//grid_l\n",
    "        qtd_grids = qt_hor_grids*qt_ver_grids\n",
    "        c = 0\n",
    "        grids_list = []\n",
    "        for i in range(qtd_grids):\n",
    "            hor_pos = i//qt_hor_grids\n",
    "            ver_pos = c\n",
    "            c = c+1\n",
    "            grid = [hor_pos,ver_pos]\n",
    "            grids_list.append(grid)\n",
    "            if c == qt_ver_grids:\n",
    "                c=0\n",
    "        return grids_list\n",
    "        \n",
    "        \n",
    "    def grids_matrix(self, width, height, grid_l):\n",
    "\n",
    "        w = width\n",
    "        h = height\n",
    "        len_input_seq = h*w\n",
    "        qt_hor_grids = w//grid_l\n",
    "        qt_ver_grids = h//grid_l\n",
    "\n",
    "\n",
    "        grid_list = []\n",
    "        for i in range(h):\n",
    "            row_grid_list = []\n",
    "            preliminar_ver_grid = i//grid_l\n",
    "            if preliminar_ver_grid != 0:\n",
    "                preliminar_ver_grid = preliminar_ver_grid*qt_hor_grids\n",
    "\n",
    "            for h in range(w):\n",
    "                preliminar_grid = h//grid_l+preliminar_ver_grid\n",
    "                row_grid_list.append(preliminar_grid)\n",
    "\n",
    "            grid_list.append(row_grid_list)\n",
    "        grid_matrix = torch.tensor(np.array(grid_list))\n",
    "\n",
    "        return grid_matrix\n",
    "        \n",
    "        \n",
    "    def img_patches(self, batch, grid_l):\n",
    "        #torch.Tensor.unfold(dimension, size, step)\n",
    "        #slices the images into grid_l*grid_l size patches\n",
    "        patches = batch.data.unfold(1, 3, 3).unfold(2, grid_l, grid_l).unfold(3, grid_l, grid_l)\n",
    "        a, b, c, d, e, f, g = patches.shape\n",
    "        patches = patches.reshape(a, c, d, e, f, g)\n",
    "        #print(patches.shape)\n",
    "        return patches\n",
    "\n",
    "\n",
    "    def grid_gram_matrix(self, patches):\n",
    "\n",
    "        a, b, c, d, e, f = patches.shape\n",
    "        # a=batch size\n",
    "        # b=horizontal patches\n",
    "        # c = vertical patches\n",
    "        # d=number of feature maps\n",
    "        # (e,f)=dimensions of a f. map (N=e*f)\n",
    "\n",
    "        features = patches.reshape(a * b * c, d, e*f)  # resise F_XL into \\hat F_XL\n",
    "        #print(features.shape)\n",
    "        # compute the gram product\n",
    "\n",
    "        G = torch.mm(features[0], features[0].t())\n",
    "\n",
    "        for i in range(1,a*b*c):\n",
    "            g = torch.mm(features[i], features[i].t())\n",
    "            G= torch.cat((G, g), 0)\n",
    "\n",
    "\n",
    "        G = G.div(d * e * f).reshape(a, b, c, d, d)\n",
    "\n",
    "        # we 'normalize' the values of the gram matrix\n",
    "        # by dividing by the number of element in each feature maps.\n",
    "\n",
    "        return G\n",
    "\n",
    "\n",
    "\n",
    "    def gram_dist_matrix(self, batch, grid_l):\n",
    "        patches = self.img_patches(batch, grid_l)\n",
    "        #print(patches.shape)\n",
    "        Grid = self.grid_gram_matrix(patches)\n",
    "        #print(Grid.shape)\n",
    "        bs = batch.shape[0]\n",
    "        #print(bs)\n",
    "        MSE = nn.MSELoss()\n",
    "\n",
    "        mse_grid = []\n",
    "        for k in range(bs):\n",
    "            dist_grid = []\n",
    "            for g in range(len(self.grids_list)):\n",
    "                dist_pair_list = []\n",
    "                for n in range(len(self.grids_list)):\n",
    "                    dist_pair_list.append(MSE(Grid[k][self.grids_list[g][0]][self.grids_list[g][1]], Grid[k][self.grids_list[n][0]][self.grids_list[n][1]]))\n",
    "                dist_grid.append(dist_pair_list)\n",
    "            mse_grid.append(dist_grid)\n",
    "\n",
    "        dist_matrix = torch.tensor(np.array(mse_grid))\n",
    "\n",
    "        for i in range(bs):\n",
    "            dist_matrix[i] = dist_matrix[i].view(dist_matrix[i].size(0), -1)\n",
    "            dist_matrix[i] -= dist_matrix[i].min(1, keepdim=True)[0]\n",
    "            dist_matrix[i] /= dist_matrix[i].max(1, keepdim=True)[0]\n",
    "            dist_matrix[i] = dist_matrix[i].view(1, len(self.grids_list), len(self.grids_list))\n",
    "\n",
    "        return dist_matrix\n",
    "\n",
    "\n",
    "    #######################################3\n",
    "    ########################################3\n",
    "    #######################################33\n",
    "\n",
    "\n",
    "\n",
    "    def penalty_factor(self, dist_matrix, penalty_factor=\"1\", alpha=1):\n",
    "        if penalty_factor == \"1\" or penalty_factor ==\"distraction\":\n",
    "            pf_matrix = ((dist_matrix+1))**alpha\n",
    "            return pf_matrix\n",
    "        if penalty_factor == \"2\" or penalty_factor ==\"misdirection\":\n",
    "            pf_matrix = alpha*((torch.max(dist_matrix)//2)-dist_matrix+0.1)**3\n",
    "            return pf_matrix\n",
    "\n",
    "\n",
    "    def penalty_matrix(self, width, height, grid_matrix, dist_matrix, grid_l):\n",
    "        bs,_,_ = dist_matrix.shape\n",
    "        pep = []\n",
    "        for s in range(bs):\n",
    "            pf_matrix = self.penalty_factor(dist_matrix[s], penalty_factor=\"1\", alpha=1)\n",
    "            w = width\n",
    "            h = height\n",
    "\n",
    "            qt_hor_grids = w//grid_l\n",
    "            qt_ver_grids = h//grid_l\n",
    "            qtd_grids = qt_hor_grids*qt_ver_grids\n",
    "\n",
    "            penalty_mask = []\n",
    "            for i in range(qtd_grids):\n",
    "                ref_column = pf_matrix[i]\n",
    "                p_matrix = grid_matrix.type(torch.FloatTensor)\n",
    "                for j in range(1,len(ref_column)):\n",
    "                    #print(float(j))\n",
    "                    p_matrix[p_matrix==j]=float(ref_column[j])\n",
    "                p_matrix[p_matrix==0]=float(ref_column[0])\n",
    "                penalty_mask.append(p_matrix)\n",
    "\n",
    "            #print(len(penalty_mask))    \n",
    "\n",
    "            penalty_enc = []\n",
    "            for i in range(h):\n",
    "                penalty_row = []\n",
    "                for j in range(w):\n",
    "                    #print(grid_matrix[i,j])\n",
    "                    #print(penalty_mask[grid_matrix[i,j]].shape)\n",
    "                    penalty_row.append(penalty_mask[grid_matrix[i,j]])\n",
    "                    #print(len(penalty_row))\n",
    "                generic_tensor = Tensor(h,w)\n",
    "                penalty_row_tensor = torch.cat(penalty_row, out=generic_tensor)\n",
    "                penalty_enc.append(penalty_row_tensor)\n",
    "                #print(penalty_row_tensor.shape)\n",
    "                #break\n",
    "\n",
    "            b = torch.Tensor(h, w, h, w)\n",
    "            c=torch.cat(penalty_enc, out=b)\n",
    "            c = c.view(h, w, h, w)\n",
    "            pep.append(c)\n",
    "\n",
    "        d = torch.Tensor(bs, h, w, h, w)\n",
    "        penalty_encoding_pattern = torch.cat(pep, out=d)\n",
    "        penalty_encoding_pattern = penalty_encoding_pattern.view(bs, h, w, h, w)\n",
    "\n",
    "        return penalty_encoding_pattern\n",
    "        \n",
    "    def forward(self, batch):\n",
    "        \n",
    "        dist_matrix = self.gram_dist_matrix(batch, self.grid_l)\n",
    "        pnt_matrix = self.penalty_matrix(self.width, self.height, self.grids_matrix, dist_matrix, self.grid_l)\n",
    "        \n",
    "        #Latt = torch.sum(sattn)\n",
    "        \n",
    "        return pnt_matrix#Latt"
   ]
  },
  {
   "cell_type": "code",
   "execution_count": 25,
   "metadata": {},
   "outputs": [],
   "source": [
    "Latt = CuratingOfAttentionLoss(w,h,grid_l)"
   ]
  },
  {
   "cell_type": "code",
   "execution_count": 27,
   "metadata": {},
   "outputs": [],
   "source": [
    "pmtx = Latt(batch)"
   ]
  },
  {
   "cell_type": "code",
   "execution_count": 31,
   "metadata": {},
   "outputs": [
    {
     "data": {
      "text/plain": [
       "<matplotlib.image.AxesImage at 0x7ff6274ab1f0>"
      ]
     },
     "execution_count": 31,
     "metadata": {},
     "output_type": "execute_result"
    },
    {
     "data": {
      "image/png": "[encoded data removed]",
      "text/plain": [
       "<Figure size 432x288 with 4 Axes>"
      ]
     },
     "metadata": {
      "needs_background": "light"
     },
     "output_type": "display_data"
    }
   ],
   "source": [
    "plt.subplot(221)\n",
    "plt.imshow(pmtx[0][15][25])\n",
    "plt.subplot(222)\n",
    "plt.imshow(pmtx[1][15][25])\n",
    "plt.subplot(223)\n",
    "plt.imshow(pmtx[0][0][0])\n",
    "plt.subplot(224)\n",
    "plt.imshow(pmtx[1][0][0])"
   ]
  },
  {
   "cell_type": "code",
   "execution_count": null,
   "metadata": {},
   "outputs": [],
   "source": []
  }
 ],
 "metadata": {
  "kernelspec": {
   "display_name": "Python 3",
   "language": "python",
   "name": "python3"
  },
  "language_info": {
   "codemirror_mode": {
    "name": "ipython",
    "version": 3
   },
   "file_extension": ".py",
   "mimetype": "text/x-python",
   "name": "python",
   "nbconvert_exporter": "python",
   "pygments_lexer": "ipython3",
   "version": "3.8.2"
  }
 },
 "nbformat": 4,
 "nbformat_minor": 4
}
